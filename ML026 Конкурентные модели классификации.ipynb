{
 "cells": [
  {
   "cell_type": "markdown",
   "metadata": {},
   "source": [
    "## Постановка задачи\n",
    "Загрузите данные, приведите их к числовым, заполните пропуски, нормализуйте данные и оптимизируйте память.\n",
    "\n",
    "Разделите выборку на обучающую/проверочную в соотношении 80/20.\n",
    "\n",
    "Постройте 2 модели - kNN по 100 соседей и множественную логистическую регрессию - по наиболее оптимальным наборам параметров (для каждой модели), используйте для этого перекрестную проверку GridSearchCV.\n",
    "\n",
    "Проведите предсказание и проверьте качество через каппа-метрику.\n",
    "\n",
    "Данные:\n",
    "* https://video.ittensive.com/machine-learning/prudential/train.csv.gz\n",
    "\n",
    "Соревнование: https://www.kaggle.com/c/prudential-life-insurance-assessment/\n",
    "\n",
    "© ITtensive, 2020"
   ]
  },
  {
   "cell_type": "markdown",
   "metadata": {},
   "source": [
    "### Подключение библиотек"
   ]
  },
  {
   "cell_type": "code",
   "execution_count": 1,
   "metadata": {},
   "outputs": [],
   "source": [
    "import pandas as pd\n",
    "import numpy as np\n",
    "from sklearn.model_selection import train_test_split\n",
    "from sklearn.metrics import cohen_kappa_score, confusion_matrix, make_scorer\n",
    "from sklearn.linear_model import LogisticRegression\n",
    "from sklearn.neighbors import KNeighborsClassifier\n",
    "from sklearn.model_selection import GridSearchCV, cross_val_score\n",
    "from sklearn import preprocessing"
   ]
  },
  {
   "cell_type": "markdown",
   "metadata": {},
   "source": [
    "### Загрузка данных"
   ]
  },
  {
   "cell_type": "code",
   "execution_count": 2,
   "metadata": {},
   "outputs": [
    {
     "name": "stdout",
     "output_type": "stream",
     "text": [
      "<class 'pandas.core.frame.DataFrame'>\n",
      "RangeIndex: 59381 entries, 0 to 59380\n",
      "Columns: 128 entries, Id to Response\n",
      "dtypes: float64(18), int64(109), object(1)\n",
      "memory usage: 58.0+ MB\n",
      "None\n"
     ]
    }
   ],
   "source": [
    "data = pd.read_csv(\"https://video.ittensive.com/machine-learning/prudential/train.csv.gz\")\n",
    "print (data.info())"
   ]
  },
  {
   "cell_type": "markdown",
   "metadata": {},
   "source": [
    "### Предобработка данных"
   ]
  },
  {
   "cell_type": "code",
   "execution_count": 3,
   "metadata": {},
   "outputs": [],
   "source": [
    "data[\"Product_Info_2_1\"] = data[\"Product_Info_2\"].str.slice(0, 1)\n",
    "data[\"Product_Info_2_2\"] = pd.to_numeric(data[\"Product_Info_2\"].str.slice(1, 2))\n",
    "data.drop(labels=[\"Product_Info_2\"], axis=1, inplace=True)\n",
    "for l in data[\"Product_Info_2_1\"].unique():\n",
    "    data[\"Product_Info_2_1\" + l] = data[\"Product_Info_2_1\"].isin([l]).astype(\"int8\")\n",
    "data.drop(labels=[\"Product_Info_2_1\"], axis=1, inplace=True)\n",
    "data.fillna(value=-1, inplace=True)"
   ]
  },
  {
   "cell_type": "markdown",
   "metadata": {},
   "source": [
    "### Общий набор столбцов для расчета"
   ]
  },
  {
   "cell_type": "code",
   "execution_count": 4,
   "metadata": {},
   "outputs": [
    {
     "name": "stdout",
     "output_type": "stream",
     "text": [
      "['Wt', 'Ht', 'Ins_Age', 'BMI', 'Insurance_History_1', 'Insurance_History_2', 'Insurance_History_3', 'Insurance_History_4', 'Insurance_History_5', 'Insurance_History_7', 'Insurance_History_8', 'Insurance_History_9', 'Medical_Keyword_1', 'Medical_Keyword_2', 'Medical_Keyword_3', 'Medical_Keyword_4', 'Medical_Keyword_5', 'Medical_Keyword_6', 'Medical_Keyword_7', 'Medical_Keyword_8', 'Medical_Keyword_9', 'Medical_Keyword_10', 'Medical_Keyword_11', 'Medical_Keyword_12', 'Medical_Keyword_13', 'Medical_Keyword_14', 'Medical_Keyword_15', 'Medical_Keyword_16', 'Medical_Keyword_17', 'Medical_Keyword_18', 'Medical_Keyword_19', 'Medical_Keyword_20', 'Medical_Keyword_21', 'Medical_Keyword_22', 'Medical_Keyword_23', 'Medical_Keyword_24', 'Medical_Keyword_25', 'Medical_Keyword_26', 'Medical_Keyword_27', 'Medical_Keyword_28', 'Medical_Keyword_29', 'Medical_Keyword_30', 'Medical_Keyword_31', 'Medical_Keyword_32', 'Medical_Keyword_33', 'Medical_Keyword_34', 'Medical_Keyword_35', 'Medical_Keyword_36', 'Medical_Keyword_37', 'Medical_Keyword_38', 'Medical_Keyword_39', 'Medical_Keyword_40', 'Medical_Keyword_41', 'Medical_Keyword_42', 'Medical_Keyword_43', 'Medical_Keyword_44', 'Medical_Keyword_45', 'Medical_Keyword_46', 'Medical_Keyword_47', 'Medical_Keyword_48', 'Family_Hist_1', 'Family_Hist_2', 'Family_Hist_3', 'Family_Hist_4', 'Family_Hist_5', 'Medical_History_1', 'Medical_History_2', 'Medical_History_3', 'Medical_History_4', 'Medical_History_5', 'Medical_History_6', 'Medical_History_7', 'Medical_History_8', 'Medical_History_9', 'Medical_History_10', 'Medical_History_11', 'Medical_History_12', 'Medical_History_13', 'Medical_History_14', 'Medical_History_15', 'Medical_History_16', 'Medical_History_17', 'Medical_History_18', 'Medical_History_19', 'Medical_History_20', 'Medical_History_21', 'Medical_History_22', 'Medical_History_23', 'Medical_History_24', 'Medical_History_25', 'Medical_History_26', 'Medical_History_27', 'Medical_History_28', 'Medical_History_29', 'Medical_History_30', 'Medical_History_31', 'Medical_History_32', 'Medical_History_33', 'Medical_History_34', 'Medical_History_35', 'Medical_History_36', 'Medical_History_37', 'Medical_History_38', 'Medical_History_39', 'Medical_History_40', 'Medical_History_41', 'Product_Info_1', 'Product_Info_3', 'Product_Info_4', 'Product_Info_5', 'Product_Info_6', 'Product_Info_7', 'Product_Info_2_2', 'Product_Info_2_1D', 'Product_Info_2_1A', 'Product_Info_2_1E', 'Product_Info_2_1C', 'Product_Info_2_1B']\n"
     ]
    }
   ],
   "source": [
    "columns_groups = [\"Insurance_History\", \"InsurеdInfo\", \"Medical_Keyword\",\n",
    "                  \"Family_Hist\", \"Medical_History\", \"Product_Info\"]\n",
    "columns = [\"Wt\", \"Ht\", \"Ins_Age\", \"BMI\"]\n",
    "for cg in columns_groups:\n",
    "    columns.extend(data.columns[data.columns.str.startswith(cg)])\n",
    "print (columns)"
   ]
  },
  {
   "cell_type": "markdown",
   "metadata": {},
   "source": [
    "### Нормализация данных"
   ]
  },
  {
   "cell_type": "code",
   "execution_count": 5,
   "metadata": {},
   "outputs": [],
   "source": [
    "scaler = preprocessing.StandardScaler()\n",
    "data_transformed = pd.DataFrame(scaler.fit_transform(pd.DataFrame(data,\n",
    "                                                     columns=columns)))\n",
    "columns_transformed = data_transformed.columns\n",
    "data_transformed[\"Response\"] = data[\"Response\"]"
   ]
  },
  {
   "cell_type": "markdown",
   "metadata": {},
   "source": [
    "### Оптимизация памяти"
   ]
  },
  {
   "cell_type": "code",
   "execution_count": 6,
   "metadata": {},
   "outputs": [],
   "source": [
    "def reduce_mem_usage (df):\n",
    "    start_mem = df.memory_usage().sum() / 1024**2    \n",
    "    for col in df.columns:\n",
    "        col_type = df[col].dtypes\n",
    "        if str(col_type)[:5] == \"float\":\n",
    "            c_min = df[col].min()\n",
    "            c_max = df[col].max()\n",
    "            if c_min > np.finfo(\"f2\").min and c_max < np.finfo(\"f2\").max:\n",
    "                df[col] = df[col].astype(np.float16)\n",
    "            elif c_min > np.finfo(\"f4\").min and c_max < np.finfo(\"f4\").max:\n",
    "                df[col] = df[col].astype(np.float32)\n",
    "            else:\n",
    "                df[col] = df[col].astype(np.float64)\n",
    "        elif str(col_type)[:3] == \"int\":\n",
    "            c_min = df[col].min()\n",
    "            c_max = df[col].max()\n",
    "            if c_min > np.iinfo(\"i1\").min and c_max < np.iinfo(\"i1\").max:\n",
    "                df[col] = df[col].astype(np.int8)\n",
    "            elif c_min > np.iinfo(\"i2\").min and c_max < np.iinfo(\"i2\").max:\n",
    "                df[col] = df[col].astype(np.int16)\n",
    "            elif c_min > np.iinfo(\"i4\").min and c_max < np.iinfo(\"i4\").max:\n",
    "                df[col] = df[col].astype(np.int32)\n",
    "            elif c_min > np.iinfo(\"i8\").min and c_max < np.iinfo(\"i8\").max:\n",
    "                df[col] = df[col].astype(np.int64)\n",
    "        else:\n",
    "            df[col] = df[col].astype(\"category\")\n",
    "    end_mem = df.memory_usage().sum() / 1024**2\n",
    "    print('Потребление памяти меньше на', round(start_mem - end_mem, 2), 'Мб (минус', round(100 * (start_mem - end_mem) / start_mem, 1), '%)')\n",
    "    return df"
   ]
  },
  {
   "cell_type": "code",
   "execution_count": 7,
   "metadata": {},
   "outputs": [
    {
     "name": "stdout",
     "output_type": "stream",
     "text": [
      "Потребление памяти меньше на 40.49 Мб (минус 75.1 %)\n",
      "<class 'pandas.core.frame.DataFrame'>\n",
      "RangeIndex: 59381 entries, 0 to 59380\n",
      "Columns: 119 entries, 0 to Response\n",
      "dtypes: float16(118), int8(1)\n",
      "memory usage: 13.4 MB\n",
      "None\n"
     ]
    }
   ],
   "source": [
    "data_transformed = reduce_mem_usage(data_transformed)\n",
    "print (data_transformed.info())"
   ]
  },
  {
   "cell_type": "markdown",
   "metadata": {},
   "source": [
    "### Разделение данных\n",
    "Преобразуем выборки в отдельные наборы данных"
   ]
  },
  {
   "cell_type": "code",
   "execution_count": 8,
   "metadata": {},
   "outputs": [
    {
     "name": "stdout",
     "output_type": "stream",
     "text": [
      "              0         1         2         3         4         5         6  \\\n",
      "58290 -0.607422  0.269287  0.441162 -0.872559  0.611816 -0.169434  0.862305   \n",
      "9499   0.661133 -0.465576  0.895020  1.226562 -1.634766 -0.169434  0.862305   \n",
      "20506 -0.278564 -0.220581  1.046875 -0.178467 -1.634766 -0.169434  0.862305   \n",
      "28610  1.718750  1.249023 -0.240112  1.178711  0.611816 -0.169434 -1.159180   \n",
      "8283  -0.043610  0.269287 -0.391602 -0.187134  0.611816 -0.169434 -1.159180   \n",
      "\n",
      "              7         8         9  ...       109       110       111  \\\n",
      "58290  0.043671  0.861328 -0.928711  ... -0.083679  0.441650 -0.149292   \n",
      "9499  -1.013672  0.864258 -0.928711  ... -0.083679  0.441650 -0.149292   \n",
      "20506 -1.013672  0.861328 -0.928711  ... -0.083679  0.441650 -0.149292   \n",
      "28610  1.100586 -1.156250  1.130859  ... -0.083679  0.441650 -0.149292   \n",
      "8283   1.100586 -1.156250  1.130859  ... -0.083679 -2.263672 -0.149292   \n",
      "\n",
      "            112       113       114       115       116      117  Response  \n",
      "58290  0.266846  0.750977 -0.623535 -0.215942 -0.128906 -0.14209         6  \n",
      "9499  -1.133789  0.750977 -0.623535 -0.215942 -0.128906 -0.14209         6  \n",
      "20506 -0.666992 -1.332031  1.604492 -0.215942 -0.128906 -0.14209         6  \n",
      "28610 -0.200073  0.750977 -0.623535 -0.215942 -0.128906 -0.14209         5  \n",
      "8283  -1.133789 -1.332031 -0.623535  4.628906 -0.128906 -0.14209         8  \n",
      "\n",
      "[5 rows x 119 columns]\n"
     ]
    }
   ],
   "source": [
    "data_train, data_test = train_test_split(data_transformed,\n",
    "                                         test_size=0.2)\n",
    "data_train = pd.DataFrame(data_train)\n",
    "data_test = pd.DataFrame(data_test)\n",
    "print (data_train.head())"
   ]
  },
  {
   "cell_type": "markdown",
   "metadata": {},
   "source": [
    "### Логистическая регрессия\n",
    "Найдем оптимальный набор столбцов и рассчитаем по нему модель логистической регрессии"
   ]
  },
  {
   "cell_type": "code",
   "execution_count": 9,
   "metadata": {
    "scrolled": true
   },
   "outputs": [],
   "source": [
    "def regression_model (columns, df, fit=True):\n",
    "    x = pd.DataFrame(df, columns=columns)\n",
    "    model = LogisticRegression(max_iter=1000)\n",
    "    if fit:\n",
    "        model.fit(x, y = df[\"Response\"])\n",
    "    return model\n",
    "\n",
    "def model_score (columns, df_train, model_func):\n",
    "    x = pd.DataFrame(df_train, columns=columns)\n",
    "    model = model_func(columns, df_train, False)\n",
    "    cv_grid = GridSearchCV(model, {}, cv=5, n_jobs=2,\n",
    "                scoring=make_scorer(cohen_kappa_score))\n",
    "    cv_grid.fit(x, df_train[\"Response\"])\n",
    "    return cv_grid.best_score_\n",
    "\n",
    "def find_opt_columns (data_train, model_func):\n",
    "    kappa_score_opt = 0\n",
    "    columns_opt = []\n",
    "    for col in columns_transformed:\n",
    "        kappa_score = model_score([col], data_train, model_func)\n",
    "        if kappa_score > kappa_score_opt:\n",
    "            columns_opt = [col]\n",
    "            kappa_score_opt = kappa_score\n",
    "    for col in columns_transformed:\n",
    "        if col not in columns_opt:\n",
    "            columns_opt.append(col)\n",
    "            kappa_score = model_score(columns_opt, data_train, model_func)\n",
    "            if kappa_score < kappa_score_opt:\n",
    "                columns_opt.pop()\n",
    "            else:\n",
    "                kappa_score_opt = kappa_score\n",
    "    return columns_opt, kappa_score_opt"
   ]
  },
  {
   "cell_type": "code",
   "execution_count": 10,
   "metadata": {
    "scrolled": true
   },
   "outputs": [
    {
     "name": "stdout",
     "output_type": "stream",
     "text": [
      "0.3490832174042079 [3, 0, 2, 4, 5, 6, 8, 9, 14, 15, 20, 22, 23, 26, 28, 29, 34, 35, 37, 41, 44, 46, 49, 50, 52, 54, 56, 57, 59, 61, 62, 63, 66, 67, 68, 69, 71, 73, 74, 75, 76, 77, 79, 82, 84, 85, 86, 88, 91, 92, 94, 96, 98, 99, 102, 104, 105, 106, 107, 108, 109, 110, 111, 112, 113, 114, 116]\n"
     ]
    }
   ],
   "source": [
    "columns_opt_logr, kappa_score_opt = find_opt_columns(data_train,\n",
    "                                                    regression_model)\n",
    "model_logr = regression_model(columns_opt_logr, data_train)\n",
    "print (kappa_score_opt, columns_opt_logr)"
   ]
  },
  {
   "cell_type": "markdown",
   "metadata": {},
   "source": [
    "### kNN\n",
    "Посчитаем оптимальную модель для kNN"
   ]
  },
  {
   "cell_type": "code",
   "execution_count": 11,
   "metadata": {},
   "outputs": [],
   "source": [
    "def knn_model (columns, df_train, fit=True):\n",
    "    y = data_train[\"Response\"]\n",
    "    x = pd.DataFrame(df_train, columns=columns)\n",
    "    model = KNeighborsClassifier(n_neighbors=100)\n",
    "    if fit:\n",
    "        model.fit(x, y)\n",
    "    return model"
   ]
  },
  {
   "cell_type": "code",
   "execution_count": 12,
   "metadata": {},
   "outputs": [
    {
     "name": "stdout",
     "output_type": "stream",
     "text": [
      "0.3669549281916988 [3, 2, 5, 14, 16, 20, 26, 34, 49, 68, 69, 75, 79, 87, 91, 94, 99, 104]\n"
     ]
    }
   ],
   "source": [
    "columns_opt_knn, kappa_score_opt = find_opt_columns(data_train,\n",
    "                                                    knn_model)\n",
    "model_knn = knn_model(columns_opt_knn, data_train)\n",
    "print (kappa_score_opt, columns_opt_knn)"
   ]
  },
  {
   "cell_type": "markdown",
   "metadata": {},
   "source": [
    "### Предсказание данных и оценка модели"
   ]
  },
  {
   "cell_type": "code",
   "execution_count": 13,
   "metadata": {},
   "outputs": [],
   "source": [
    "x_test = pd.DataFrame(data_test, columns=columns_opt_logr)\n",
    "data_test[\"target_logr\"] = model_logr.predict(x_test)\n",
    "x_test = pd.DataFrame(data_test, columns=columns_opt_knn)\n",
    "data_test[\"target_knn\"] = model_knn.predict(x_test)"
   ]
  },
  {
   "cell_type": "code",
   "execution_count": 14,
   "metadata": {},
   "outputs": [
    {
     "name": "stdout",
     "output_type": "stream",
     "text": [
      "Логистическая регрессия: 0.487\n",
      "kNN, 100: 0.463\n"
     ]
    }
   ],
   "source": [
    "print (\"Логистическая регрессия:\",\n",
    "      round(cohen_kappa_score(data_test[\"target_logr\"],\n",
    "                data_test[\"Response\"], weights=\"quadratic\"), 3))\n",
    "print (\"kNN, 100:\",\n",
    "      round(cohen_kappa_score(data_test[\"target_knn\"],\n",
    "                data_test[\"Response\"], weights=\"quadratic\"), 3))"
   ]
  },
  {
   "cell_type": "markdown",
   "metadata": {},
   "source": [
    "### Матрица неточностей"
   ]
  },
  {
   "cell_type": "code",
   "execution_count": 15,
   "metadata": {},
   "outputs": [
    {
     "name": "stdout",
     "output_type": "stream",
     "text": [
      "Логистическая регрессия:\n",
      " [[ 294  162   12    6   87  142   65   24]\n",
      " [ 190  300   10    2  111  133   24   25]\n",
      " [   3   13   21    3    7    5    2    0]\n",
      " [  15   14   20   82    4   48    6    7]\n",
      " [ 104  179   19    2  298  113   48   12]\n",
      " [ 247  266  110  148  291  956  287  217]\n",
      " [ 106   90    1    2   78  235  421   74]\n",
      " [ 309  286   12   37  211  581  722 3578]]\n",
      "kNN:\n",
      " [[ 190  128    7    6   42  108   38    9]\n",
      " [ 243  341   12    4  125  132   32   33]\n",
      " [   0    0    0    0    0    0    0    0]\n",
      " [   3    9    4   32    1   28    0    8]\n",
      " [  56  125   34    2  321   92   13    6]\n",
      " [ 298  290  133  201  307 1084  283  202]\n",
      " [ 163  142    4    5   97  283  602  155]\n",
      " [ 315  275   11   32  194  486  607 3524]]\n"
     ]
    }
   ],
   "source": [
    "print (\"Логистическая регрессия:\\n\",\n",
    "      confusion_matrix(data_test[\"target_logr\"], data_test[\"Response\"]))\n",
    "print (\"kNN:\\n\",\n",
    "      confusion_matrix(data_test[\"target_knn\"], data_test[\"Response\"]))"
   ]
  }
 ],
 "metadata": {
  "kernelspec": {
   "display_name": "Python 3 (ipykernel)",
   "language": "python",
   "name": "python3"
  },
  "language_info": {
   "codemirror_mode": {
    "name": "ipython",
    "version": 3
   },
   "file_extension": ".py",
   "mimetype": "text/x-python",
   "name": "python",
   "nbconvert_exporter": "python",
   "pygments_lexer": "ipython3",
   "version": "3.10.4"
  }
 },
 "nbformat": 4,
 "nbformat_minor": 2
}
