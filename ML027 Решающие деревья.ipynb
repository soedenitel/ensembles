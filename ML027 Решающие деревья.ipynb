{
 "cells": [
  {
   "cell_type": "markdown",
   "id": "8d1335c1",
   "metadata": {},
   "source": [
    "## Постановка задачи\n",
    "Загрузим данные, приведем их к числовым, заполним пропуски, нормализуем данные и оптимизируем память.\n",
    "\n",
    "Разделим выборку на обучающую/проверочную в соотношении 80/20.\n",
    "\n",
    "Построим несколько моделей дерева решений, найдем оптимальную через перекрестную валидацию (CV).\n",
    "\n",
    "Проведем предсказание и проверим качество через каппа-метрику.\n",
    "\n",
    "Данные:\n",
    "* https://video.ittensive.com/machine-learning/prudential/train.csv.gz\n",
    "\n",
    "Соревнование: https://www.kaggle.com/c/prudential-life-insurance-assessment/\n",
    "\n",
    "© ITtensive, 2020"
   ]
  },
  {
   "cell_type": "code",
   "execution_count": 1,
   "id": "ca0a2fd8",
   "metadata": {},
   "outputs": [],
   "source": [
    "GRAIN = 11\n",
    "import pandas as pd\n",
    "import numpy as np\n",
    "from sklearn.model_selection import train_test_split\n",
    "from sklearn.metrics import cohen_kappa_score, confusion_matrix, make_scorer\n",
    "from sklearn.tree import DecisionTreeClassifier, export_graphviz\n",
    "from sklearn.model_selection import GridSearchCV, cross_val_score\n",
    "from sklearn import preprocessing\n",
    "from IPython.display import SVG, display\n",
    "from graphviz import Source\n",
    "from etl_utils import reduce_mem_usage, show_inf_and_na, inf_and_na_columns\n",
    "import os\n",
    "\n",
    "\n",
    "os.environ[\"PATH\"] += (os.pathsep + 'C:/Program Files/Graphviz/bin/')\n",
    "pd.set_option('display.max_columns', 200)\n",
    "\n",
    "data = pd.read_csv(\"https://video.ittensive.com/machine-learning/prudential/train.csv.gz\")\n",
    "\n",
    "data['Product_Info_2_1'] = data['Product_Info_2'].str.slice(0, 1)\n",
    "data['Product_Info_2_2'] = pd.to_numeric(data['Product_Info_2'].str.slice(1, 2))\n",
    "data = data.drop('Product_Info_2', axis='columns')\n",
    "\n",
    "onehot_df = pd.get_dummies(data['Product_Info_2_1'])\n",
    "onehot_df.columns = ['Product_Info_2_1' + column for column in onehot_df.columns]\n",
    "data = pd.merge(left=data, right=onehot_df, left_index=True, right_index=True).drop('Product_Info_2_1', axis=1).fillna(-1)\n",
    "del onehot_df"
   ]
  },
  {
   "cell_type": "markdown",
   "id": "a30cefff",
   "metadata": {},
   "source": [
    "### Набор столбцов для расчета\n",
    "\"Облегченный\" вариант для визуализации дерева"
   ]
  },
  {
   "cell_type": "code",
   "execution_count": 2,
   "id": "72ff374f",
   "metadata": {},
   "outputs": [],
   "source": [
    "columns = [\"Wt\", \"Ht\", \"Ins_Age\", \"BMI\"]"
   ]
  },
  {
   "cell_type": "markdown",
   "id": "d9284df1",
   "metadata": {},
   "source": [
    "### Нормализация данных"
   ]
  },
  {
   "cell_type": "code",
   "execution_count": 3,
   "id": "2d4b205b",
   "metadata": {},
   "outputs": [
    {
     "name": "stdout",
     "output_type": "stream",
     "text": [
      "Потребление памяти меньше на 1.76 Мб (-77.5%)\n",
      "<class 'pandas.core.frame.DataFrame'>\n",
      "RangeIndex: 59381 entries, 0 to 59380\n",
      "Data columns (total 5 columns):\n",
      " #   Column    Non-Null Count  Dtype  \n",
      "---  ------    --------------  -----  \n",
      " 0   0         59381 non-null  float16\n",
      " 1   1         59381 non-null  float16\n",
      " 2   2         59381 non-null  float16\n",
      " 3   3         59381 non-null  float16\n",
      " 4   Response  59381 non-null  int8   \n",
      "dtypes: float16(4), int8(1)\n",
      "memory usage: 522.0 KB\n"
     ]
    }
   ],
   "source": [
    "scaler = preprocessing.StandardScaler()\n",
    "data_transformed = pd.DataFrame(scaler.fit_transform(data[columns]))\n",
    "columns_transformed = data_transformed.columns\n",
    "data_transformed['Response'] = data['Response']\n",
    "data_transformed = reduce_mem_usage(data_transformed)\n",
    "data_transformed.info()"
   ]
  },
  {
   "cell_type": "markdown",
   "id": "0dca9874",
   "metadata": {},
   "source": [
    "### Разделение данных\n",
    "Преобразуем выборки в отдельные наборы данных"
   ]
  },
  {
   "cell_type": "code",
   "execution_count": 4,
   "id": "038bfaa8",
   "metadata": {},
   "outputs": [
    {
     "data": {
      "text/html": [
       "<div>\n",
       "<style scoped>\n",
       "    .dataframe tbody tr th:only-of-type {\n",
       "        vertical-align: middle;\n",
       "    }\n",
       "\n",
       "    .dataframe tbody tr th {\n",
       "        vertical-align: top;\n",
       "    }\n",
       "\n",
       "    .dataframe thead th {\n",
       "        text-align: right;\n",
       "    }\n",
       "</style>\n",
       "<table border=\"1\" class=\"dataframe\">\n",
       "  <thead>\n",
       "    <tr style=\"text-align: right;\">\n",
       "      <th></th>\n",
       "      <th>0</th>\n",
       "      <th>1</th>\n",
       "      <th>2</th>\n",
       "      <th>3</th>\n",
       "      <th>Response</th>\n",
       "    </tr>\n",
       "  </thead>\n",
       "  <tbody>\n",
       "    <tr>\n",
       "      <th>40387</th>\n",
       "      <td>-0.090637</td>\n",
       "      <td>1.249023</td>\n",
       "      <td>-0.618652</td>\n",
       "      <td>-0.786133</td>\n",
       "      <td>8</td>\n",
       "    </tr>\n",
       "    <tr>\n",
       "      <th>17090</th>\n",
       "      <td>-0.513672</td>\n",
       "      <td>-0.220581</td>\n",
       "      <td>0.062622</td>\n",
       "      <td>-0.481445</td>\n",
       "      <td>7</td>\n",
       "    </tr>\n",
       "    <tr>\n",
       "      <th>21687</th>\n",
       "      <td>0.426270</td>\n",
       "      <td>1.003906</td>\n",
       "      <td>1.046875</td>\n",
       "      <td>-0.081970</td>\n",
       "      <td>8</td>\n",
       "    </tr>\n",
       "    <tr>\n",
       "      <th>40073</th>\n",
       "      <td>0.567383</td>\n",
       "      <td>1.003906</td>\n",
       "      <td>1.878906</td>\n",
       "      <td>0.075378</td>\n",
       "      <td>6</td>\n",
       "    </tr>\n",
       "    <tr>\n",
       "      <th>3408</th>\n",
       "      <td>-0.395996</td>\n",
       "      <td>-0.220581</td>\n",
       "      <td>0.516602</td>\n",
       "      <td>-0.329834</td>\n",
       "      <td>7</td>\n",
       "    </tr>\n",
       "  </tbody>\n",
       "</table>\n",
       "</div>"
      ],
      "text/plain": [
       "              0         1         2         3  Response\n",
       "40387 -0.090637  1.249023 -0.618652 -0.786133         8\n",
       "17090 -0.513672 -0.220581  0.062622 -0.481445         7\n",
       "21687  0.426270  1.003906  1.046875 -0.081970         8\n",
       "40073  0.567383  1.003906  1.878906  0.075378         6\n",
       "3408  -0.395996 -0.220581  0.516602 -0.329834         7"
      ]
     },
     "execution_count": 4,
     "metadata": {},
     "output_type": "execute_result"
    }
   ],
   "source": [
    "data_train, data_test = train_test_split(data_transformed, test_size=.2, random_state=GRAIN)\n",
    "data_train.head()"
   ]
  },
  {
   "cell_type": "markdown",
   "id": "0140e853",
   "metadata": {},
   "source": [
    "### Дерево решений\n",
    "Минимальное число \"одинаковых\" значений для ветвления - 10"
   ]
  },
  {
   "cell_type": "code",
   "execution_count": 5,
   "id": "56448b05",
   "metadata": {},
   "outputs": [],
   "source": [
    "x = data_train[columns_transformed]\n",
    "model = DecisionTreeClassifier(random_state=GRAIN, min_samples_leaf=10).fit(x, data_train['Response'])"
   ]
  },
  {
   "cell_type": "markdown",
   "id": "78c68cca",
   "metadata": {},
   "source": [
    "### Визуализация дерева\n",
    "Доступно несколько форматов вывода, большой SVG выводится в Jupyter Notebook сложнее, поэтому используем PNG.\n",
    "\n",
    "В качестве названий параметров передаем исходный список."
   ]
  },
  {
   "cell_type": "code",
   "execution_count": 6,
   "id": "6d3392c1",
   "metadata": {},
   "outputs": [
    {
     "name": "stderr",
     "output_type": "stream",
     "text": [
      "dot: graph is too large for cairo-renderer bitmaps. Scaling by 0.101773 to fit\r\n"
     ]
    }
   ],
   "source": [
    "graph = Source(export_graphviz(\n",
    "    model, out_file=None, feature_names=columns, filled=True,\n",
    "    class_names=data_train['Response'].unique().astype('str')\n",
    "))\n",
    "\n",
    "with open('tree.png', 'wb') as f:\n",
    "    f.write(graph.pipe(format='png'))"
   ]
  },
  {
   "cell_type": "markdown",
   "id": "eb202d00",
   "metadata": {},
   "source": [
    "### Влияние признаков\n",
    "Выведем долю влияния признаков на конечный ответ в дерева"
   ]
  },
  {
   "cell_type": "code",
   "execution_count": 7,
   "id": "685b4239",
   "metadata": {},
   "outputs": [
    {
     "data": {
      "text/plain": [
       "array([0.14940619, 0.03979557, 0.26352872, 0.54726951])"
      ]
     },
     "execution_count": 7,
     "metadata": {},
     "output_type": "execute_result"
    }
   ],
   "source": [
    "model.feature_importances_"
   ]
  },
  {
   "cell_type": "markdown",
   "id": "a4b145de",
   "metadata": {},
   "source": [
    "### Перекрестная проверка (CV)\n",
    "Разбиваем обучающую выборку еще на k (часто 5) частей, на каждой части данных обучаем модель. Затем проверяем 1-ю, 2-ю, 3-ю, 4-ю части на 5; 1-ю, 2-ю, 3-ю, 5-ю части на 4 и т.д.\n",
    "\n",
    "В итоге обучение пройдет весь набор данных, и каждая часть набора будет проверена на всех оставшихся (перекрестным образом).\n",
    "\n",
    "Перекрестная проверка используется для оптимизации параметров исходной модели - решающего дерева в данном случае. Зададим несколько параметров для перебора и поиска самой точной модели.\n",
    "\n",
    "Для проверки будем использовать каппа-метрику."
   ]
  },
  {
   "cell_type": "code",
   "execution_count": 8,
   "id": "dfcd5689",
   "metadata": {},
   "outputs": [
    {
     "name": "stdout",
     "output_type": "stream",
     "text": [
      "Fitting 5 folds for each of 2400 candidates, totalling 12000 fits\n"
     ]
    },
    {
     "data": {
      "text/plain": [
       "GridSearchCV(cv=5,\n",
       "             estimator=DecisionTreeClassifier(min_samples_leaf=10,\n",
       "                                              random_state=11),\n",
       "             n_jobs=-1,\n",
       "             param_grid={'max_depth': range(10, 20),\n",
       "                         'max_features': range(1, 4),\n",
       "                         'min_samples_leaf': range(20, 100)},\n",
       "             scoring=make_scorer(cohen_kappa_score), verbose=True)"
      ]
     },
     "execution_count": 8,
     "metadata": {},
     "output_type": "execute_result"
    }
   ],
   "source": [
    "trea_params = {\n",
    "    'max_depth': range(10, 20),\n",
    "    'max_features': range(1, len(columns_transformed)),\n",
    "    'min_samples_leaf': range(20, 100)\n",
    "}\n",
    "\n",
    "tree_grid = GridSearchCV(model, trea_params, cv=5, n_jobs=-1, verbose=True, scoring=make_scorer(cohen_kappa_score))\n",
    "tree_grid.fit(x, data_train['Response'])"
   ]
  },
  {
   "cell_type": "markdown",
   "id": "0f9fabfa",
   "metadata": {},
   "source": [
    "Выведем самые оптимальные параметры и построим итоговую модель"
   ]
  },
  {
   "cell_type": "code",
   "execution_count": 9,
   "id": "1b3b6463",
   "metadata": {},
   "outputs": [
    {
     "name": "stdout",
     "output_type": "stream",
     "text": [
      "{'max_depth': 10, 'max_features': 3, 'min_samples_leaf': 65}\n"
     ]
    },
    {
     "data": {
      "text/plain": [
       "DecisionTreeClassifier(max_depth=10, max_features=3, min_samples_leaf=65,\n",
       "                       random_state=11)"
      ]
     },
     "execution_count": 9,
     "metadata": {},
     "output_type": "execute_result"
    }
   ],
   "source": [
    "print(tree_grid.best_params_)\n",
    "model = DecisionTreeClassifier(\n",
    "    random_state=GRAIN,\n",
    "    min_samples_leaf=tree_grid.best_params_['min_samples_leaf'],\n",
    "    max_features=tree_grid.best_params_['max_features'],\n",
    "    max_depth=tree_grid.best_params_['max_depth']\n",
    ")\n",
    "model.fit(x, data_train['Response'])"
   ]
  },
  {
   "cell_type": "markdown",
   "id": "59d50a5d",
   "metadata": {},
   "source": [
    "### Предсказание данных и оценка модели"
   ]
  },
  {
   "cell_type": "code",
   "execution_count": 10,
   "id": "3a8ca238",
   "metadata": {},
   "outputs": [],
   "source": [
    "data_test['target'] = model.predict(data_test[columns_transformed])"
   ]
  },
  {
   "cell_type": "markdown",
   "id": "4faf044d",
   "metadata": {},
   "source": [
    "Кластеризация дает 0.192, kNN(100) - 0.3, лог. регрессия - 0.512/0.496, SVM - 0.95"
   ]
  },
  {
   "cell_type": "code",
   "execution_count": 11,
   "id": "914841b5",
   "metadata": {},
   "outputs": [
    {
     "name": "stdout",
     "output_type": "stream",
     "text": [
      "Решающее дерево: 0.289\n"
     ]
    }
   ],
   "source": [
    "print(\"Решающее дерево:\", round(cohen_kappa_score(data_test['target'], data_test['Response'], weights='quadratic'), 3))"
   ]
  },
  {
   "cell_type": "markdown",
   "id": "68c78bf9",
   "metadata": {},
   "source": [
    "### Матрица неточностей"
   ]
  },
  {
   "cell_type": "code",
   "execution_count": 12,
   "id": "aa3da180",
   "metadata": {},
   "outputs": [
    {
     "name": "stdout",
     "output_type": "stream",
     "text": [
      "Решающее дерево:\n",
      " [[ 149   80    4    4   35  102   71   63]\n",
      " [  92  172    6    2   59   32   15   10]\n",
      " [   0    0    0    0    0    0    0    0]\n",
      " [   0    0    0    0    0    0    0    0]\n",
      " [ 117  150   38    0  374  141   11    8]\n",
      " [ 269  284   52   38  236  736  370  213]\n",
      " [ 131  122   17   25   88  266  289  173]\n",
      " [ 480  499   85  247  272  959  806 3485]]\n"
     ]
    }
   ],
   "source": [
    "print(\"Решающее дерево:\\n\", confusion_matrix(data_test[\"target\"], data_test[\"Response\"]))"
   ]
  }
 ],
 "metadata": {
  "kernelspec": {
   "display_name": "Python 3 (ipykernel)",
   "language": "python",
   "name": "python3"
  },
  "language_info": {
   "codemirror_mode": {
    "name": "ipython",
    "version": 3
   },
   "file_extension": ".py",
   "mimetype": "text/x-python",
   "name": "python",
   "nbconvert_exporter": "python",
   "pygments_lexer": "ipython3",
   "version": "3.10.4"
  }
 },
 "nbformat": 4,
 "nbformat_minor": 5
}
