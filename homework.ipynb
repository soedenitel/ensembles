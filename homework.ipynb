{
 "cells": [
  {
   "cell_type": "markdown",
   "id": "f3dbfa2a",
   "metadata": {},
   "source": [
    "# Описание задания\n",
    "\n",
    "Загрузите данные, приведите их к числовым, заполните пропуски, нормализуйте данные и оптимизируйте память.\n",
    "\n",
    "Сформируйте параллельный ансамбль из:\n",
    "* CatBoost,\n",
    "* градиентного бустинга,\n",
    "* XGBoost\n",
    "* LightGBM.\n",
    "\n",
    "Используйте лучшие гиперпараметры, подобранные ранее, или найдите их через перекрестную проверку.\n",
    "\n",
    "Итоговое решение рассчитайте на основании самого точного предсказания класса у определенной модели ансамбля: выберите для каждого класса модель, которая предсказывает его лучше всего.\n",
    "\n",
    "Проведите расчеты и выгрузите результат в виде submission.csv\n",
    "\n",
    "Данные:\n",
    "* video.ittensive.com/machine-learning/prudential/train.csv.gz\n",
    "* video.ittensive.com/machine-learning/prudential/test.csv.gz\n",
    "* video.ittensive.com/machine-learning/prudential/sample_submission.csv.gz\n",
    "\n",
    "Итоговый файл с кодом (.py или .ipynb) выложите в github с портфолио.\n",
    "\n",
    "# Решение задания"
   ]
  },
  {
   "cell_type": "code",
   "execution_count": 1,
   "id": "db39588c",
   "metadata": {},
   "outputs": [],
   "source": [
    "GRAIN = 11\n",
    "import pandas as pd\n",
    "import numpy as np\n",
    "from sklearn.model_selection import train_test_split\n",
    "from sklearn.metrics import f1_score\n",
    "from sklearn import preprocessing\n",
    "from etl_utils import reduce_mem_usage\n",
    "\n",
    "\n",
    "def data_preprocess(df: pd.DataFrame) -> pd.DataFrame:\n",
    "    df['Product_Info_2_1'] = df['Product_Info_2'].str.slice(0, 1)\n",
    "    df['Product_Info_2_2'] = pd.to_numeric(df['Product_Info_2'].str.slice(1, 2))\n",
    "    df = df.drop('Product_Info_2', axis='columns')\n",
    "\n",
    "    onehot_df = pd.get_dummies(df['Product_Info_2_1'])\n",
    "    onehot_df.columns = ['Product_Info_2_1' + column for column in onehot_df.columns]\n",
    "    df = pd.merge(left=df, right=onehot_df, left_index=True, right_index=True).drop('Product_Info_2_1', axis=1).fillna(-1)\n",
    "    del onehot_df\n",
    "\n",
    "    if 'Response' in df.columns:\n",
    "        df['Response'] = df['Response'] - 1\n",
    "    return df\n",
    "\n",
    "\n",
    "def f1_score_for_class(class_id: int, y_true, y_pred):\n",
    "    return f1_score(\n",
    "        pd.Series(y_true).map(lambda value: 1 if value == class_id else 0),\n",
    "        pd.Series(y_pred).map(lambda value: 1 if value == class_id else 0)\n",
    "    )\n",
    "\n",
    "\n",
    "def model_estimates(y_true, y_pred) -> list:\n",
    "    '''\n",
    "    Формирует f1 оценки, количество оценок соответствует количеству классов в y_true.\n",
    "    y_true - вектор эталонных ответов\n",
    "    y_pred - вектор предсказаний классов\n",
    "    \n",
    "    Возвращает вектор чисел float\n",
    "    '''\n",
    "    result = list()\n",
    "    for i in range(len(y_train_test.unique())):\n",
    "        result.append(f1_score_for_class(i, y_true, y_pred))    \n",
    "    return result"
   ]
  },
  {
   "cell_type": "markdown",
   "id": "98d65d06",
   "metadata": {},
   "source": [
    "### Загрузка обучающей выборки и определение набора признаков для дальнейшего моделирования"
   ]
  },
  {
   "cell_type": "code",
   "execution_count": 2,
   "id": "6e049e70",
   "metadata": {},
   "outputs": [
    {
     "name": "stdout",
     "output_type": "stream",
     "text": [
      "['Wt', 'Ht', 'Ins_Age', 'BMI', 'Insurance_History_1', 'Insurance_History_2', 'Insurance_History_3', 'Insurance_History_4', 'Insurance_History_5', 'Insurance_History_7', 'Insurance_History_8', 'Insurance_History_9', 'Medical_Keyword_1', 'Medical_Keyword_2', 'Medical_Keyword_3', 'Medical_Keyword_4', 'Medical_Keyword_5', 'Medical_Keyword_6', 'Medical_Keyword_7', 'Medical_Keyword_8', 'Medical_Keyword_9', 'Medical_Keyword_10', 'Medical_Keyword_11', 'Medical_Keyword_12', 'Medical_Keyword_13', 'Medical_Keyword_14', 'Medical_Keyword_15', 'Medical_Keyword_16', 'Medical_Keyword_17', 'Medical_Keyword_18', 'Medical_Keyword_19', 'Medical_Keyword_20', 'Medical_Keyword_21', 'Medical_Keyword_22', 'Medical_Keyword_23', 'Medical_Keyword_24', 'Medical_Keyword_25', 'Medical_Keyword_26', 'Medical_Keyword_27', 'Medical_Keyword_28', 'Medical_Keyword_29', 'Medical_Keyword_30', 'Medical_Keyword_31', 'Medical_Keyword_32', 'Medical_Keyword_33', 'Medical_Keyword_34', 'Medical_Keyword_35', 'Medical_Keyword_36', 'Medical_Keyword_37', 'Medical_Keyword_38', 'Medical_Keyword_39', 'Medical_Keyword_40', 'Medical_Keyword_41', 'Medical_Keyword_42', 'Medical_Keyword_43', 'Medical_Keyword_44', 'Medical_Keyword_45', 'Medical_Keyword_46', 'Medical_Keyword_47', 'Medical_Keyword_48', 'Family_Hist_1', 'Family_Hist_2', 'Family_Hist_3', 'Family_Hist_4', 'Family_Hist_5', 'Medical_History_1', 'Medical_History_2', 'Medical_History_3', 'Medical_History_4', 'Medical_History_5', 'Medical_History_6', 'Medical_History_7', 'Medical_History_8', 'Medical_History_9', 'Medical_History_10', 'Medical_History_11', 'Medical_History_12', 'Medical_History_13', 'Medical_History_14', 'Medical_History_15', 'Medical_History_16', 'Medical_History_17', 'Medical_History_18', 'Medical_History_19', 'Medical_History_20', 'Medical_History_21', 'Medical_History_22', 'Medical_History_23', 'Medical_History_24', 'Medical_History_25', 'Medical_History_26', 'Medical_History_27', 'Medical_History_28', 'Medical_History_29', 'Medical_History_30', 'Medical_History_31', 'Medical_History_32', 'Medical_History_33', 'Medical_History_34', 'Medical_History_35', 'Medical_History_36', 'Medical_History_37', 'Medical_History_38', 'Medical_History_39', 'Medical_History_40', 'Medical_History_41', 'Product_Info_1', 'Product_Info_3', 'Product_Info_4', 'Product_Info_5', 'Product_Info_6', 'Product_Info_7', 'Product_Info_2_2', 'Product_Info_2_1A', 'Product_Info_2_1B', 'Product_Info_2_1C', 'Product_Info_2_1D', 'Product_Info_2_1E']\n"
     ]
    }
   ],
   "source": [
    "train_df = data_preprocess(pd.read_csv('https://video.ittensive.com/machine-learning/prudential/train.csv.gz'))\n",
    "\n",
    "columns_groups = ['Insurance_History', 'InsurеdInfo', 'Medical_Keyword', 'Family_Hist', 'Medical_History', 'Product_Info']\n",
    "features = ['Wt', 'Ht', 'Ins_Age', 'BMI']\n",
    "for cg in columns_groups:\n",
    "    features.extend(train_df.columns[train_df.columns.str.startswith(cg)])\n",
    "print(features)"
   ]
  },
  {
   "cell_type": "markdown",
   "id": "a67a6ae7",
   "metadata": {},
   "source": [
    "### Нормализация и разделение данных"
   ]
  },
  {
   "cell_type": "code",
   "execution_count": 3,
   "id": "65f8235d",
   "metadata": {},
   "outputs": [
    {
     "name": "stdout",
     "output_type": "stream",
     "text": [
      "Потребление памяти меньше на 40.49 Мб (-75.1%)\n",
      "(47504, 119) (11877, 119)\n"
     ]
    }
   ],
   "source": [
    "scaler = preprocessing.StandardScaler()\n",
    "train_df_scaled = pd.DataFrame(scaler.fit_transform(train_df[features]))\n",
    "features_in_scaled = train_df_scaled.columns\n",
    "train_df_scaled['Response'] = train_df['Response']\n",
    "train_df_scaled = reduce_mem_usage(train_df_scaled)\n",
    "\n",
    "train_train_df, train_test_df = train_test_split(train_df_scaled, test_size=.2, random_state=GRAIN)\n",
    "print(train_train_df.shape, train_test_df.shape)"
   ]
  },
  {
   "cell_type": "markdown",
   "id": "24868026",
   "metadata": {},
   "source": [
    "### Матрица, в которую буду сохранять f1 оценки прогнозов каждой моделью каждого класса\n",
    "(для последующего выбора моделей)\n",
    "* строки - это целевые для предсказания классы\n",
    "* столбцы - это модели\n",
    "\n",
    "На пересечении строк и столбцов значение f1_score для пары конкретных модели и класса"
   ]
  },
  {
   "cell_type": "code",
   "execution_count": 4,
   "id": "527b45f7",
   "metadata": {},
   "outputs": [],
   "source": [
    "f1_scores_df = pd.DataFrame(index=[sorted(train_df['Response'].unique())])"
   ]
  },
  {
   "cell_type": "markdown",
   "id": "bee46193",
   "metadata": {},
   "source": [
    "### Построение моделей\n",
    "\n",
    "Использую лучшие гиперпараметры, подобранные ранее, так как их подбор через перекрестную проверку занял существенное время."
   ]
  },
  {
   "cell_type": "code",
   "execution_count": 5,
   "id": "7df345d3",
   "metadata": {},
   "outputs": [],
   "source": [
    "x_train_train = train_train_df[features_in_scaled]\n",
    "y_train_train = train_train_df['Response']\n",
    "\n",
    "x_train_test = train_test_df[features_in_scaled]\n",
    "y_train_test = train_test_df['Response']\n",
    "\n",
    "x_train = train_df_scaled[features_in_scaled]\n",
    "y_train = train_df_scaled['Response']"
   ]
  },
  {
   "cell_type": "markdown",
   "id": "39869616",
   "metadata": {},
   "source": [
    "#### CatBoost\n",
    "Основные гиперпараметры беру из тех, что подобраны ранее (времени на это затрачено ощутимо)."
   ]
  },
  {
   "cell_type": "code",
   "execution_count": 6,
   "id": "b4b11b73",
   "metadata": {},
   "outputs": [
    {
     "name": "stdout",
     "output_type": "stream",
     "text": [
      "0:\tlearn: 1.5308178\ttotal: 200ms\tremaining: 19.8s\n",
      "1:\tlearn: 1.3929447\ttotal: 261ms\tremaining: 12.8s\n",
      "2:\tlearn: 1.3382318\ttotal: 335ms\tremaining: 10.8s\n",
      "3:\tlearn: 1.3114882\ttotal: 395ms\tremaining: 9.47s\n",
      "4:\tlearn: 1.2898592\ttotal: 462ms\tremaining: 8.78s\n",
      "5:\tlearn: 1.2793855\ttotal: 522ms\tremaining: 8.18s\n",
      "6:\tlearn: 1.2686422\ttotal: 578ms\tremaining: 7.68s\n",
      "7:\tlearn: 1.2501712\ttotal: 637ms\tremaining: 7.32s\n",
      "8:\tlearn: 1.2412142\ttotal: 698ms\tremaining: 7.06s\n",
      "9:\tlearn: 1.2343899\ttotal: 759ms\tremaining: 6.83s\n",
      "10:\tlearn: 1.2250090\ttotal: 817ms\tremaining: 6.61s\n",
      "11:\tlearn: 1.2124148\ttotal: 876ms\tremaining: 6.42s\n",
      "12:\tlearn: 1.2087139\ttotal: 937ms\tremaining: 6.27s\n",
      "13:\tlearn: 1.2037673\ttotal: 998ms\tremaining: 6.13s\n",
      "14:\tlearn: 1.1999816\ttotal: 1.06s\tremaining: 6.01s\n",
      "15:\tlearn: 1.1963732\ttotal: 1.12s\tremaining: 5.87s\n",
      "16:\tlearn: 1.1884244\ttotal: 1.18s\tremaining: 5.78s\n",
      "17:\tlearn: 1.1840390\ttotal: 1.24s\tremaining: 5.66s\n",
      "18:\tlearn: 1.1781063\ttotal: 1.3s\tremaining: 5.55s\n",
      "19:\tlearn: 1.1736369\ttotal: 1.36s\tremaining: 5.46s\n",
      "20:\tlearn: 1.1703192\ttotal: 1.43s\tremaining: 5.37s\n",
      "21:\tlearn: 1.1641103\ttotal: 1.49s\tremaining: 5.27s\n",
      "22:\tlearn: 1.1583341\ttotal: 1.55s\tremaining: 5.18s\n",
      "23:\tlearn: 1.1472255\ttotal: 1.63s\tremaining: 5.17s\n",
      "24:\tlearn: 1.1450167\ttotal: 1.71s\tremaining: 5.12s\n",
      "25:\tlearn: 1.1406810\ttotal: 1.78s\tremaining: 5.07s\n",
      "26:\tlearn: 1.1336459\ttotal: 1.85s\tremaining: 5.01s\n",
      "27:\tlearn: 1.1305146\ttotal: 1.92s\tremaining: 4.93s\n",
      "28:\tlearn: 1.1269494\ttotal: 2s\tremaining: 4.89s\n",
      "29:\tlearn: 1.1233848\ttotal: 2.07s\tremaining: 4.84s\n",
      "30:\tlearn: 1.1199726\ttotal: 2.14s\tremaining: 4.77s\n",
      "31:\tlearn: 1.1173039\ttotal: 2.21s\tremaining: 4.69s\n",
      "32:\tlearn: 1.1143357\ttotal: 2.28s\tremaining: 4.63s\n",
      "33:\tlearn: 1.1106760\ttotal: 2.35s\tremaining: 4.57s\n",
      "34:\tlearn: 1.1081735\ttotal: 2.42s\tremaining: 4.49s\n",
      "35:\tlearn: 1.1052705\ttotal: 2.48s\tremaining: 4.41s\n",
      "36:\tlearn: 1.1030641\ttotal: 2.54s\tremaining: 4.32s\n",
      "37:\tlearn: 1.1011190\ttotal: 2.59s\tremaining: 4.23s\n",
      "38:\tlearn: 1.0984130\ttotal: 2.65s\tremaining: 4.15s\n",
      "39:\tlearn: 1.0969760\ttotal: 2.72s\tremaining: 4.07s\n",
      "40:\tlearn: 1.0945804\ttotal: 2.78s\tremaining: 4s\n",
      "41:\tlearn: 1.0924717\ttotal: 2.84s\tremaining: 3.92s\n",
      "42:\tlearn: 1.0896089\ttotal: 2.9s\tremaining: 3.85s\n",
      "43:\tlearn: 1.0859353\ttotal: 2.97s\tremaining: 3.78s\n",
      "44:\tlearn: 1.0833364\ttotal: 3.03s\tremaining: 3.7s\n",
      "45:\tlearn: 1.0809300\ttotal: 3.09s\tremaining: 3.63s\n",
      "46:\tlearn: 1.0791193\ttotal: 3.15s\tremaining: 3.56s\n",
      "47:\tlearn: 1.0775069\ttotal: 3.22s\tremaining: 3.49s\n",
      "48:\tlearn: 1.0756000\ttotal: 3.3s\tremaining: 3.43s\n",
      "49:\tlearn: 1.0725810\ttotal: 3.37s\tremaining: 3.37s\n",
      "50:\tlearn: 1.0691110\ttotal: 3.44s\tremaining: 3.3s\n",
      "51:\tlearn: 1.0681933\ttotal: 3.5s\tremaining: 3.23s\n",
      "52:\tlearn: 1.0658913\ttotal: 3.57s\tremaining: 3.16s\n",
      "53:\tlearn: 1.0628680\ttotal: 3.63s\tremaining: 3.09s\n",
      "54:\tlearn: 1.0605409\ttotal: 3.69s\tremaining: 3.02s\n",
      "55:\tlearn: 1.0595412\ttotal: 3.75s\tremaining: 2.95s\n",
      "56:\tlearn: 1.0567778\ttotal: 3.81s\tremaining: 2.88s\n",
      "57:\tlearn: 1.0550329\ttotal: 3.88s\tremaining: 2.81s\n",
      "58:\tlearn: 1.0549144\ttotal: 3.94s\tremaining: 2.73s\n",
      "59:\tlearn: 1.0532085\ttotal: 4.01s\tremaining: 2.68s\n",
      "60:\tlearn: 1.0519570\ttotal: 4.08s\tremaining: 2.61s\n",
      "61:\tlearn: 1.0518729\ttotal: 4.14s\tremaining: 2.54s\n",
      "62:\tlearn: 1.0502911\ttotal: 4.21s\tremaining: 2.47s\n",
      "63:\tlearn: 1.0481981\ttotal: 4.28s\tremaining: 2.41s\n",
      "64:\tlearn: 1.0473056\ttotal: 4.36s\tremaining: 2.35s\n",
      "65:\tlearn: 1.0441025\ttotal: 4.44s\tremaining: 2.29s\n",
      "66:\tlearn: 1.0423809\ttotal: 4.53s\tremaining: 2.23s\n",
      "67:\tlearn: 1.0422930\ttotal: 4.61s\tremaining: 2.17s\n",
      "68:\tlearn: 1.0419790\ttotal: 4.69s\tremaining: 2.1s\n",
      "69:\tlearn: 1.0398955\ttotal: 4.76s\tremaining: 2.04s\n",
      "70:\tlearn: 1.0397462\ttotal: 4.82s\tremaining: 1.97s\n",
      "71:\tlearn: 1.0374894\ttotal: 4.89s\tremaining: 1.9s\n",
      "72:\tlearn: 1.0348093\ttotal: 4.96s\tremaining: 1.83s\n",
      "73:\tlearn: 1.0347154\ttotal: 5.04s\tremaining: 1.77s\n",
      "74:\tlearn: 1.0323591\ttotal: 5.11s\tremaining: 1.7s\n",
      "75:\tlearn: 1.0309917\ttotal: 5.17s\tremaining: 1.63s\n",
      "76:\tlearn: 1.0288466\ttotal: 5.24s\tremaining: 1.56s\n",
      "77:\tlearn: 1.0263039\ttotal: 5.31s\tremaining: 1.5s\n",
      "78:\tlearn: 1.0236935\ttotal: 5.39s\tremaining: 1.43s\n",
      "79:\tlearn: 1.0224165\ttotal: 5.45s\tremaining: 1.36s\n",
      "80:\tlearn: 1.0198027\ttotal: 5.52s\tremaining: 1.29s\n",
      "81:\tlearn: 1.0187245\ttotal: 5.6s\tremaining: 1.23s\n",
      "82:\tlearn: 1.0187022\ttotal: 5.67s\tremaining: 1.16s\n",
      "83:\tlearn: 1.0171732\ttotal: 5.74s\tremaining: 1.09s\n",
      "84:\tlearn: 1.0161190\ttotal: 5.82s\tremaining: 1.03s\n",
      "85:\tlearn: 1.0144653\ttotal: 5.9s\tremaining: 961ms\n",
      "86:\tlearn: 1.0144319\ttotal: 5.97s\tremaining: 892ms\n",
      "87:\tlearn: 1.0116535\ttotal: 6.04s\tremaining: 824ms\n",
      "88:\tlearn: 1.0095139\ttotal: 6.12s\tremaining: 757ms\n",
      "89:\tlearn: 1.0084845\ttotal: 6.2s\tremaining: 689ms\n",
      "90:\tlearn: 1.0082755\ttotal: 6.27s\tremaining: 620ms\n",
      "91:\tlearn: 1.0081711\ttotal: 6.35s\tremaining: 552ms\n",
      "92:\tlearn: 1.0080510\ttotal: 6.41s\tremaining: 483ms\n",
      "93:\tlearn: 1.0064260\ttotal: 6.49s\tremaining: 414ms\n",
      "94:\tlearn: 1.0050171\ttotal: 6.55s\tremaining: 345ms\n",
      "95:\tlearn: 1.0049389\ttotal: 6.62s\tremaining: 276ms\n",
      "96:\tlearn: 1.0034971\ttotal: 6.68s\tremaining: 207ms\n",
      "97:\tlearn: 1.0034761\ttotal: 6.75s\tremaining: 138ms\n",
      "98:\tlearn: 1.0034046\ttotal: 6.82s\tremaining: 68.9ms\n",
      "99:\tlearn: 1.0022616\ttotal: 6.88s\tremaining: 0us\n",
      "CPU times: total: 1min 21s\n",
      "Wall time: 8.02 s\n"
     ]
    }
   ],
   "source": [
    "%%time\n",
    "from catboost import Pool, CatBoostClassifier\n",
    "model_CatBoost = CatBoostClassifier(\n",
    "    random_seed=GRAIN, loss_function='MultiClass', bootstrap_type='MVS', custom_metric='WKappa',\n",
    "    learning_rate=.56, depth=7, l2_leaf_reg=4, iterations=100\n",
    ").fit(Pool(data=x_train_train, label=y_train_train))"
   ]
  },
  {
   "cell_type": "code",
   "execution_count": 7,
   "id": "d2d773ab",
   "metadata": {},
   "outputs": [],
   "source": [
    "f1_scores_df['CatBoost'] = model_estimates(y_train_test, model_CatBoost.predict(Pool(data=x_train_test)).flatten())"
   ]
  },
  {
   "cell_type": "markdown",
   "id": "8c55b236",
   "metadata": {},
   "source": [
    "Обучение модели на полной тренировочной выборке"
   ]
  },
  {
   "cell_type": "code",
   "execution_count": 8,
   "id": "295e0d2e",
   "metadata": {},
   "outputs": [
    {
     "name": "stdout",
     "output_type": "stream",
     "text": [
      "0:\tlearn: 1.5197487\ttotal: 84.4ms\tremaining: 8.36s\n",
      "1:\tlearn: 1.3915691\ttotal: 158ms\tremaining: 7.74s\n",
      "2:\tlearn: 1.3435663\ttotal: 227ms\tremaining: 7.33s\n",
      "3:\tlearn: 1.3129286\ttotal: 298ms\tremaining: 7.14s\n",
      "4:\tlearn: 1.2843400\ttotal: 374ms\tremaining: 7.1s\n",
      "5:\tlearn: 1.2727900\ttotal: 446ms\tremaining: 6.98s\n",
      "6:\tlearn: 1.2603072\ttotal: 517ms\tremaining: 6.86s\n",
      "7:\tlearn: 1.2452974\ttotal: 594ms\tremaining: 6.83s\n",
      "8:\tlearn: 1.2330872\ttotal: 672ms\tremaining: 6.79s\n",
      "9:\tlearn: 1.2291206\ttotal: 760ms\tremaining: 6.84s\n",
      "10:\tlearn: 1.2217220\ttotal: 841ms\tremaining: 6.81s\n",
      "11:\tlearn: 1.2090635\ttotal: 918ms\tremaining: 6.73s\n",
      "12:\tlearn: 1.2052953\ttotal: 999ms\tremaining: 6.69s\n",
      "13:\tlearn: 1.2014075\ttotal: 1.08s\tremaining: 6.64s\n",
      "14:\tlearn: 1.1961090\ttotal: 1.16s\tremaining: 6.57s\n",
      "15:\tlearn: 1.1910428\ttotal: 1.24s\tremaining: 6.53s\n",
      "16:\tlearn: 1.1884284\ttotal: 1.32s\tremaining: 6.47s\n",
      "17:\tlearn: 1.1849168\ttotal: 1.41s\tremaining: 6.43s\n",
      "18:\tlearn: 1.1806464\ttotal: 1.51s\tremaining: 6.43s\n",
      "19:\tlearn: 1.1774053\ttotal: 1.6s\tremaining: 6.39s\n",
      "20:\tlearn: 1.1737258\ttotal: 1.68s\tremaining: 6.33s\n",
      "21:\tlearn: 1.1705522\ttotal: 1.78s\tremaining: 6.3s\n",
      "22:\tlearn: 1.1668662\ttotal: 1.86s\tremaining: 6.23s\n",
      "23:\tlearn: 1.1611981\ttotal: 1.94s\tremaining: 6.15s\n",
      "24:\tlearn: 1.1531948\ttotal: 2.03s\tremaining: 6.09s\n",
      "25:\tlearn: 1.1488999\ttotal: 2.11s\tremaining: 6.01s\n",
      "26:\tlearn: 1.1467213\ttotal: 2.19s\tremaining: 5.93s\n",
      "27:\tlearn: 1.1433040\ttotal: 2.28s\tremaining: 5.85s\n",
      "28:\tlearn: 1.1392243\ttotal: 2.36s\tremaining: 5.78s\n",
      "29:\tlearn: 1.1366733\ttotal: 2.44s\tremaining: 5.7s\n",
      "30:\tlearn: 1.1333917\ttotal: 2.53s\tremaining: 5.64s\n",
      "31:\tlearn: 1.1308781\ttotal: 2.62s\tremaining: 5.56s\n",
      "32:\tlearn: 1.1270943\ttotal: 2.7s\tremaining: 5.49s\n",
      "33:\tlearn: 1.1238860\ttotal: 2.8s\tremaining: 5.43s\n",
      "34:\tlearn: 1.1214116\ttotal: 2.88s\tremaining: 5.35s\n",
      "35:\tlearn: 1.1184179\ttotal: 2.96s\tremaining: 5.26s\n",
      "36:\tlearn: 1.1165958\ttotal: 3.04s\tremaining: 5.18s\n",
      "37:\tlearn: 1.1144702\ttotal: 3.12s\tremaining: 5.09s\n",
      "38:\tlearn: 1.1115217\ttotal: 3.2s\tremaining: 5.01s\n",
      "39:\tlearn: 1.1101957\ttotal: 3.29s\tremaining: 4.93s\n",
      "40:\tlearn: 1.1074939\ttotal: 3.37s\tremaining: 4.85s\n",
      "41:\tlearn: 1.1048737\ttotal: 3.45s\tremaining: 4.77s\n",
      "42:\tlearn: 1.1027389\ttotal: 3.54s\tremaining: 4.69s\n",
      "43:\tlearn: 1.1004717\ttotal: 3.62s\tremaining: 4.61s\n",
      "44:\tlearn: 1.0984243\ttotal: 3.7s\tremaining: 4.53s\n",
      "45:\tlearn: 1.0964387\ttotal: 3.79s\tremaining: 4.45s\n",
      "46:\tlearn: 1.0944659\ttotal: 3.87s\tremaining: 4.37s\n",
      "47:\tlearn: 1.0931558\ttotal: 3.95s\tremaining: 4.28s\n",
      "48:\tlearn: 1.0916706\ttotal: 4.03s\tremaining: 4.2s\n",
      "49:\tlearn: 1.0893080\ttotal: 4.12s\tremaining: 4.12s\n",
      "50:\tlearn: 1.0870829\ttotal: 4.19s\tremaining: 4.03s\n",
      "51:\tlearn: 1.0850469\ttotal: 4.28s\tremaining: 3.95s\n",
      "52:\tlearn: 1.0824111\ttotal: 4.37s\tremaining: 3.87s\n",
      "53:\tlearn: 1.0808891\ttotal: 4.45s\tremaining: 3.79s\n",
      "54:\tlearn: 1.0792456\ttotal: 4.54s\tremaining: 3.71s\n",
      "55:\tlearn: 1.0770651\ttotal: 4.62s\tremaining: 3.63s\n",
      "56:\tlearn: 1.0753426\ttotal: 4.71s\tremaining: 3.55s\n",
      "57:\tlearn: 1.0733183\ttotal: 4.8s\tremaining: 3.48s\n",
      "58:\tlearn: 1.0708786\ttotal: 4.88s\tremaining: 3.39s\n",
      "59:\tlearn: 1.0689353\ttotal: 4.96s\tremaining: 3.3s\n",
      "60:\tlearn: 1.0677686\ttotal: 5.04s\tremaining: 3.22s\n",
      "61:\tlearn: 1.0655246\ttotal: 5.12s\tremaining: 3.13s\n",
      "62:\tlearn: 1.0640943\ttotal: 5.19s\tremaining: 3.05s\n",
      "63:\tlearn: 1.0620892\ttotal: 5.27s\tremaining: 2.96s\n",
      "64:\tlearn: 1.0604287\ttotal: 5.35s\tremaining: 2.88s\n",
      "65:\tlearn: 1.0588697\ttotal: 5.43s\tremaining: 2.8s\n",
      "66:\tlearn: 1.0576457\ttotal: 5.51s\tremaining: 2.71s\n",
      "67:\tlearn: 1.0557622\ttotal: 5.59s\tremaining: 2.63s\n",
      "68:\tlearn: 1.0536926\ttotal: 5.67s\tremaining: 2.55s\n",
      "69:\tlearn: 1.0514014\ttotal: 5.75s\tremaining: 2.46s\n",
      "70:\tlearn: 1.0495194\ttotal: 5.83s\tremaining: 2.38s\n",
      "71:\tlearn: 1.0478039\ttotal: 5.91s\tremaining: 2.3s\n",
      "72:\tlearn: 1.0464384\ttotal: 5.99s\tremaining: 2.22s\n",
      "73:\tlearn: 1.0453241\ttotal: 6.07s\tremaining: 2.13s\n",
      "74:\tlearn: 1.0452345\ttotal: 6.15s\tremaining: 2.05s\n",
      "75:\tlearn: 1.0439077\ttotal: 6.23s\tremaining: 1.97s\n",
      "76:\tlearn: 1.0433987\ttotal: 6.31s\tremaining: 1.89s\n",
      "77:\tlearn: 1.0421576\ttotal: 6.39s\tremaining: 1.8s\n",
      "78:\tlearn: 1.0418575\ttotal: 6.47s\tremaining: 1.72s\n",
      "79:\tlearn: 1.0403099\ttotal: 6.55s\tremaining: 1.64s\n",
      "80:\tlearn: 1.0392694\ttotal: 6.63s\tremaining: 1.55s\n",
      "81:\tlearn: 1.0379842\ttotal: 6.72s\tremaining: 1.48s\n",
      "82:\tlearn: 1.0367288\ttotal: 6.8s\tremaining: 1.39s\n",
      "83:\tlearn: 1.0352663\ttotal: 6.88s\tremaining: 1.31s\n",
      "84:\tlearn: 1.0341691\ttotal: 6.95s\tremaining: 1.23s\n",
      "85:\tlearn: 1.0326393\ttotal: 7.03s\tremaining: 1.15s\n",
      "86:\tlearn: 1.0312337\ttotal: 7.11s\tremaining: 1.06s\n",
      "87:\tlearn: 1.0291673\ttotal: 7.19s\tremaining: 981ms\n",
      "88:\tlearn: 1.0277449\ttotal: 7.27s\tremaining: 899ms\n",
      "89:\tlearn: 1.0266362\ttotal: 7.35s\tremaining: 817ms\n",
      "90:\tlearn: 1.0252680\ttotal: 7.44s\tremaining: 736ms\n",
      "91:\tlearn: 1.0241133\ttotal: 7.52s\tremaining: 654ms\n",
      "92:\tlearn: 1.0226080\ttotal: 7.6s\tremaining: 572ms\n",
      "93:\tlearn: 1.0209538\ttotal: 7.69s\tremaining: 491ms\n",
      "94:\tlearn: 1.0191619\ttotal: 7.78s\tremaining: 409ms\n",
      "95:\tlearn: 1.0172298\ttotal: 7.86s\tremaining: 327ms\n",
      "96:\tlearn: 1.0171903\ttotal: 7.94s\tremaining: 246ms\n",
      "97:\tlearn: 1.0160707\ttotal: 8.02s\tremaining: 164ms\n",
      "98:\tlearn: 1.0148054\ttotal: 8.1s\tremaining: 81.8ms\n",
      "99:\tlearn: 1.0147390\ttotal: 8.18s\tremaining: 0us\n",
      "CPU times: total: 1min 45s\n",
      "Wall time: 9.55 s\n"
     ]
    }
   ],
   "source": [
    "%%time\n",
    "model_CatBoost = CatBoostClassifier(\n",
    "    random_seed=GRAIN, loss_function='MultiClass', bootstrap_type='MVS', custom_metric='WKappa',\n",
    "    learning_rate=.56, depth=7, l2_leaf_reg=4, iterations=100\n",
    ").fit(Pool(data=x_train, label=y_train))"
   ]
  },
  {
   "cell_type": "markdown",
   "id": "6895b151",
   "metadata": {},
   "source": [
    "#### Градиентный бустинг\n",
    "Основные гиперпараметры беру из тех, что подобраны ранее (времени на это затрачено ощутимо)."
   ]
  },
  {
   "cell_type": "code",
   "execution_count": 9,
   "id": "0cf4b51b",
   "metadata": {},
   "outputs": [
    {
     "name": "stdout",
     "output_type": "stream",
     "text": [
      "CPU times: total: 2min 2s\n",
      "Wall time: 2min 3s\n"
     ]
    }
   ],
   "source": [
    "%%time\n",
    "from sklearn.ensemble import GradientBoostingClassifier\n",
    "model_GradientBoosting = GradientBoostingClassifier(\n",
    "    random_state=GRAIN, max_depth=17, n_estimators=76, max_features=27, min_samples_leaf=20\n",
    ").fit(x_train_train, y_train_train)"
   ]
  },
  {
   "cell_type": "code",
   "execution_count": 10,
   "id": "92d283fe",
   "metadata": {},
   "outputs": [],
   "source": [
    "f1_scores_df['GradientBoosting'] = model_estimates(y_train_test, model_GradientBoosting.predict(x_train_test))"
   ]
  },
  {
   "cell_type": "markdown",
   "id": "113de86f",
   "metadata": {},
   "source": [
    "Обучение модели на полной тренировочной выборке"
   ]
  },
  {
   "cell_type": "code",
   "execution_count": 11,
   "id": "9f1de928",
   "metadata": {},
   "outputs": [
    {
     "name": "stdout",
     "output_type": "stream",
     "text": [
      "CPU times: total: 2min 36s\n",
      "Wall time: 2min 36s\n"
     ]
    },
    {
     "data": {
      "text/plain": [
       "GradientBoostingClassifier(max_depth=17, max_features=27, min_samples_leaf=20,\n",
       "                           n_estimators=76, random_state=11)"
      ]
     },
     "execution_count": 11,
     "metadata": {},
     "output_type": "execute_result"
    }
   ],
   "source": [
    "%%time\n",
    "model_GradientBoosting.fit(x_train, y_train)"
   ]
  },
  {
   "cell_type": "markdown",
   "id": "3895ddda",
   "metadata": {},
   "source": [
    "#### XGBoost\n",
    "Основные гиперпараметры беру из тех, что подобраны ранее (времени на это затрачено ощутимо)."
   ]
  },
  {
   "cell_type": "code",
   "execution_count": 12,
   "id": "0eef899b",
   "metadata": {},
   "outputs": [
    {
     "name": "stdout",
     "output_type": "stream",
     "text": [
      "[19:18:44] WARNING: C:/Users/Administrator/workspace/xgboost-win64_release_1.6.0/src/learner.cc:627: \n",
      "Parameters: { \"max_features\", \"min_samples_leaf\" } might not be used.\n",
      "\n",
      "  This could be a false alarm, with some parameters getting used by language bindings but\n",
      "  then being mistakenly passed down to XGBoost core, or some parameter actually being used\n",
      "  but getting flagged wrongly here. Please open an issue if you find any such cases.\n",
      "\n",
      "\n",
      "CPU times: total: 10min 48s\n",
      "Wall time: 43.6 s\n"
     ]
    }
   ],
   "source": [
    "%%time\n",
    "from xgboost import XGBClassifier\n",
    "model_XGBoost = XGBClassifier(\n",
    "    max_depth=15, n_estimators=76, max_features=27, min_samples_leaf=19\n",
    ").fit(x_train_train, y_train_train)"
   ]
  },
  {
   "cell_type": "code",
   "execution_count": 13,
   "id": "bc51f3c1",
   "metadata": {},
   "outputs": [],
   "source": [
    "f1_scores_df['XGBoost'] = model_estimates(y_train_test, model_XGBoost.predict(x_train_test))"
   ]
  },
  {
   "cell_type": "markdown",
   "id": "bfd0e71b",
   "metadata": {},
   "source": [
    "Обучение модели на полной тренировочной выборке"
   ]
  },
  {
   "cell_type": "code",
   "execution_count": 14,
   "id": "82d5f9d3",
   "metadata": {},
   "outputs": [
    {
     "name": "stdout",
     "output_type": "stream",
     "text": [
      "[19:19:27] WARNING: C:/Users/Administrator/workspace/xgboost-win64_release_1.6.0/src/learner.cc:627: \n",
      "Parameters: { \"max_features\", \"min_samples_leaf\" } might not be used.\n",
      "\n",
      "  This could be a false alarm, with some parameters getting used by language bindings but\n",
      "  then being mistakenly passed down to XGBoost core, or some parameter actually being used\n",
      "  but getting flagged wrongly here. Please open an issue if you find any such cases.\n",
      "\n",
      "\n",
      "CPU times: total: 14min 13s\n",
      "Wall time: 59.8 s\n"
     ]
    },
    {
     "data": {
      "text/plain": [
       "XGBClassifier(base_score=0.5, booster='gbtree', callbacks=None,\n",
       "              colsample_bylevel=1, colsample_bynode=1, colsample_bytree=1,\n",
       "              early_stopping_rounds=None, enable_categorical=False,\n",
       "              eval_metric=None, gamma=0, gpu_id=-1, grow_policy='depthwise',\n",
       "              importance_type=None, interaction_constraints='',\n",
       "              learning_rate=0.300000012, max_bin=256, max_cat_to_onehot=4,\n",
       "              max_delta_step=0, max_depth=15, max_features=27, max_leaves=0,\n",
       "              min_child_weight=1, min_samples_leaf=19, missing=nan,\n",
       "              monotone_constraints='()', n_estimators=76, n_jobs=0,\n",
       "              num_parallel_tree=1, objective='multi:softprob', predictor='auto', ...)"
      ]
     },
     "execution_count": 14,
     "metadata": {},
     "output_type": "execute_result"
    }
   ],
   "source": [
    "%%time\n",
    "model_XGBoost.fit(x_train, y_train)"
   ]
  },
  {
   "cell_type": "markdown",
   "id": "c8042605",
   "metadata": {},
   "source": [
    "#### LightGBM\n",
    "Основные гиперпараметры беру из тех, что подобраны ранее (времени на это затрачено ощутимо)."
   ]
  },
  {
   "cell_type": "code",
   "execution_count": 15,
   "id": "0d39e641",
   "metadata": {},
   "outputs": [
    {
     "name": "stdout",
     "output_type": "stream",
     "text": [
      "CPU times: total: 4min 42s\n",
      "Wall time: 20.7 s\n"
     ]
    }
   ],
   "source": [
    "%%time\n",
    "import lightgbm as lgb\n",
    "model_LGBM = lgb.LGBMRegressor(\n",
    "    random_state=GRAIN, n_estimators=1000, objective='multiclass', num_class=8,\n",
    "    max_depth=16, min_child_samples=18, num_leaves=36\n",
    ").fit(x_train_train, y_train_train)"
   ]
  },
  {
   "cell_type": "code",
   "execution_count": 16,
   "id": "42a221a7",
   "metadata": {},
   "outputs": [],
   "source": [
    "def to_class(row: pd.Series):\n",
    "    return np.argmax(row)\n",
    "\n",
    "f1_scores_df['LightGBM'] = model_estimates(\n",
    "    y_train_test, pd.DataFrame(model_LGBM.predict(x_train_test)).apply(to_class, axis='columns')\n",
    ")"
   ]
  },
  {
   "cell_type": "markdown",
   "id": "cc3e9a81",
   "metadata": {},
   "source": [
    "Обучение модели на полной тренировочной выборке"
   ]
  },
  {
   "cell_type": "code",
   "execution_count": 17,
   "id": "4c01d596",
   "metadata": {},
   "outputs": [
    {
     "name": "stdout",
     "output_type": "stream",
     "text": [
      "CPU times: total: 4min 24s\n",
      "Wall time: 18.8 s\n"
     ]
    },
    {
     "data": {
      "text/plain": [
       "LGBMRegressor(max_depth=16, min_child_samples=18, n_estimators=1000,\n",
       "              num_class=8, num_leaves=36, objective='multiclass',\n",
       "              random_state=11)"
      ]
     },
     "execution_count": 17,
     "metadata": {},
     "output_type": "execute_result"
    }
   ],
   "source": [
    "%%time\n",
    "model_LGBM.fit(x_train, y_train)"
   ]
  },
  {
   "cell_type": "markdown",
   "id": "166f70f2",
   "metadata": {},
   "source": [
    "### Выберите для каждого класса модель, которая предсказывает его лучше всего."
   ]
  },
  {
   "cell_type": "code",
   "execution_count": 18,
   "id": "c6674574",
   "metadata": {},
   "outputs": [
    {
     "data": {
      "text/html": [
       "<div>\n",
       "<style scoped>\n",
       "    .dataframe tbody tr th:only-of-type {\n",
       "        vertical-align: middle;\n",
       "    }\n",
       "\n",
       "    .dataframe tbody tr th {\n",
       "        vertical-align: top;\n",
       "    }\n",
       "\n",
       "    .dataframe thead th {\n",
       "        text-align: right;\n",
       "    }\n",
       "</style>\n",
       "<table border=\"1\" class=\"dataframe\">\n",
       "  <thead>\n",
       "    <tr style=\"text-align: right;\">\n",
       "      <th></th>\n",
       "      <th>CatBoost</th>\n",
       "      <th>GradientBoosting</th>\n",
       "      <th>XGBoost</th>\n",
       "      <th>LightGBM</th>\n",
       "    </tr>\n",
       "  </thead>\n",
       "  <tbody>\n",
       "    <tr>\n",
       "      <th>0</th>\n",
       "      <td>0.266263</td>\n",
       "      <td>0.293069</td>\n",
       "      <td>0.272867</td>\n",
       "      <td>0.283325</td>\n",
       "    </tr>\n",
       "    <tr>\n",
       "      <th>1</th>\n",
       "      <td>0.303917</td>\n",
       "      <td>0.316379</td>\n",
       "      <td>0.285441</td>\n",
       "      <td>0.313779</td>\n",
       "    </tr>\n",
       "    <tr>\n",
       "      <th>2</th>\n",
       "      <td>0.396450</td>\n",
       "      <td>0.418879</td>\n",
       "      <td>0.432277</td>\n",
       "      <td>0.356688</td>\n",
       "    </tr>\n",
       "    <tr>\n",
       "      <th>3</th>\n",
       "      <td>0.664662</td>\n",
       "      <td>0.647239</td>\n",
       "      <td>0.642750</td>\n",
       "      <td>0.622642</td>\n",
       "    </tr>\n",
       "    <tr>\n",
       "      <th>4</th>\n",
       "      <td>0.567634</td>\n",
       "      <td>0.569307</td>\n",
       "      <td>0.571429</td>\n",
       "      <td>0.571715</td>\n",
       "    </tr>\n",
       "    <tr>\n",
       "      <th>5</th>\n",
       "      <td>0.506679</td>\n",
       "      <td>0.515718</td>\n",
       "      <td>0.521470</td>\n",
       "      <td>0.510097</td>\n",
       "    </tr>\n",
       "    <tr>\n",
       "      <th>6</th>\n",
       "      <td>0.454967</td>\n",
       "      <td>0.458071</td>\n",
       "      <td>0.462524</td>\n",
       "      <td>0.457689</td>\n",
       "    </tr>\n",
       "    <tr>\n",
       "      <th>7</th>\n",
       "      <td>0.779388</td>\n",
       "      <td>0.779010</td>\n",
       "      <td>0.778616</td>\n",
       "      <td>0.782193</td>\n",
       "    </tr>\n",
       "  </tbody>\n",
       "</table>\n",
       "</div>"
      ],
      "text/plain": [
       "   CatBoost  GradientBoosting   XGBoost  LightGBM\n",
       "0  0.266263          0.293069  0.272867  0.283325\n",
       "1  0.303917          0.316379  0.285441  0.313779\n",
       "2  0.396450          0.418879  0.432277  0.356688\n",
       "3  0.664662          0.647239  0.642750  0.622642\n",
       "4  0.567634          0.569307  0.571429  0.571715\n",
       "5  0.506679          0.515718  0.521470  0.510097\n",
       "6  0.454967          0.458071  0.462524  0.457689\n",
       "7  0.779388          0.779010  0.778616  0.782193"
      ]
     },
     "execution_count": 18,
     "metadata": {},
     "output_type": "execute_result"
    }
   ],
   "source": [
    "f1_scores_df"
   ]
  },
  {
   "cell_type": "code",
   "execution_count": 19,
   "id": "005ae5d0",
   "metadata": {},
   "outputs": [
    {
     "name": "stdout",
     "output_type": "stream",
     "text": [
      "Для класса 0 оптимальна модель GradientBoosting\n",
      "Для класса 1 оптимальна модель GradientBoosting\n",
      "Для класса 2 оптимальна модель XGBoost\n",
      "Для класса 3 оптимальна модель CatBoost\n",
      "Для класса 4 оптимальна модель LightGBM\n",
      "Для класса 5 оптимальна модель XGBoost\n",
      "Для класса 6 оптимальна модель XGBoost\n",
      "Для класса 7 оптимальна модель LightGBM\n"
     ]
    }
   ],
   "source": [
    "def test_row(row: pd.Series):\n",
    "    return np.argmax(row)\n",
    "\n",
    "\n",
    "opitmal_models = f1_scores_df.apply(test_row, axis='columns').to_list()\n",
    "for class_id in range(len(opitmal_models)):\n",
    "    print('Для класса', class_id, 'оптимальна модель', f1_scores_df.columns[opitmal_models[class_id]])"
   ]
  },
  {
   "cell_type": "markdown",
   "id": "91ef6a86",
   "metadata": {},
   "source": [
    "### Загрузка отложенной выборки и приведение данных к формату обущающей выборки"
   ]
  },
  {
   "cell_type": "code",
   "execution_count": 20,
   "id": "9a42d861",
   "metadata": {},
   "outputs": [
    {
     "name": "stdout",
     "output_type": "stream",
     "text": [
      "Потребление памяти меньше на 16.34 Мб (-84.9%)\n",
      "Потребление памяти меньше на 13.35 Мб (-75.0%)\n",
      "<class 'pandas.core.frame.DataFrame'>\n",
      "RangeIndex: 19765 entries, 0 to 19764\n",
      "Columns: 118 entries, 0 to 117\n",
      "dtypes: float16(118)\n",
      "memory usage: 4.4 MB\n"
     ]
    }
   ],
   "source": [
    "test_df = pd.read_csv('https://video.ittensive.com/machine-learning/prudential/test.csv.gz')\n",
    "test_df = reduce_mem_usage(data_preprocess(test_df))\n",
    "test_transformed_df = reduce_mem_usage(pd.DataFrame(scaler.transform(test_df[features])))\n",
    "test_transformed_df.info()"
   ]
  },
  {
   "cell_type": "markdown",
   "id": "12ac50a0",
   "metadata": {},
   "source": [
    "### Предсказание данных"
   ]
  },
  {
   "cell_type": "code",
   "execution_count": 62,
   "id": "bd4f9c96",
   "metadata": {},
   "outputs": [],
   "source": [
    "def predict(x: pd.Series):\n",
    "    x = x.to_numpy().reshape(1, -1)\n",
    "    prediction = model_XGBoost.predict(x).flatten()[0]\n",
    "    if prediction == 2 or prediction == 5 or prediction == 6:\n",
    "        return prediction\n",
    "    \n",
    "    prediction = pd.DataFrame(model_LGBM.predict(x)).apply(to_class, axis='columns')[0]\n",
    "    if prediction == 4 or prediction == 7:\n",
    "        return prediction\n",
    "        \n",
    "    prediction = model_GradientBoosting.predict(x)[0]\n",
    "    if prediction == 0 or prediction == 1:\n",
    "        return prediction\n",
    "\n",
    "    return model_CatBoost.predict(data=x).flatten()[0]"
   ]
  },
  {
   "cell_type": "code",
   "execution_count": null,
   "id": "130326c1",
   "metadata": {},
   "outputs": [],
   "source": [
    "%%time\n",
    "test_transformed_df['Response'] = test_transformed_df.apply(predict, axis='columns')"
   ]
  },
  {
   "cell_type": "markdown",
   "id": "f57ed37e",
   "metadata": {},
   "source": [
    "В моделе порядковые значения классов от 0 до 7, в ответе они должны быть от 1 до 8 - преобразую к этому формату"
   ]
  },
  {
   "cell_type": "code",
   "execution_count": 64,
   "id": "9f8760e6",
   "metadata": {},
   "outputs": [],
   "source": [
    "test_transformed_df['Response'] += 1"
   ]
  },
  {
   "cell_type": "markdown",
   "id": "ecf73036",
   "metadata": {},
   "source": [
    "### Формирование результатов"
   ]
  },
  {
   "cell_type": "code",
   "execution_count": 63,
   "id": "440573de",
   "metadata": {},
   "outputs": [
    {
     "data": {
      "text/html": [
       "<div>\n",
       "<style scoped>\n",
       "    .dataframe tbody tr th:only-of-type {\n",
       "        vertical-align: middle;\n",
       "    }\n",
       "\n",
       "    .dataframe tbody tr th {\n",
       "        vertical-align: top;\n",
       "    }\n",
       "\n",
       "    .dataframe thead th {\n",
       "        text-align: right;\n",
       "    }\n",
       "</style>\n",
       "<table border=\"1\" class=\"dataframe\">\n",
       "  <thead>\n",
       "    <tr style=\"text-align: right;\">\n",
       "      <th></th>\n",
       "      <th>Id</th>\n",
       "      <th>Response</th>\n",
       "    </tr>\n",
       "  </thead>\n",
       "  <tbody>\n",
       "    <tr>\n",
       "      <th>0</th>\n",
       "      <td>1</td>\n",
       "      <td>8</td>\n",
       "    </tr>\n",
       "    <tr>\n",
       "      <th>1</th>\n",
       "      <td>3</td>\n",
       "      <td>8</td>\n",
       "    </tr>\n",
       "    <tr>\n",
       "      <th>2</th>\n",
       "      <td>4</td>\n",
       "      <td>8</td>\n",
       "    </tr>\n",
       "    <tr>\n",
       "      <th>3</th>\n",
       "      <td>9</td>\n",
       "      <td>8</td>\n",
       "    </tr>\n",
       "    <tr>\n",
       "      <th>4</th>\n",
       "      <td>12</td>\n",
       "      <td>8</td>\n",
       "    </tr>\n",
       "  </tbody>\n",
       "</table>\n",
       "</div>"
      ],
      "text/plain": [
       "   Id  Response\n",
       "0   1         8\n",
       "1   3         8\n",
       "2   4         8\n",
       "3   9         8\n",
       "4  12         8"
      ]
     },
     "execution_count": 63,
     "metadata": {},
     "output_type": "execute_result"
    }
   ],
   "source": [
    "submission = pd.read_csv('https://video.ittensive.com/machine-learning/prudential/sample_submission.csv.gz')\n",
    "submission.head()"
   ]
  },
  {
   "cell_type": "code",
   "execution_count": 65,
   "id": "37d93bbb",
   "metadata": {},
   "outputs": [
    {
     "data": {
      "text/html": [
       "<div>\n",
       "<style scoped>\n",
       "    .dataframe tbody tr th:only-of-type {\n",
       "        vertical-align: middle;\n",
       "    }\n",
       "\n",
       "    .dataframe tbody tr th {\n",
       "        vertical-align: top;\n",
       "    }\n",
       "\n",
       "    .dataframe thead th {\n",
       "        text-align: right;\n",
       "    }\n",
       "</style>\n",
       "<table border=\"1\" class=\"dataframe\">\n",
       "  <thead>\n",
       "    <tr style=\"text-align: right;\">\n",
       "      <th></th>\n",
       "      <th>Id</th>\n",
       "      <th>Response</th>\n",
       "    </tr>\n",
       "  </thead>\n",
       "  <tbody>\n",
       "    <tr>\n",
       "      <th>0</th>\n",
       "      <td>1</td>\n",
       "      <td>1</td>\n",
       "    </tr>\n",
       "    <tr>\n",
       "      <th>1</th>\n",
       "      <td>3</td>\n",
       "      <td>8</td>\n",
       "    </tr>\n",
       "    <tr>\n",
       "      <th>2</th>\n",
       "      <td>4</td>\n",
       "      <td>7</td>\n",
       "    </tr>\n",
       "    <tr>\n",
       "      <th>3</th>\n",
       "      <td>9</td>\n",
       "      <td>7</td>\n",
       "    </tr>\n",
       "    <tr>\n",
       "      <th>4</th>\n",
       "      <td>12</td>\n",
       "      <td>8</td>\n",
       "    </tr>\n",
       "  </tbody>\n",
       "</table>\n",
       "</div>"
      ],
      "text/plain": [
       "   Id  Response\n",
       "0   1         1\n",
       "1   3         8\n",
       "2   4         7\n",
       "3   9         7\n",
       "4  12         8"
      ]
     },
     "execution_count": 65,
     "metadata": {},
     "output_type": "execute_result"
    }
   ],
   "source": [
    "submission['Response'] = test_transformed_df['Response'].astype('int8')\n",
    "submission.head()"
   ]
  },
  {
   "cell_type": "markdown",
   "id": "8344feab",
   "metadata": {},
   "source": [
    "### Выгрузка результатов"
   ]
  },
  {
   "cell_type": "code",
   "execution_count": 66,
   "id": "d22172d2",
   "metadata": {},
   "outputs": [],
   "source": [
    "submission.to_csv('submission', index=False)"
   ]
  }
 ],
 "metadata": {
  "kernelspec": {
   "display_name": "Python 3 (ipykernel)",
   "language": "python",
   "name": "python3"
  },
  "language_info": {
   "codemirror_mode": {
    "name": "ipython",
    "version": 3
   },
   "file_extension": ".py",
   "mimetype": "text/x-python",
   "name": "python",
   "nbconvert_exporter": "python",
   "pygments_lexer": "ipython3",
   "version": "3.10.4"
  }
 },
 "nbformat": 4,
 "nbformat_minor": 5
}
