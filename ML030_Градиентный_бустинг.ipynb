{
 "cells": [
  {
   "cell_type": "markdown",
   "id": "5216f4cf",
   "metadata": {},
   "source": [
    "# Задание\n",
    "\n",
    "Загрузите данные, приведите их к числовым, заполните пропуски, нормализуйте данные и оптимизируйте память.\n",
    "\n",
    "Разделите выборку на обучающую/проверочную в соотношении 80/20.\n",
    "\n",
    "Постройте ансамбль решающих деревьев, используя градиентный бустинг (GradientBoostingClassifier). Используйте перекрестную проверку, чтобы найти наилучшие параметры ансамбля, или используйте параметры от случайного леса: max_depth=17, max_features=27, min_samples_leaf=20, n_estimators=76.\n",
    "\n",
    "Проведите предсказание и проверьте качество через каппа-метрику.\n",
    "\n",
    "Данные: video.ittensive.com/machine-learning/prudential/train.csv.gz"
   ]
  },
  {
   "cell_type": "code",
   "execution_count": 1,
   "id": "fa786b6f",
   "metadata": {},
   "outputs": [],
   "source": [
    "GRAIN = 11\n",
    "import pandas as pd\n",
    "import numpy as np\n",
    "from sklearn.model_selection import train_test_split\n",
    "from sklearn.metrics import cohen_kappa_score, confusion_matrix, make_scorer\n",
    "from sklearn.model_selection import GridSearchCV, cross_val_score\n",
    "from sklearn.ensemble import GradientBoostingClassifier\n",
    "from sklearn import preprocessing\n",
    "from etl_utils import reduce_mem_usage\n",
    "\n",
    "\n",
    "data = pd.read_csv(\"https://video.ittensive.com/machine-learning/prudential/train.csv.gz\")\n",
    "\n",
    "data['Product_Info_2_1'] = data['Product_Info_2'].str.slice(0, 1)\n",
    "data['Product_Info_2_2'] = pd.to_numeric(data['Product_Info_2'].str.slice(1, 2))\n",
    "data = data.drop('Product_Info_2', axis='columns')\n",
    "\n",
    "onehot_df = pd.get_dummies(data['Product_Info_2_1'])\n",
    "onehot_df.columns = ['Product_Info_2_1' + column for column in onehot_df.columns]\n",
    "data = pd.merge(left=data, right=onehot_df, left_index=True, right_index=True).drop('Product_Info_2_1', axis=1).fillna(-1)\n",
    "del onehot_df\n",
    "\n",
    "data['Response'] = data['Response'] - 1"
   ]
  },
  {
   "cell_type": "markdown",
   "id": "e6a65802",
   "metadata": {},
   "source": [
    "### Набор столбцов для расчета"
   ]
  },
  {
   "cell_type": "code",
   "execution_count": 2,
   "id": "57060f96",
   "metadata": {},
   "outputs": [
    {
     "name": "stdout",
     "output_type": "stream",
     "text": [
      "['Wt', 'Ht', 'Ins_Age', 'BMI', 'Insurance_History_1', 'Insurance_History_2', 'Insurance_History_3', 'Insurance_History_4', 'Insurance_History_5', 'Insurance_History_7', 'Insurance_History_8', 'Insurance_History_9', 'Medical_Keyword_1', 'Medical_Keyword_2', 'Medical_Keyword_3', 'Medical_Keyword_4', 'Medical_Keyword_5', 'Medical_Keyword_6', 'Medical_Keyword_7', 'Medical_Keyword_8', 'Medical_Keyword_9', 'Medical_Keyword_10', 'Medical_Keyword_11', 'Medical_Keyword_12', 'Medical_Keyword_13', 'Medical_Keyword_14', 'Medical_Keyword_15', 'Medical_Keyword_16', 'Medical_Keyword_17', 'Medical_Keyword_18', 'Medical_Keyword_19', 'Medical_Keyword_20', 'Medical_Keyword_21', 'Medical_Keyword_22', 'Medical_Keyword_23', 'Medical_Keyword_24', 'Medical_Keyword_25', 'Medical_Keyword_26', 'Medical_Keyword_27', 'Medical_Keyword_28', 'Medical_Keyword_29', 'Medical_Keyword_30', 'Medical_Keyword_31', 'Medical_Keyword_32', 'Medical_Keyword_33', 'Medical_Keyword_34', 'Medical_Keyword_35', 'Medical_Keyword_36', 'Medical_Keyword_37', 'Medical_Keyword_38', 'Medical_Keyword_39', 'Medical_Keyword_40', 'Medical_Keyword_41', 'Medical_Keyword_42', 'Medical_Keyword_43', 'Medical_Keyword_44', 'Medical_Keyword_45', 'Medical_Keyword_46', 'Medical_Keyword_47', 'Medical_Keyword_48', 'Family_Hist_1', 'Family_Hist_2', 'Family_Hist_3', 'Family_Hist_4', 'Family_Hist_5', 'Medical_History_1', 'Medical_History_2', 'Medical_History_3', 'Medical_History_4', 'Medical_History_5', 'Medical_History_6', 'Medical_History_7', 'Medical_History_8', 'Medical_History_9', 'Medical_History_10', 'Medical_History_11', 'Medical_History_12', 'Medical_History_13', 'Medical_History_14', 'Medical_History_15', 'Medical_History_16', 'Medical_History_17', 'Medical_History_18', 'Medical_History_19', 'Medical_History_20', 'Medical_History_21', 'Medical_History_22', 'Medical_History_23', 'Medical_History_24', 'Medical_History_25', 'Medical_History_26', 'Medical_History_27', 'Medical_History_28', 'Medical_History_29', 'Medical_History_30', 'Medical_History_31', 'Medical_History_32', 'Medical_History_33', 'Medical_History_34', 'Medical_History_35', 'Medical_History_36', 'Medical_History_37', 'Medical_History_38', 'Medical_History_39', 'Medical_History_40', 'Medical_History_41', 'Product_Info_1', 'Product_Info_3', 'Product_Info_4', 'Product_Info_5', 'Product_Info_6', 'Product_Info_7', 'Product_Info_2_2', 'Product_Info_2_1A', 'Product_Info_2_1B', 'Product_Info_2_1C', 'Product_Info_2_1D', 'Product_Info_2_1E']\n"
     ]
    }
   ],
   "source": [
    "columns_groups = ['Insurance_History', 'InsurеdInfo', 'Medical_Keyword', 'Family_Hist', 'Medical_History', 'Product_Info']\n",
    "columns = ['Wt', 'Ht', 'Ins_Age', 'BMI']\n",
    "for cg in columns_groups:\n",
    "    columns.extend(data.columns[data.columns.str.startswith(cg)])\n",
    "print(columns)"
   ]
  },
  {
   "cell_type": "markdown",
   "id": "6256ad0d",
   "metadata": {},
   "source": [
    "### Нормализация данных и Разделение данных"
   ]
  },
  {
   "cell_type": "code",
   "execution_count": 3,
   "id": "dffde404",
   "metadata": {},
   "outputs": [
    {
     "name": "stdout",
     "output_type": "stream",
     "text": [
      "Потребление памяти меньше на 40.49 Мб (-75.1%)\n",
      "(47504, 119) (11877, 119)\n"
     ]
    }
   ],
   "source": [
    "scaler = preprocessing.StandardScaler()\n",
    "data_transformed = pd.DataFrame(scaler.fit_transform(data[columns]))\n",
    "columns_transformed = data_transformed.columns\n",
    "data_transformed['Response'] = data['Response']\n",
    "data_transformed = reduce_mem_usage(data_transformed)\n",
    "\n",
    "data_train, data_test = train_test_split(data_transformed, test_size=.2, random_state=GRAIN)\n",
    "print(data_train.shape, data_test.shape)"
   ]
  },
  {
   "cell_type": "markdown",
   "id": "996202f8",
   "metadata": {},
   "source": [
    "### GradientBoostingClassifier = градиентный бустинг деревьев решений"
   ]
  },
  {
   "cell_type": "code",
   "execution_count": 4,
   "id": "89d6008c",
   "metadata": {},
   "outputs": [
    {
     "name": "stdout",
     "output_type": "stream",
     "text": [
      "CPU times: total: 2min 21s\n",
      "Wall time: 2min 33s\n"
     ]
    }
   ],
   "source": [
    "%%time\n",
    "model = GradientBoostingClassifier(\n",
    "    max_depth=17, n_estimators=76, max_features=27, min_samples_leaf=20\n",
    ").fit(data_train[columns_transformed], data_train['Response'])"
   ]
  },
  {
   "cell_type": "markdown",
   "id": "2180ccf5",
   "metadata": {},
   "source": [
    "### Предсказание данных и оценка модели"
   ]
  },
  {
   "cell_type": "code",
   "execution_count": 5,
   "id": "2ae5b886",
   "metadata": {},
   "outputs": [
    {
     "name": "stdout",
     "output_type": "stream",
     "text": [
      "Градиентный бустинг: 0.545\n"
     ]
    }
   ],
   "source": [
    "data_test['target'] = model.predict(data_test[columns_transformed])\n",
    "print(\"Градиентный бустинг:\", round(cohen_kappa_score(data_test[\"target\"], data_test[\"Response\"], weights=\"quadratic\"), 3))"
   ]
  },
  {
   "cell_type": "markdown",
   "id": "505a0b5d",
   "metadata": {},
   "source": [
    "Какая точность градиентного бустинга по каппа метрике с точностью до десятых?"
   ]
  },
  {
   "cell_type": "code",
   "execution_count": 8,
   "id": "1ec6f936",
   "metadata": {},
   "outputs": [
    {
     "name": "stdout",
     "output_type": "stream",
     "text": [
      "Градиентный бустинг: 0.6\n"
     ]
    }
   ],
   "source": [
    "print(\n",
    "    \"Градиентный бустинг:\",\n",
    "    round(\n",
    "        round(cohen_kappa_score(data_test[\"target\"], data_test[\"Response\"], weights=\"quadratic\"), 2), 1\n",
    "    )\n",
    ")"
   ]
  }
 ],
 "metadata": {
  "kernelspec": {
   "display_name": "Python 3 (ipykernel)",
   "language": "python",
   "name": "python3"
  },
  "language_info": {
   "codemirror_mode": {
    "name": "ipython",
    "version": 3
   },
   "file_extension": ".py",
   "mimetype": "text/x-python",
   "name": "python",
   "nbconvert_exporter": "python",
   "pygments_lexer": "ipython3",
   "version": "3.10.4"
  }
 },
 "nbformat": 4,
 "nbformat_minor": 5
}
