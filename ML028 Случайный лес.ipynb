{
 "cells": [
  {
   "cell_type": "markdown",
   "id": "502a0af4",
   "metadata": {},
   "source": [
    "## Постановка задачи\n",
    "Загрузим данные, приведем их к числовым, заполним пропуски, нормализуем данные и оптимизируем память.\n",
    "\n",
    "Разделите выборку на обучающую/проверочную в соотношении 80/20.\n",
    "\n",
    "Построим параллельный ансамбль (бэггинг) решающих деревьев, используя случайный лес.\n",
    "\n",
    "Проведем предсказание и проверим качество через каппа-метрику.\n",
    "\n",
    "Данные:\n",
    "* https://video.ittensive.com/machine-learning/prudential/train.csv.gz\n",
    "\n",
    "Соревнование: https://www.kaggle.com/c/prudential-life-insurance-assessment/\n",
    "\n",
    "© ITtensive, 2020"
   ]
  },
  {
   "cell_type": "code",
   "execution_count": 1,
   "id": "10383961",
   "metadata": {},
   "outputs": [],
   "source": [
    "GRAIN = 11\n",
    "import pandas as pd\n",
    "import numpy as np\n",
    "from sklearn.model_selection import train_test_split\n",
    "from sklearn.metrics import cohen_kappa_score, confusion_matrix, make_scorer\n",
    "from sklearn.ensemble import RandomForestClassifier\n",
    "from sklearn.model_selection import GridSearchCV, cross_val_score\n",
    "from sklearn import preprocessing\n",
    "from etl_utils import reduce_mem_usage\n",
    "\n",
    "\n",
    "data = pd.read_csv(\"https://video.ittensive.com/machine-learning/prudential/train.csv.gz\")\n",
    "\n",
    "data['Product_Info_2_1'] = data['Product_Info_2'].str.slice(0, 1)\n",
    "data['Product_Info_2_2'] = pd.to_numeric(data['Product_Info_2'].str.slice(1, 2))\n",
    "data = data.drop('Product_Info_2', axis='columns')\n",
    "\n",
    "onehot_df = pd.get_dummies(data['Product_Info_2_1'])\n",
    "onehot_df.columns = ['Product_Info_2_1' + column for column in onehot_df.columns]\n",
    "data = pd.merge(left=data, right=onehot_df, left_index=True, right_index=True).drop('Product_Info_2_1', axis=1).fillna(-1)\n",
    "del onehot_df"
   ]
  },
  {
   "cell_type": "markdown",
   "id": "73e7164a",
   "metadata": {},
   "source": [
    "### Набор столбцов для расчета"
   ]
  },
  {
   "cell_type": "code",
   "execution_count": 3,
   "id": "7959e967",
   "metadata": {},
   "outputs": [
    {
     "data": {
      "text/plain": [
       "['Wt',\n",
       " 'Ht',\n",
       " 'Ins_Age',\n",
       " 'BMI',\n",
       " 'Insurance_History_1',\n",
       " 'Insurance_History_2',\n",
       " 'Insurance_History_3',\n",
       " 'Insurance_History_4',\n",
       " 'Insurance_History_5',\n",
       " 'Insurance_History_7',\n",
       " 'Insurance_History_8',\n",
       " 'Insurance_History_9',\n",
       " 'Medical_Keyword_1',\n",
       " 'Medical_Keyword_2',\n",
       " 'Medical_Keyword_3',\n",
       " 'Medical_Keyword_4',\n",
       " 'Medical_Keyword_5',\n",
       " 'Medical_Keyword_6',\n",
       " 'Medical_Keyword_7',\n",
       " 'Medical_Keyword_8',\n",
       " 'Medical_Keyword_9',\n",
       " 'Medical_Keyword_10',\n",
       " 'Medical_Keyword_11',\n",
       " 'Medical_Keyword_12',\n",
       " 'Medical_Keyword_13',\n",
       " 'Medical_Keyword_14',\n",
       " 'Medical_Keyword_15',\n",
       " 'Medical_Keyword_16',\n",
       " 'Medical_Keyword_17',\n",
       " 'Medical_Keyword_18',\n",
       " 'Medical_Keyword_19',\n",
       " 'Medical_Keyword_20',\n",
       " 'Medical_Keyword_21',\n",
       " 'Medical_Keyword_22',\n",
       " 'Medical_Keyword_23',\n",
       " 'Medical_Keyword_24',\n",
       " 'Medical_Keyword_25',\n",
       " 'Medical_Keyword_26',\n",
       " 'Medical_Keyword_27',\n",
       " 'Medical_Keyword_28',\n",
       " 'Medical_Keyword_29',\n",
       " 'Medical_Keyword_30',\n",
       " 'Medical_Keyword_31',\n",
       " 'Medical_Keyword_32',\n",
       " 'Medical_Keyword_33',\n",
       " 'Medical_Keyword_34',\n",
       " 'Medical_Keyword_35',\n",
       " 'Medical_Keyword_36',\n",
       " 'Medical_Keyword_37',\n",
       " 'Medical_Keyword_38',\n",
       " 'Medical_Keyword_39',\n",
       " 'Medical_Keyword_40',\n",
       " 'Medical_Keyword_41',\n",
       " 'Medical_Keyword_42',\n",
       " 'Medical_Keyword_43',\n",
       " 'Medical_Keyword_44',\n",
       " 'Medical_Keyword_45',\n",
       " 'Medical_Keyword_46',\n",
       " 'Medical_Keyword_47',\n",
       " 'Medical_Keyword_48',\n",
       " 'Family_Hist_1',\n",
       " 'Family_Hist_2',\n",
       " 'Family_Hist_3',\n",
       " 'Family_Hist_4',\n",
       " 'Family_Hist_5',\n",
       " 'Medical_History_1',\n",
       " 'Medical_History_2',\n",
       " 'Medical_History_3',\n",
       " 'Medical_History_4',\n",
       " 'Medical_History_5',\n",
       " 'Medical_History_6',\n",
       " 'Medical_History_7',\n",
       " 'Medical_History_8',\n",
       " 'Medical_History_9',\n",
       " 'Medical_History_10',\n",
       " 'Medical_History_11',\n",
       " 'Medical_History_12',\n",
       " 'Medical_History_13',\n",
       " 'Medical_History_14',\n",
       " 'Medical_History_15',\n",
       " 'Medical_History_16',\n",
       " 'Medical_History_17',\n",
       " 'Medical_History_18',\n",
       " 'Medical_History_19',\n",
       " 'Medical_History_20',\n",
       " 'Medical_History_21',\n",
       " 'Medical_History_22',\n",
       " 'Medical_History_23',\n",
       " 'Medical_History_24',\n",
       " 'Medical_History_25',\n",
       " 'Medical_History_26',\n",
       " 'Medical_History_27',\n",
       " 'Medical_History_28',\n",
       " 'Medical_History_29',\n",
       " 'Medical_History_30',\n",
       " 'Medical_History_31',\n",
       " 'Medical_History_32',\n",
       " 'Medical_History_33',\n",
       " 'Medical_History_34',\n",
       " 'Medical_History_35',\n",
       " 'Medical_History_36',\n",
       " 'Medical_History_37',\n",
       " 'Medical_History_38',\n",
       " 'Medical_History_39',\n",
       " 'Medical_History_40',\n",
       " 'Medical_History_41',\n",
       " 'Product_Info_1',\n",
       " 'Product_Info_3',\n",
       " 'Product_Info_4',\n",
       " 'Product_Info_5',\n",
       " 'Product_Info_6',\n",
       " 'Product_Info_7',\n",
       " 'Product_Info_2_2',\n",
       " 'Product_Info_2_1A',\n",
       " 'Product_Info_2_1B',\n",
       " 'Product_Info_2_1C',\n",
       " 'Product_Info_2_1D',\n",
       " 'Product_Info_2_1E']"
      ]
     },
     "execution_count": 3,
     "metadata": {},
     "output_type": "execute_result"
    }
   ],
   "source": [
    "columns_groups = ['Insurance_History', 'InsurеdInfo', 'Medical_Keyword', 'Family_Hist', 'Medical_History', 'Product_Info']\n",
    "columns = ['Wt', 'Ht', 'Ins_Age', 'BMI']\n",
    "for cg in columns_groups:\n",
    "    columns.extend(data.columns[data.columns.str.startswith(cg)])\n",
    "    \n",
    "columns"
   ]
  },
  {
   "cell_type": "markdown",
   "id": "193ef59a",
   "metadata": {},
   "source": [
    "### Нормализация данных"
   ]
  },
  {
   "cell_type": "code",
   "execution_count": 4,
   "id": "38b192e8",
   "metadata": {},
   "outputs": [
    {
     "name": "stdout",
     "output_type": "stream",
     "text": [
      "Потребление памяти меньше на 40.49 Мб (-75.1%)\n",
      "<class 'pandas.core.frame.DataFrame'>\n",
      "RangeIndex: 59381 entries, 0 to 59380\n",
      "Columns: 119 entries, 0 to Response\n",
      "dtypes: float16(118), int8(1)\n",
      "memory usage: 13.4 MB\n"
     ]
    }
   ],
   "source": [
    "scaler = preprocessing.StandardScaler()\n",
    "data_transformed = pd.DataFrame(scaler.fit_transform(data[columns]))\n",
    "columns_transformed = data_transformed.columns\n",
    "data_transformed['Response'] = data['Response']\n",
    "data_transformed = reduce_mem_usage(data_transformed)\n",
    "data_transformed.info()"
   ]
  },
  {
   "cell_type": "markdown",
   "id": "207b6199",
   "metadata": {},
   "source": [
    "### Разделение данных\n",
    "Преобразуем выборки в отдельные наборы данных"
   ]
  },
  {
   "cell_type": "code",
   "execution_count": 5,
   "id": "f6ae1ac0",
   "metadata": {},
   "outputs": [
    {
     "data": {
      "text/html": [
       "<div>\n",
       "<style scoped>\n",
       "    .dataframe tbody tr th:only-of-type {\n",
       "        vertical-align: middle;\n",
       "    }\n",
       "\n",
       "    .dataframe tbody tr th {\n",
       "        vertical-align: top;\n",
       "    }\n",
       "\n",
       "    .dataframe thead th {\n",
       "        text-align: right;\n",
       "    }\n",
       "</style>\n",
       "<table border=\"1\" class=\"dataframe\">\n",
       "  <thead>\n",
       "    <tr style=\"text-align: right;\">\n",
       "      <th></th>\n",
       "      <th>0</th>\n",
       "      <th>1</th>\n",
       "      <th>2</th>\n",
       "      <th>3</th>\n",
       "      <th>4</th>\n",
       "      <th>5</th>\n",
       "      <th>6</th>\n",
       "      <th>7</th>\n",
       "      <th>8</th>\n",
       "      <th>9</th>\n",
       "      <th>...</th>\n",
       "      <th>109</th>\n",
       "      <th>110</th>\n",
       "      <th>111</th>\n",
       "      <th>112</th>\n",
       "      <th>113</th>\n",
       "      <th>114</th>\n",
       "      <th>115</th>\n",
       "      <th>116</th>\n",
       "      <th>117</th>\n",
       "      <th>Response</th>\n",
       "    </tr>\n",
       "  </thead>\n",
       "  <tbody>\n",
       "    <tr>\n",
       "      <th>15370</th>\n",
       "      <td>-1.476562</td>\n",
       "      <td>-1.934570</td>\n",
       "      <td>1.349609</td>\n",
       "      <td>-0.833008</td>\n",
       "      <td>0.611816</td>\n",
       "      <td>-0.169434</td>\n",
       "      <td>0.862305</td>\n",
       "      <td>-1.013672</td>\n",
       "      <td>0.861328</td>\n",
       "      <td>-0.928711</td>\n",
       "      <td>...</td>\n",
       "      <td>-0.083679</td>\n",
       "      <td>0.441650</td>\n",
       "      <td>-0.149292</td>\n",
       "      <td>2.134766</td>\n",
       "      <td>1.604492</td>\n",
       "      <td>-0.14209</td>\n",
       "      <td>-0.128906</td>\n",
       "      <td>-1.332031</td>\n",
       "      <td>-0.215942</td>\n",
       "      <td>5</td>\n",
       "    </tr>\n",
       "    <tr>\n",
       "      <th>42923</th>\n",
       "      <td>-0.161133</td>\n",
       "      <td>0.514160</td>\n",
       "      <td>-0.997070</td>\n",
       "      <td>-0.471680</td>\n",
       "      <td>0.611816</td>\n",
       "      <td>-0.169434</td>\n",
       "      <td>0.862305</td>\n",
       "      <td>-1.013672</td>\n",
       "      <td>0.874512</td>\n",
       "      <td>-0.928711</td>\n",
       "      <td>...</td>\n",
       "      <td>-0.083679</td>\n",
       "      <td>-2.263672</td>\n",
       "      <td>-0.149292</td>\n",
       "      <td>1.200195</td>\n",
       "      <td>1.604492</td>\n",
       "      <td>-0.14209</td>\n",
       "      <td>-0.128906</td>\n",
       "      <td>-1.332031</td>\n",
       "      <td>-0.215942</td>\n",
       "      <td>8</td>\n",
       "    </tr>\n",
       "    <tr>\n",
       "      <th>2813</th>\n",
       "      <td>-0.255127</td>\n",
       "      <td>1.003906</td>\n",
       "      <td>0.592285</td>\n",
       "      <td>-0.842285</td>\n",
       "      <td>-1.634766</td>\n",
       "      <td>-0.169434</td>\n",
       "      <td>0.862305</td>\n",
       "      <td>-1.013672</td>\n",
       "      <td>0.861816</td>\n",
       "      <td>0.100891</td>\n",
       "      <td>...</td>\n",
       "      <td>-0.083679</td>\n",
       "      <td>0.441650</td>\n",
       "      <td>-0.149292</td>\n",
       "      <td>-0.666992</td>\n",
       "      <td>1.604492</td>\n",
       "      <td>-0.14209</td>\n",
       "      <td>-0.128906</td>\n",
       "      <td>-1.332031</td>\n",
       "      <td>-0.215942</td>\n",
       "      <td>8</td>\n",
       "    </tr>\n",
       "    <tr>\n",
       "      <th>6481</th>\n",
       "      <td>-0.654297</td>\n",
       "      <td>-0.465576</td>\n",
       "      <td>0.743652</td>\n",
       "      <td>-0.520508</td>\n",
       "      <td>-1.634766</td>\n",
       "      <td>-0.169434</td>\n",
       "      <td>0.862305</td>\n",
       "      <td>-1.013672</td>\n",
       "      <td>0.861816</td>\n",
       "      <td>0.100891</td>\n",
       "      <td>...</td>\n",
       "      <td>-0.083679</td>\n",
       "      <td>0.441650</td>\n",
       "      <td>-0.149292</td>\n",
       "      <td>-1.133789</td>\n",
       "      <td>1.604492</td>\n",
       "      <td>-0.14209</td>\n",
       "      <td>-0.128906</td>\n",
       "      <td>-1.332031</td>\n",
       "      <td>-0.215942</td>\n",
       "      <td>8</td>\n",
       "    </tr>\n",
       "    <tr>\n",
       "      <th>16865</th>\n",
       "      <td>-0.278564</td>\n",
       "      <td>0.269287</td>\n",
       "      <td>0.213989</td>\n",
       "      <td>-0.472656</td>\n",
       "      <td>0.611816</td>\n",
       "      <td>-0.169434</td>\n",
       "      <td>0.862305</td>\n",
       "      <td>-1.013672</td>\n",
       "      <td>0.864258</td>\n",
       "      <td>-0.928711</td>\n",
       "      <td>...</td>\n",
       "      <td>-0.083679</td>\n",
       "      <td>-2.263672</td>\n",
       "      <td>-0.149292</td>\n",
       "      <td>-0.200073</td>\n",
       "      <td>-0.623535</td>\n",
       "      <td>-0.14209</td>\n",
       "      <td>-0.128906</td>\n",
       "      <td>0.750977</td>\n",
       "      <td>-0.215942</td>\n",
       "      <td>6</td>\n",
       "    </tr>\n",
       "  </tbody>\n",
       "</table>\n",
       "<p>5 rows × 119 columns</p>\n",
       "</div>"
      ],
      "text/plain": [
       "              0         1         2         3         4         5         6  \\\n",
       "15370 -1.476562 -1.934570  1.349609 -0.833008  0.611816 -0.169434  0.862305   \n",
       "42923 -0.161133  0.514160 -0.997070 -0.471680  0.611816 -0.169434  0.862305   \n",
       "2813  -0.255127  1.003906  0.592285 -0.842285 -1.634766 -0.169434  0.862305   \n",
       "6481  -0.654297 -0.465576  0.743652 -0.520508 -1.634766 -0.169434  0.862305   \n",
       "16865 -0.278564  0.269287  0.213989 -0.472656  0.611816 -0.169434  0.862305   \n",
       "\n",
       "              7         8         9  ...       109       110       111  \\\n",
       "15370 -1.013672  0.861328 -0.928711  ... -0.083679  0.441650 -0.149292   \n",
       "42923 -1.013672  0.874512 -0.928711  ... -0.083679 -2.263672 -0.149292   \n",
       "2813  -1.013672  0.861816  0.100891  ... -0.083679  0.441650 -0.149292   \n",
       "6481  -1.013672  0.861816  0.100891  ... -0.083679  0.441650 -0.149292   \n",
       "16865 -1.013672  0.864258 -0.928711  ... -0.083679 -2.263672 -0.149292   \n",
       "\n",
       "            112       113      114       115       116       117  Response  \n",
       "15370  2.134766  1.604492 -0.14209 -0.128906 -1.332031 -0.215942         5  \n",
       "42923  1.200195  1.604492 -0.14209 -0.128906 -1.332031 -0.215942         8  \n",
       "2813  -0.666992  1.604492 -0.14209 -0.128906 -1.332031 -0.215942         8  \n",
       "6481  -1.133789  1.604492 -0.14209 -0.128906 -1.332031 -0.215942         8  \n",
       "16865 -0.200073 -0.623535 -0.14209 -0.128906  0.750977 -0.215942         6  \n",
       "\n",
       "[5 rows x 119 columns]"
      ]
     },
     "execution_count": 5,
     "metadata": {},
     "output_type": "execute_result"
    }
   ],
   "source": [
    "data_train, data_test = train_test_split(data_transformed, test_size=.2)\n",
    "data_train.head()"
   ]
  },
  {
   "cell_type": "markdown",
   "id": "91db547f",
   "metadata": {},
   "source": [
    "### Перекрестная проверка случайного леса\n",
    "Каждое дерево (по умолчанию, их 100) строится на своей части выборки со своим набором параметров (max_features). Решение принимается путем голосования деревьев.\n",
    "\n",
    "Например, 10 деревьев для 1 строки (кортежа) исходных параметров дали следующие классы и их вероятности:\n",
    "\n",
    "{1:0.5, 1:0.8, 2:0.9, 3:0.7, 5:0.5, 1:0.4, 2:0.5, 6:0.5, 3:0.4, 1:0.95}\n",
    "\n",
    "По итогам голосования выбирается самый популярный класс, это 1 в данном случае.\n",
    "\n",
    "Если в случайном лесу слишком много деревьев, то точность предсказания будет меньше, чем у одного, полностью обученного дерева. Число деревьев (estimators) должно соответствовать количеству классов в предсказании (class), размеру выборки (N) и числу разбиений (fold). Примерная формула:\n",
    "estimators = N / (20-100) / fold / class\n",
    "\n",
    "В нашем случае, N=60000, fold=5, class=8 => estimators=15...75"
   ]
  },
  {
   "cell_type": "code",
   "execution_count": 6,
   "id": "8b195a63",
   "metadata": {},
   "outputs": [],
   "source": [
    "x = data_train[columns_transformed]\n",
    "model = RandomForestClassifier(\n",
    "    random_state=GRAIN,\n",
    "    n_estimators=77,\n",
    "    max_depth=17,\n",
    "    max_features=27,\n",
    "    min_samples_leaf=20\n",
    ")"
   ]
  },
  {
   "cell_type": "markdown",
   "id": "c0547488",
   "metadata": {},
   "source": [
    "Диапазон тестирования параметров модели ограничен только вычислительной мощностью. Для проверки модели имеет смысл провести индивидуальные перекрестные проверки для каждого параметра в отдельности, затем в итоговой проверке перепроверить самые лучшие найденные параметры с отклонением +/-10%."
   ]
  },
  {
   "cell_type": "code",
   "execution_count": 7,
   "id": "445a285a",
   "metadata": {},
   "outputs": [
    {
     "name": "stdout",
     "output_type": "stream",
     "text": [
      "Fitting 5 folds for each of 16 candidates, totalling 80 fits\n"
     ]
    },
    {
     "data": {
      "text/plain": [
       "GridSearchCV(cv=5,\n",
       "             estimator=RandomForestClassifier(max_depth=17, max_features=27,\n",
       "                                              min_samples_leaf=30,\n",
       "                                              n_estimators=77,\n",
       "                                              random_state=11),\n",
       "             n_jobs=-1,\n",
       "             param_grid={'max_depth': range(15, 17),\n",
       "                         'max_features': range(26, 28),\n",
       "                         'min_samples_leaf': range(19, 21),\n",
       "                         'n_estimators': range(75, 77)},\n",
       "             scoring=make_scorer(cohen_kappa_score), verbose=True)"
      ]
     },
     "execution_count": 7,
     "metadata": {},
     "output_type": "execute_result"
    }
   ],
   "source": [
    "tree_params = {\n",
    "    'max_depth': range(15, 17),\n",
    "    'max_features': range(26, 28),\n",
    "    'n_estimators': range(75, 77),\n",
    "    'min_samples_leaf': range(19, 21)\n",
    "}\n",
    "tree_grid = GridSearchCV(model, tree_params, cv=5, n_jobs=-1, verbose=True, scoring=make_scorer(cohen_kappa_score))\n",
    "tree_grid.fit(x, data_train['Response'])"
   ]
  },
  {
   "cell_type": "markdown",
   "id": "59121fb1",
   "metadata": {},
   "source": [
    "Выведем самые оптимальные параметры и построим итоговую модель"
   ]
  },
  {
   "cell_type": "code",
   "execution_count": 8,
   "id": "820f18c9",
   "metadata": {},
   "outputs": [
    {
     "name": "stdout",
     "output_type": "stream",
     "text": [
      "{'max_depth': 15, 'max_features': 27, 'min_samples_leaf': 19, 'n_estimators': 76}\n"
     ]
    }
   ],
   "source": [
    "print(tree_grid.best_params_)\n",
    "model = RandomForestClassifier(\n",
    "    random_state=GRAIN,\n",
    "    min_samples_leaf=tree_grid.best_params_['min_samples_leaf'],\n",
    "    max_features=tree_grid.best_params_['max_features'],\n",
    "    max_depth=tree_grid.best_params_['max_depth'],\n",
    "    n_estimators=tree_grid.best_params_['n_estimators']\n",
    ").fit(x, data_train['Response'])"
   ]
  },
  {
   "cell_type": "markdown",
   "id": "16dbeb7b",
   "metadata": {},
   "source": [
    "### Предсказание данных и оценка модели"
   ]
  },
  {
   "cell_type": "code",
   "execution_count": 10,
   "id": "1eb36122",
   "metadata": {},
   "outputs": [],
   "source": [
    "data_test['target'] = model.predict(data_test[columns_transformed])"
   ]
  },
  {
   "cell_type": "markdown",
   "id": "9eea2e21",
   "metadata": {},
   "source": [
    "Кластеризация дает 0.192, kNN(100) - 0.3, лог. регрессия - 0.512/0.496, SVM - 0.95, реш. дерево - 0.3"
   ]
  },
  {
   "cell_type": "code",
   "execution_count": 11,
   "id": "7d5dc80d",
   "metadata": {},
   "outputs": [
    {
     "name": "stdout",
     "output_type": "stream",
     "text": [
      "Случайный лес: 0.487\n"
     ]
    }
   ],
   "source": [
    "print(\"Случайный лес:\", round(cohen_kappa_score(data_test[\"target\"], data_test[\"Response\"], weights=\"quadratic\"), 3))"
   ]
  },
  {
   "cell_type": "markdown",
   "id": "b7b73788",
   "metadata": {},
   "source": [
    "### Матрица неточностей"
   ]
  },
  {
   "cell_type": "code",
   "execution_count": 12,
   "id": "8520a238",
   "metadata": {},
   "outputs": [
    {
     "name": "stdout",
     "output_type": "stream",
     "text": [
      "Случайный лес\n",
      " [[ 111   63   15   11   20   34    9    3]\n",
      " [ 174  292   10    0   97   73    5    3]\n",
      " [  11   11   52    7    1    1    0    0]\n",
      " [  52   40   62  187    0    3    1    2]\n",
      " [ 121  161   23    0  588   86   10    6]\n",
      " [ 319  292   37   24  209 1237  331  137]\n",
      " [ 139  122    1    3   62  265  634  115]\n",
      " [ 301  316    5   27  115  550  610 3681]]\n"
     ]
    }
   ],
   "source": [
    "print(\"Случайный лес\\n\",\n",
    "      confusion_matrix(data_test[\"target\"], data_test[\"Response\"]))"
   ]
  }
 ],
 "metadata": {
  "kernelspec": {
   "display_name": "Python 3 (ipykernel)",
   "language": "python",
   "name": "python3"
  },
  "language_info": {
   "codemirror_mode": {
    "name": "ipython",
    "version": 3
   },
   "file_extension": ".py",
   "mimetype": "text/x-python",
   "name": "python",
   "nbconvert_exporter": "python",
   "pygments_lexer": "ipython3",
   "version": "3.10.4"
  }
 },
 "nbformat": 4,
 "nbformat_minor": 5
}
