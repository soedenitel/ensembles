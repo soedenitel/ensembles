{
 "cells": [
  {
   "cell_type": "markdown",
   "id": "f3dbfa2a",
   "metadata": {},
   "source": [
    "# Описание задания\n",
    "\n",
    "Загрузите данные, приведите их к числовым, заполните пропуски, нормализуйте данные и оптимизируйте память.\n",
    "\n",
    "Сформируйте параллельный ансамбль из:\n",
    "* CatBoost,\n",
    "* градиентного бустинга,\n",
    "* XGBoost\n",
    "* LightGBM.\n",
    "\n",
    "Используйте лучшие гиперпараметры, подобранные ранее, или найдите их через перекрестную проверку.\n",
    "\n",
    "Итоговое решение рассчитайте на основании самого точного предсказания класса у определенной модели ансамбля: выберите для каждого класса модель, которая предсказывает его лучше всего.\n",
    "\n",
    "Проведите расчеты и выгрузите результат в виде submission.csv\n",
    "\n",
    "Данные:\n",
    "* video.ittensive.com/machine-learning/prudential/train.csv.gz\n",
    "* video.ittensive.com/machine-learning/prudential/test.csv.gz\n",
    "* video.ittensive.com/machine-learning/prudential/sample_submission.csv.gz\n",
    "\n",
    "Итоговый файл с кодом (.py или .ipynb) выложите в github с портфолио."
   ]
  },
  {
   "cell_type": "code",
   "execution_count": null,
   "id": "22ec9b5b",
   "metadata": {},
   "outputs": [],
   "source": []
  }
 ],
 "metadata": {
  "kernelspec": {
   "display_name": "Python 3 (ipykernel)",
   "language": "python",
   "name": "python3"
  },
  "language_info": {
   "codemirror_mode": {
    "name": "ipython",
    "version": 3
   },
   "file_extension": ".py",
   "mimetype": "text/x-python",
   "name": "python",
   "nbconvert_exporter": "python",
   "pygments_lexer": "ipython3",
   "version": "3.10.4"
  }
 },
 "nbformat": 4,
 "nbformat_minor": 5
}
