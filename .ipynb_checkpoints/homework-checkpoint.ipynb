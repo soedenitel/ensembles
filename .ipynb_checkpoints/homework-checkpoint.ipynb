{
 "cells": [
  {
   "cell_type": "markdown",
   "id": "f3dbfa2a",
   "metadata": {},
   "source": [
    "# Описание задания\n",
    "\n",
    "Загрузите данные, приведите их к числовым, заполните пропуски, нормализуйте данные и оптимизируйте память.\n",
    "\n",
    "Сформируйте параллельный ансамбль из:\n",
    "* CatBoost,\n",
    "* градиентного бустинга,\n",
    "* XGBoost\n",
    "* LightGBM.\n",
    "\n",
    "Используйте лучшие гиперпараметры, подобранные ранее, или найдите их через перекрестную проверку.\n",
    "\n",
    "Итоговое решение рассчитайте на основании самого точного предсказания класса у определенной модели ансамбля: выберите для каждого класса модель, которая предсказывает его лучше всего.\n",
    "\n",
    "Проведите расчеты и выгрузите результат в виде submission.csv\n",
    "\n",
    "Данные:\n",
    "* video.ittensive.com/machine-learning/prudential/train.csv.gz\n",
    "* video.ittensive.com/machine-learning/prudential/test.csv.gz\n",
    "* video.ittensive.com/machine-learning/prudential/sample_submission.csv.gz\n",
    "\n",
    "Итоговый файл с кодом (.py или .ipynb) выложите в github с портфолио.\n",
    "\n",
    "# Решение задания"
   ]
  },
  {
   "cell_type": "code",
   "execution_count": 1,
   "id": "db39588c",
   "metadata": {},
   "outputs": [],
   "source": [
    "GRAIN = 11\n",
    "import pandas as pd\n",
    "import numpy as np\n",
    "from sklearn.model_selection import train_test_split\n",
    "from sklearn.metrics import f1_score\n",
    "from sklearn import preprocessing\n",
    "from etl_utils import reduce_mem_usage\n",
    "\n",
    "\n",
    "def data_preprocess(df: pd.DataFrame) -> pd.DataFrame:\n",
    "    df['Product_Info_2_1'] = df['Product_Info_2'].str.slice(0, 1)\n",
    "    df['Product_Info_2_2'] = pd.to_numeric(df['Product_Info_2'].str.slice(1, 2))\n",
    "    df = df.drop('Product_Info_2', axis='columns')\n",
    "\n",
    "    onehot_df = pd.get_dummies(df['Product_Info_2_1'])\n",
    "    onehot_df.columns = ['Product_Info_2_1' + column for column in onehot_df.columns]\n",
    "    df = pd.merge(left=df, right=onehot_df, left_index=True, right_index=True).drop('Product_Info_2_1', axis=1).fillna(-1)\n",
    "    del onehot_df\n",
    "\n",
    "    if 'Response' in df.columns:\n",
    "        df['Response'] -= 1\n",
    "    return df\n",
    "\n",
    "\n",
    "def f1_score_for_class(class_id: int, y_true, y_pred):\n",
    "    return f1_score(\n",
    "        pd.Series(y_true).map(lambda value: 1 if value == class_id else 0),\n",
    "        pd.Series(y_pred).map(lambda value: 1 if value == class_id else 0)\n",
    "    )\n",
    "\n",
    "\n",
    "def model_estimates(y_true, y_pred) -> list:\n",
    "    '''\n",
    "    Формирует f1 оценки, количество оценок соответствует количеству классов в y_true.\n",
    "    y_true - вектор эталонных ответов\n",
    "    y_pred - вектор предсказаний классов\n",
    "    \n",
    "    Возвращает вектор чисел float\n",
    "    '''\n",
    "    result = list()\n",
    "    for i in range(len(y_true.unique())):\n",
    "        result.append(f1_score_for_class(i, y_true, y_pred))    \n",
    "    return result"
   ]
  },
  {
   "cell_type": "markdown",
   "id": "98d65d06",
   "metadata": {},
   "source": [
    "### Загрузка обучающей выборки и определение набора признаков для дальнейшего моделирования"
   ]
  },
  {
   "cell_type": "code",
   "execution_count": 2,
   "id": "6e049e70",
   "metadata": {},
   "outputs": [
    {
     "name": "stdout",
     "output_type": "stream",
     "text": [
      "['Wt', 'Ht', 'Ins_Age', 'BMI', 'Insurance_History_1', 'Insurance_History_2', 'Insurance_History_3', 'Insurance_History_4', 'Insurance_History_5', 'Insurance_History_7', 'Insurance_History_8', 'Insurance_History_9', 'Medical_Keyword_1', 'Medical_Keyword_2', 'Medical_Keyword_3', 'Medical_Keyword_4', 'Medical_Keyword_5', 'Medical_Keyword_6', 'Medical_Keyword_7', 'Medical_Keyword_8', 'Medical_Keyword_9', 'Medical_Keyword_10', 'Medical_Keyword_11', 'Medical_Keyword_12', 'Medical_Keyword_13', 'Medical_Keyword_14', 'Medical_Keyword_15', 'Medical_Keyword_16', 'Medical_Keyword_17', 'Medical_Keyword_18', 'Medical_Keyword_19', 'Medical_Keyword_20', 'Medical_Keyword_21', 'Medical_Keyword_22', 'Medical_Keyword_23', 'Medical_Keyword_24', 'Medical_Keyword_25', 'Medical_Keyword_26', 'Medical_Keyword_27', 'Medical_Keyword_28', 'Medical_Keyword_29', 'Medical_Keyword_30', 'Medical_Keyword_31', 'Medical_Keyword_32', 'Medical_Keyword_33', 'Medical_Keyword_34', 'Medical_Keyword_35', 'Medical_Keyword_36', 'Medical_Keyword_37', 'Medical_Keyword_38', 'Medical_Keyword_39', 'Medical_Keyword_40', 'Medical_Keyword_41', 'Medical_Keyword_42', 'Medical_Keyword_43', 'Medical_Keyword_44', 'Medical_Keyword_45', 'Medical_Keyword_46', 'Medical_Keyword_47', 'Medical_Keyword_48', 'Family_Hist_1', 'Family_Hist_2', 'Family_Hist_3', 'Family_Hist_4', 'Family_Hist_5', 'Medical_History_1', 'Medical_History_2', 'Medical_History_3', 'Medical_History_4', 'Medical_History_5', 'Medical_History_6', 'Medical_History_7', 'Medical_History_8', 'Medical_History_9', 'Medical_History_10', 'Medical_History_11', 'Medical_History_12', 'Medical_History_13', 'Medical_History_14', 'Medical_History_15', 'Medical_History_16', 'Medical_History_17', 'Medical_History_18', 'Medical_History_19', 'Medical_History_20', 'Medical_History_21', 'Medical_History_22', 'Medical_History_23', 'Medical_History_24', 'Medical_History_25', 'Medical_History_26', 'Medical_History_27', 'Medical_History_28', 'Medical_History_29', 'Medical_History_30', 'Medical_History_31', 'Medical_History_32', 'Medical_History_33', 'Medical_History_34', 'Medical_History_35', 'Medical_History_36', 'Medical_History_37', 'Medical_History_38', 'Medical_History_39', 'Medical_History_40', 'Medical_History_41', 'Product_Info_1', 'Product_Info_3', 'Product_Info_4', 'Product_Info_5', 'Product_Info_6', 'Product_Info_7', 'Product_Info_2_2', 'Product_Info_2_1A', 'Product_Info_2_1B', 'Product_Info_2_1C', 'Product_Info_2_1D', 'Product_Info_2_1E']\n"
     ]
    }
   ],
   "source": [
    "train_df = data_preprocess(pd.read_csv('https://video.ittensive.com/machine-learning/prudential/train.csv.gz'))\n",
    "\n",
    "columns_groups = ['Insurance_History', 'InsurеdInfo', 'Medical_Keyword', 'Family_Hist', 'Medical_History', 'Product_Info']\n",
    "features = ['Wt', 'Ht', 'Ins_Age', 'BMI']\n",
    "for cg in columns_groups:\n",
    "    features.extend(train_df.columns[train_df.columns.str.startswith(cg)])\n",
    "print(features)"
   ]
  },
  {
   "cell_type": "markdown",
   "id": "a67a6ae7",
   "metadata": {},
   "source": [
    "### Нормализация и разделение данных"
   ]
  },
  {
   "cell_type": "code",
   "execution_count": 3,
   "id": "65f8235d",
   "metadata": {},
   "outputs": [
    {
     "name": "stdout",
     "output_type": "stream",
     "text": [
      "Потребление памяти меньше на 40.49 Мб (-75.1%)\n",
      "(47504, 119) (11877, 119)\n"
     ]
    }
   ],
   "source": [
    "scaler = preprocessing.StandardScaler()\n",
    "train_df_scaled = pd.DataFrame(scaler.fit_transform(train_df[features]))\n",
    "features_in_scaled = train_df_scaled.columns\n",
    "train_df_scaled['Response'] = train_df['Response']\n",
    "train_df_scaled = reduce_mem_usage(train_df_scaled)\n",
    "\n",
    "train_train_df, train_test_df = train_test_split(train_df_scaled, test_size=.2, random_state=GRAIN)\n",
    "print(train_train_df.shape, train_test_df.shape)"
   ]
  },
  {
   "cell_type": "markdown",
   "id": "24868026",
   "metadata": {},
   "source": [
    "### Матрица, в которую буду сохранять f1 оценки прогнозов каждой моделью каждого класса\n",
    "(для последующего выбора моделей)\n",
    "* строки - это целевые для предсказания классы\n",
    "* столбцы - это модели\n",
    "\n",
    "На пересечении строк и столбцов значение f1_score для пары конкретных модели и класса"
   ]
  },
  {
   "cell_type": "code",
   "execution_count": 4,
   "id": "527b45f7",
   "metadata": {},
   "outputs": [],
   "source": [
    "f1_scores_df = pd.DataFrame(index=[sorted(train_df['Response'].unique())])"
   ]
  },
  {
   "cell_type": "markdown",
   "id": "bee46193",
   "metadata": {},
   "source": [
    "### Построение моделей\n",
    "\n",
    "Использую лучшие гиперпараметры, подобранные ранее, так как их подбор через перекрестную проверку занял существенное время."
   ]
  },
  {
   "cell_type": "code",
   "execution_count": 5,
   "id": "7df345d3",
   "metadata": {},
   "outputs": [],
   "source": [
    "x_train_train = train_train_df[features_in_scaled]\n",
    "y_train_train = train_train_df['Response']\n",
    "\n",
    "x_train_test = train_test_df[features_in_scaled]\n",
    "y_train_test = train_test_df['Response']\n",
    "\n",
    "x_train = train_df_scaled[features_in_scaled]\n",
    "y_train = train_df_scaled['Response']"
   ]
  },
  {
   "cell_type": "markdown",
   "id": "39869616",
   "metadata": {},
   "source": [
    "#### CatBoost\n",
    "Основные гиперпараметры беру из тех, что подобраны ранее (времени на это затрачено ощутимо)."
   ]
  },
  {
   "cell_type": "code",
   "execution_count": 6,
   "id": "b4b11b73",
   "metadata": {},
   "outputs": [
    {
     "name": "stdout",
     "output_type": "stream",
     "text": [
      "0:\tlearn: 1.5308178\ttotal: 224ms\tremaining: 22.1s\n",
      "1:\tlearn: 1.3929447\ttotal: 280ms\tremaining: 13.7s\n",
      "2:\tlearn: 1.3382318\ttotal: 335ms\tremaining: 10.8s\n",
      "3:\tlearn: 1.3114882\ttotal: 391ms\tremaining: 9.38s\n",
      "4:\tlearn: 1.2898592\ttotal: 449ms\tremaining: 8.53s\n",
      "5:\tlearn: 1.2793855\ttotal: 508ms\tremaining: 7.96s\n",
      "6:\tlearn: 1.2686422\ttotal: 564ms\tremaining: 7.49s\n",
      "7:\tlearn: 1.2501712\ttotal: 621ms\tremaining: 7.14s\n",
      "8:\tlearn: 1.2412142\ttotal: 678ms\tremaining: 6.85s\n",
      "9:\tlearn: 1.2343899\ttotal: 737ms\tremaining: 6.63s\n",
      "10:\tlearn: 1.2250090\ttotal: 795ms\tremaining: 6.43s\n",
      "11:\tlearn: 1.2124148\ttotal: 851ms\tremaining: 6.24s\n",
      "12:\tlearn: 1.2087139\ttotal: 908ms\tremaining: 6.08s\n",
      "13:\tlearn: 1.2037673\ttotal: 965ms\tremaining: 5.92s\n",
      "14:\tlearn: 1.1999816\ttotal: 1.02s\tremaining: 5.79s\n",
      "15:\tlearn: 1.1963732\ttotal: 1.08s\tremaining: 5.66s\n",
      "16:\tlearn: 1.1884244\ttotal: 1.14s\tremaining: 5.54s\n",
      "17:\tlearn: 1.1840390\ttotal: 1.19s\tremaining: 5.43s\n",
      "18:\tlearn: 1.1781063\ttotal: 1.25s\tremaining: 5.33s\n",
      "19:\tlearn: 1.1736369\ttotal: 1.31s\tremaining: 5.23s\n",
      "20:\tlearn: 1.1703192\ttotal: 1.36s\tremaining: 5.14s\n",
      "21:\tlearn: 1.1641103\ttotal: 1.42s\tremaining: 5.05s\n",
      "22:\tlearn: 1.1583341\ttotal: 1.48s\tremaining: 4.95s\n",
      "23:\tlearn: 1.1472255\ttotal: 1.53s\tremaining: 4.86s\n",
      "24:\tlearn: 1.1450167\ttotal: 1.59s\tremaining: 4.77s\n",
      "25:\tlearn: 1.1406810\ttotal: 1.65s\tremaining: 4.7s\n",
      "26:\tlearn: 1.1336459\ttotal: 1.71s\tremaining: 4.61s\n",
      "27:\tlearn: 1.1305146\ttotal: 1.76s\tremaining: 4.53s\n",
      "28:\tlearn: 1.1269494\ttotal: 1.82s\tremaining: 4.46s\n",
      "29:\tlearn: 1.1233848\ttotal: 1.88s\tremaining: 4.38s\n",
      "30:\tlearn: 1.1199726\ttotal: 1.93s\tremaining: 4.3s\n",
      "31:\tlearn: 1.1173039\ttotal: 1.99s\tremaining: 4.23s\n",
      "32:\tlearn: 1.1143357\ttotal: 2.05s\tremaining: 4.16s\n",
      "33:\tlearn: 1.1106760\ttotal: 2.1s\tremaining: 4.09s\n",
      "34:\tlearn: 1.1081735\ttotal: 2.16s\tremaining: 4.01s\n",
      "35:\tlearn: 1.1052705\ttotal: 2.22s\tremaining: 3.94s\n",
      "36:\tlearn: 1.1030641\ttotal: 2.27s\tremaining: 3.87s\n",
      "37:\tlearn: 1.1011190\ttotal: 2.33s\tremaining: 3.81s\n",
      "38:\tlearn: 1.0984130\ttotal: 2.39s\tremaining: 3.74s\n",
      "39:\tlearn: 1.0969760\ttotal: 2.44s\tremaining: 3.67s\n",
      "40:\tlearn: 1.0945804\ttotal: 2.5s\tremaining: 3.6s\n",
      "41:\tlearn: 1.0924717\ttotal: 2.56s\tremaining: 3.54s\n",
      "42:\tlearn: 1.0896089\ttotal: 2.62s\tremaining: 3.47s\n",
      "43:\tlearn: 1.0859353\ttotal: 2.67s\tremaining: 3.4s\n",
      "44:\tlearn: 1.0833364\ttotal: 2.73s\tremaining: 3.34s\n",
      "45:\tlearn: 1.0809300\ttotal: 2.79s\tremaining: 3.28s\n",
      "46:\tlearn: 1.0791193\ttotal: 2.85s\tremaining: 3.21s\n",
      "47:\tlearn: 1.0775069\ttotal: 2.91s\tremaining: 3.15s\n",
      "48:\tlearn: 1.0756000\ttotal: 2.97s\tremaining: 3.09s\n",
      "49:\tlearn: 1.0725810\ttotal: 3.02s\tremaining: 3.02s\n",
      "50:\tlearn: 1.0691110\ttotal: 3.08s\tremaining: 2.96s\n",
      "51:\tlearn: 1.0681933\ttotal: 3.14s\tremaining: 2.9s\n",
      "52:\tlearn: 1.0658913\ttotal: 3.22s\tremaining: 2.85s\n",
      "53:\tlearn: 1.0628680\ttotal: 3.29s\tremaining: 2.81s\n",
      "54:\tlearn: 1.0605409\ttotal: 3.37s\tremaining: 2.75s\n",
      "55:\tlearn: 1.0595412\ttotal: 3.44s\tremaining: 2.7s\n",
      "56:\tlearn: 1.0567778\ttotal: 3.52s\tremaining: 2.65s\n",
      "57:\tlearn: 1.0550329\ttotal: 3.57s\tremaining: 2.59s\n",
      "58:\tlearn: 1.0549144\ttotal: 3.63s\tremaining: 2.52s\n",
      "59:\tlearn: 1.0532085\ttotal: 3.69s\tremaining: 2.46s\n",
      "60:\tlearn: 1.0519570\ttotal: 3.74s\tremaining: 2.39s\n",
      "61:\tlearn: 1.0518729\ttotal: 3.8s\tremaining: 2.33s\n",
      "62:\tlearn: 1.0502911\ttotal: 3.85s\tremaining: 2.26s\n",
      "63:\tlearn: 1.0481981\ttotal: 3.91s\tremaining: 2.2s\n",
      "64:\tlearn: 1.0473056\ttotal: 3.97s\tremaining: 2.14s\n",
      "65:\tlearn: 1.0441025\ttotal: 4.02s\tremaining: 2.07s\n",
      "66:\tlearn: 1.0423809\ttotal: 4.08s\tremaining: 2.01s\n",
      "67:\tlearn: 1.0422930\ttotal: 4.14s\tremaining: 1.95s\n",
      "68:\tlearn: 1.0419790\ttotal: 4.19s\tremaining: 1.88s\n",
      "69:\tlearn: 1.0398955\ttotal: 4.25s\tremaining: 1.82s\n",
      "70:\tlearn: 1.0397462\ttotal: 4.31s\tremaining: 1.76s\n",
      "71:\tlearn: 1.0374894\ttotal: 4.36s\tremaining: 1.7s\n",
      "72:\tlearn: 1.0348093\ttotal: 4.42s\tremaining: 1.64s\n",
      "73:\tlearn: 1.0347154\ttotal: 4.48s\tremaining: 1.57s\n",
      "74:\tlearn: 1.0323591\ttotal: 4.53s\tremaining: 1.51s\n",
      "75:\tlearn: 1.0309917\ttotal: 4.59s\tremaining: 1.45s\n",
      "76:\tlearn: 1.0288466\ttotal: 4.65s\tremaining: 1.39s\n",
      "77:\tlearn: 1.0263039\ttotal: 4.71s\tremaining: 1.33s\n",
      "78:\tlearn: 1.0236935\ttotal: 4.76s\tremaining: 1.27s\n",
      "79:\tlearn: 1.0224165\ttotal: 4.82s\tremaining: 1.21s\n",
      "80:\tlearn: 1.0198027\ttotal: 4.88s\tremaining: 1.14s\n",
      "81:\tlearn: 1.0187245\ttotal: 4.93s\tremaining: 1.08s\n",
      "82:\tlearn: 1.0187022\ttotal: 4.99s\tremaining: 1.02s\n",
      "83:\tlearn: 1.0171732\ttotal: 5.05s\tremaining: 962ms\n",
      "84:\tlearn: 1.0161190\ttotal: 5.11s\tremaining: 901ms\n",
      "85:\tlearn: 1.0144653\ttotal: 5.16s\tremaining: 841ms\n",
      "86:\tlearn: 1.0144319\ttotal: 5.22s\tremaining: 780ms\n",
      "87:\tlearn: 1.0116535\ttotal: 5.28s\tremaining: 720ms\n",
      "88:\tlearn: 1.0095139\ttotal: 5.34s\tremaining: 660ms\n",
      "89:\tlearn: 1.0084845\ttotal: 5.39s\tremaining: 599ms\n",
      "90:\tlearn: 1.0082755\ttotal: 5.45s\tremaining: 539ms\n",
      "91:\tlearn: 1.0081711\ttotal: 5.51s\tremaining: 479ms\n",
      "92:\tlearn: 1.0080510\ttotal: 5.57s\tremaining: 419ms\n",
      "93:\tlearn: 1.0064260\ttotal: 5.63s\tremaining: 359ms\n",
      "94:\tlearn: 1.0050171\ttotal: 5.68s\tremaining: 299ms\n",
      "95:\tlearn: 1.0049389\ttotal: 5.74s\tremaining: 239ms\n",
      "96:\tlearn: 1.0034971\ttotal: 5.8s\tremaining: 180ms\n",
      "97:\tlearn: 1.0034761\ttotal: 5.87s\tremaining: 120ms\n",
      "98:\tlearn: 1.0034046\ttotal: 5.95s\tremaining: 60.1ms\n",
      "99:\tlearn: 1.0022616\ttotal: 6.03s\tremaining: 0us\n",
      "CPU times: total: 1min 21s\n",
      "Wall time: 7.72 s\n"
     ]
    }
   ],
   "source": [
    "%%time\n",
    "from catboost import Pool, CatBoostClassifier\n",
    "model_CatBoost = CatBoostClassifier(\n",
    "    random_seed=GRAIN, loss_function='MultiClass', bootstrap_type='MVS', custom_metric='WKappa',\n",
    "    learning_rate=.56, depth=7, l2_leaf_reg=4, iterations=100\n",
    ").fit(Pool(data=x_train_train, label=y_train_train))"
   ]
  },
  {
   "cell_type": "code",
   "execution_count": 7,
   "id": "d2d773ab",
   "metadata": {},
   "outputs": [],
   "source": [
    "f1_scores_df['CatBoost'] = model_estimates(y_train_test, model_CatBoost.predict(Pool(data=x_train_test)).flatten())"
   ]
  },
  {
   "cell_type": "markdown",
   "id": "8c55b236",
   "metadata": {},
   "source": [
    "Обучение модели на полной тренировочной выборке"
   ]
  },
  {
   "cell_type": "code",
   "execution_count": 8,
   "id": "295e0d2e",
   "metadata": {},
   "outputs": [
    {
     "name": "stdout",
     "output_type": "stream",
     "text": [
      "0:\tlearn: 1.5197487\ttotal: 70.6ms\tremaining: 6.99s\n",
      "1:\tlearn: 1.3915691\ttotal: 138ms\tremaining: 6.75s\n",
      "2:\tlearn: 1.3435663\ttotal: 204ms\tremaining: 6.6s\n",
      "3:\tlearn: 1.3129286\ttotal: 272ms\tremaining: 6.52s\n",
      "4:\tlearn: 1.2843400\ttotal: 354ms\tremaining: 6.73s\n",
      "5:\tlearn: 1.2727900\ttotal: 444ms\tremaining: 6.96s\n",
      "6:\tlearn: 1.2603072\ttotal: 528ms\tremaining: 7.01s\n",
      "7:\tlearn: 1.2452974\ttotal: 618ms\tremaining: 7.11s\n",
      "8:\tlearn: 1.2330872\ttotal: 705ms\tremaining: 7.13s\n",
      "9:\tlearn: 1.2291206\ttotal: 775ms\tremaining: 6.97s\n",
      "10:\tlearn: 1.2217220\ttotal: 842ms\tremaining: 6.81s\n",
      "11:\tlearn: 1.2090635\ttotal: 913ms\tremaining: 6.69s\n",
      "12:\tlearn: 1.2052953\ttotal: 986ms\tremaining: 6.6s\n",
      "13:\tlearn: 1.2014075\ttotal: 1.06s\tremaining: 6.54s\n",
      "14:\tlearn: 1.1961090\ttotal: 1.14s\tremaining: 6.48s\n",
      "15:\tlearn: 1.1910428\ttotal: 1.22s\tremaining: 6.4s\n",
      "16:\tlearn: 1.1884284\ttotal: 1.3s\tremaining: 6.33s\n",
      "17:\tlearn: 1.1849168\ttotal: 1.37s\tremaining: 6.25s\n",
      "18:\tlearn: 1.1806464\ttotal: 1.45s\tremaining: 6.17s\n",
      "19:\tlearn: 1.1774053\ttotal: 1.52s\tremaining: 6.09s\n",
      "20:\tlearn: 1.1737258\ttotal: 1.6s\tremaining: 6.03s\n",
      "21:\tlearn: 1.1705522\ttotal: 1.68s\tremaining: 5.94s\n",
      "22:\tlearn: 1.1668662\ttotal: 1.75s\tremaining: 5.86s\n",
      "23:\tlearn: 1.1611981\ttotal: 1.82s\tremaining: 5.78s\n",
      "24:\tlearn: 1.1531948\ttotal: 1.92s\tremaining: 5.77s\n",
      "25:\tlearn: 1.1488999\ttotal: 2.02s\tremaining: 5.75s\n",
      "26:\tlearn: 1.1467213\ttotal: 2.11s\tremaining: 5.71s\n",
      "27:\tlearn: 1.1433040\ttotal: 2.19s\tremaining: 5.63s\n",
      "28:\tlearn: 1.1392243\ttotal: 2.26s\tremaining: 5.54s\n",
      "29:\tlearn: 1.1366733\ttotal: 2.34s\tremaining: 5.46s\n",
      "30:\tlearn: 1.1333917\ttotal: 2.41s\tremaining: 5.37s\n",
      "31:\tlearn: 1.1308781\ttotal: 2.49s\tremaining: 5.29s\n",
      "32:\tlearn: 1.1270943\ttotal: 2.59s\tremaining: 5.25s\n",
      "33:\tlearn: 1.1238860\ttotal: 2.68s\tremaining: 5.2s\n",
      "34:\tlearn: 1.1214116\ttotal: 2.77s\tremaining: 5.14s\n",
      "35:\tlearn: 1.1184179\ttotal: 2.85s\tremaining: 5.07s\n",
      "36:\tlearn: 1.1165958\ttotal: 2.92s\tremaining: 4.98s\n",
      "37:\tlearn: 1.1144702\ttotal: 3s\tremaining: 4.89s\n",
      "38:\tlearn: 1.1115217\ttotal: 3.08s\tremaining: 4.81s\n",
      "39:\tlearn: 1.1101957\ttotal: 3.15s\tremaining: 4.73s\n",
      "40:\tlearn: 1.1074939\ttotal: 3.23s\tremaining: 4.65s\n",
      "41:\tlearn: 1.1048737\ttotal: 3.31s\tremaining: 4.57s\n",
      "42:\tlearn: 1.1027389\ttotal: 3.38s\tremaining: 4.49s\n",
      "43:\tlearn: 1.1004717\ttotal: 3.46s\tremaining: 4.4s\n",
      "44:\tlearn: 1.0984243\ttotal: 3.54s\tremaining: 4.32s\n",
      "45:\tlearn: 1.0964387\ttotal: 3.62s\tremaining: 4.24s\n",
      "46:\tlearn: 1.0944659\ttotal: 3.69s\tremaining: 4.16s\n",
      "47:\tlearn: 1.0931558\ttotal: 3.77s\tremaining: 4.08s\n",
      "48:\tlearn: 1.0916706\ttotal: 3.84s\tremaining: 4s\n",
      "49:\tlearn: 1.0893080\ttotal: 3.91s\tremaining: 3.91s\n",
      "50:\tlearn: 1.0870829\ttotal: 3.99s\tremaining: 3.83s\n",
      "51:\tlearn: 1.0850469\ttotal: 4.06s\tremaining: 3.75s\n",
      "52:\tlearn: 1.0824111\ttotal: 4.14s\tremaining: 3.67s\n",
      "53:\tlearn: 1.0808891\ttotal: 4.21s\tremaining: 3.59s\n",
      "54:\tlearn: 1.0792456\ttotal: 4.29s\tremaining: 3.51s\n",
      "55:\tlearn: 1.0770651\ttotal: 4.36s\tremaining: 3.42s\n",
      "56:\tlearn: 1.0753426\ttotal: 4.43s\tremaining: 3.35s\n",
      "57:\tlearn: 1.0733183\ttotal: 4.51s\tremaining: 3.27s\n",
      "58:\tlearn: 1.0708786\ttotal: 4.59s\tremaining: 3.19s\n",
      "59:\tlearn: 1.0689353\ttotal: 4.66s\tremaining: 3.11s\n",
      "60:\tlearn: 1.0677686\ttotal: 4.74s\tremaining: 3.03s\n",
      "61:\tlearn: 1.0655246\ttotal: 4.81s\tremaining: 2.95s\n",
      "62:\tlearn: 1.0640943\ttotal: 4.89s\tremaining: 2.87s\n",
      "63:\tlearn: 1.0620892\ttotal: 4.96s\tremaining: 2.79s\n",
      "64:\tlearn: 1.0604287\ttotal: 5.04s\tremaining: 2.71s\n",
      "65:\tlearn: 1.0588697\ttotal: 5.12s\tremaining: 2.63s\n",
      "66:\tlearn: 1.0576457\ttotal: 5.19s\tremaining: 2.56s\n",
      "67:\tlearn: 1.0557622\ttotal: 5.27s\tremaining: 2.48s\n",
      "68:\tlearn: 1.0536926\ttotal: 5.34s\tremaining: 2.4s\n",
      "69:\tlearn: 1.0514014\ttotal: 5.42s\tremaining: 2.32s\n",
      "70:\tlearn: 1.0495194\ttotal: 5.5s\tremaining: 2.25s\n",
      "71:\tlearn: 1.0478039\ttotal: 5.58s\tremaining: 2.17s\n",
      "72:\tlearn: 1.0464384\ttotal: 5.65s\tremaining: 2.09s\n",
      "73:\tlearn: 1.0453241\ttotal: 5.73s\tremaining: 2.01s\n",
      "74:\tlearn: 1.0452345\ttotal: 5.8s\tremaining: 1.93s\n",
      "75:\tlearn: 1.0439077\ttotal: 5.88s\tremaining: 1.85s\n",
      "76:\tlearn: 1.0433987\ttotal: 5.95s\tremaining: 1.78s\n",
      "77:\tlearn: 1.0421576\ttotal: 6.02s\tremaining: 1.7s\n",
      "78:\tlearn: 1.0418575\ttotal: 6.1s\tremaining: 1.62s\n",
      "79:\tlearn: 1.0403099\ttotal: 6.17s\tremaining: 1.54s\n",
      "80:\tlearn: 1.0392694\ttotal: 6.25s\tremaining: 1.47s\n",
      "81:\tlearn: 1.0379842\ttotal: 6.32s\tremaining: 1.39s\n",
      "82:\tlearn: 1.0367288\ttotal: 6.4s\tremaining: 1.31s\n",
      "83:\tlearn: 1.0352663\ttotal: 6.47s\tremaining: 1.23s\n",
      "84:\tlearn: 1.0341691\ttotal: 6.55s\tremaining: 1.16s\n",
      "85:\tlearn: 1.0326393\ttotal: 6.62s\tremaining: 1.08s\n",
      "86:\tlearn: 1.0312337\ttotal: 6.7s\tremaining: 1s\n",
      "87:\tlearn: 1.0291673\ttotal: 6.77s\tremaining: 924ms\n",
      "88:\tlearn: 1.0277449\ttotal: 6.85s\tremaining: 847ms\n",
      "89:\tlearn: 1.0266362\ttotal: 6.93s\tremaining: 770ms\n",
      "90:\tlearn: 1.0252680\ttotal: 7s\tremaining: 693ms\n",
      "91:\tlearn: 1.0241133\ttotal: 7.08s\tremaining: 616ms\n",
      "92:\tlearn: 1.0226080\ttotal: 7.16s\tremaining: 539ms\n",
      "93:\tlearn: 1.0209538\ttotal: 7.23s\tremaining: 461ms\n",
      "94:\tlearn: 1.0191619\ttotal: 7.3s\tremaining: 384ms\n",
      "95:\tlearn: 1.0172298\ttotal: 7.38s\tremaining: 308ms\n",
      "96:\tlearn: 1.0171903\ttotal: 7.45s\tremaining: 231ms\n",
      "97:\tlearn: 1.0160707\ttotal: 7.53s\tremaining: 154ms\n",
      "98:\tlearn: 1.0148054\ttotal: 7.61s\tremaining: 76.8ms\n",
      "99:\tlearn: 1.0147390\ttotal: 7.68s\tremaining: 0us\n",
      "CPU times: total: 1min 43s\n",
      "Wall time: 8.98 s\n"
     ]
    }
   ],
   "source": [
    "%%time\n",
    "model_CatBoost = CatBoostClassifier(\n",
    "    random_seed=GRAIN, loss_function='MultiClass', bootstrap_type='MVS', custom_metric='WKappa',\n",
    "    learning_rate=.56, depth=7, l2_leaf_reg=4, iterations=100\n",
    ").fit(Pool(data=x_train, label=y_train))"
   ]
  },
  {
   "cell_type": "markdown",
   "id": "6895b151",
   "metadata": {},
   "source": [
    "#### Градиентный бустинг\n",
    "Основные гиперпараметры беру из тех, что подобраны ранее (времени на это затрачено ощутимо)."
   ]
  },
  {
   "cell_type": "code",
   "execution_count": 9,
   "id": "0cf4b51b",
   "metadata": {},
   "outputs": [
    {
     "name": "stdout",
     "output_type": "stream",
     "text": [
      "CPU times: total: 1min 59s\n",
      "Wall time: 2min\n"
     ]
    }
   ],
   "source": [
    "%%time\n",
    "from sklearn.ensemble import GradientBoostingClassifier\n",
    "model_GradientBoosting = GradientBoostingClassifier(\n",
    "    random_state=GRAIN, max_depth=17, n_estimators=76, max_features=27, min_samples_leaf=20\n",
    ").fit(x_train_train, y_train_train)"
   ]
  },
  {
   "cell_type": "code",
   "execution_count": 10,
   "id": "92d283fe",
   "metadata": {},
   "outputs": [],
   "source": [
    "f1_scores_df['GradientBoosting'] = model_estimates(y_train_test, model_GradientBoosting.predict(x_train_test))"
   ]
  },
  {
   "cell_type": "markdown",
   "id": "113de86f",
   "metadata": {},
   "source": [
    "Обучение модели на полной тренировочной выборке"
   ]
  },
  {
   "cell_type": "code",
   "execution_count": 11,
   "id": "9f1de928",
   "metadata": {},
   "outputs": [
    {
     "name": "stdout",
     "output_type": "stream",
     "text": [
      "CPU times: total: 2min 36s\n",
      "Wall time: 2min 36s\n"
     ]
    },
    {
     "data": {
      "text/plain": [
       "GradientBoostingClassifier(max_depth=17, max_features=27, min_samples_leaf=20,\n",
       "                           n_estimators=76, random_state=11)"
      ]
     },
     "execution_count": 11,
     "metadata": {},
     "output_type": "execute_result"
    }
   ],
   "source": [
    "%%time\n",
    "model_GradientBoosting.fit(x_train, y_train)"
   ]
  },
  {
   "cell_type": "markdown",
   "id": "3895ddda",
   "metadata": {},
   "source": [
    "#### XGBoost\n",
    "Основные гиперпараметры беру из тех, что подобраны ранее (времени на это затрачено ощутимо)."
   ]
  },
  {
   "cell_type": "code",
   "execution_count": 12,
   "id": "0eef899b",
   "metadata": {},
   "outputs": [
    {
     "name": "stdout",
     "output_type": "stream",
     "text": [
      "[11:05:55] WARNING: C:/Users/Administrator/workspace/xgboost-win64_release_1.6.0/src/learner.cc:627: \n",
      "Parameters: { \"max_features\", \"min_samples_leaf\" } might not be used.\n",
      "\n",
      "  This could be a false alarm, with some parameters getting used by language bindings but\n",
      "  then being mistakenly passed down to XGBoost core, or some parameter actually being used\n",
      "  but getting flagged wrongly here. Please open an issue if you find any such cases.\n",
      "\n",
      "\n",
      "CPU times: total: 10min 25s\n",
      "Wall time: 41 s\n"
     ]
    }
   ],
   "source": [
    "%%time\n",
    "from xgboost import XGBClassifier\n",
    "model_XGBoost = XGBClassifier(\n",
    "    max_depth=15, n_estimators=76, max_features=27, min_samples_leaf=19\n",
    ").fit(x_train_train, y_train_train)"
   ]
  },
  {
   "cell_type": "code",
   "execution_count": 13,
   "id": "bc51f3c1",
   "metadata": {},
   "outputs": [],
   "source": [
    "f1_scores_df['XGBoost'] = model_estimates(y_train_test, model_XGBoost.predict(x_train_test))"
   ]
  },
  {
   "cell_type": "markdown",
   "id": "bfd0e71b",
   "metadata": {},
   "source": [
    "Обучение модели на полной тренировочной выборке"
   ]
  },
  {
   "cell_type": "code",
   "execution_count": 14,
   "id": "82d5f9d3",
   "metadata": {},
   "outputs": [
    {
     "name": "stdout",
     "output_type": "stream",
     "text": [
      "[11:06:35] WARNING: C:/Users/Administrator/workspace/xgboost-win64_release_1.6.0/src/learner.cc:627: \n",
      "Parameters: { \"max_features\", \"min_samples_leaf\" } might not be used.\n",
      "\n",
      "  This could be a false alarm, with some parameters getting used by language bindings but\n",
      "  then being mistakenly passed down to XGBoost core, or some parameter actually being used\n",
      "  but getting flagged wrongly here. Please open an issue if you find any such cases.\n",
      "\n",
      "\n",
      "CPU times: total: 13min 42s\n",
      "Wall time: 54.6 s\n"
     ]
    },
    {
     "data": {
      "text/plain": [
       "XGBClassifier(base_score=0.5, booster='gbtree', callbacks=None,\n",
       "              colsample_bylevel=1, colsample_bynode=1, colsample_bytree=1,\n",
       "              early_stopping_rounds=None, enable_categorical=False,\n",
       "              eval_metric=None, gamma=0, gpu_id=-1, grow_policy='depthwise',\n",
       "              importance_type=None, interaction_constraints='',\n",
       "              learning_rate=0.300000012, max_bin=256, max_cat_to_onehot=4,\n",
       "              max_delta_step=0, max_depth=15, max_features=27, max_leaves=0,\n",
       "              min_child_weight=1, min_samples_leaf=19, missing=nan,\n",
       "              monotone_constraints='()', n_estimators=76, n_jobs=0,\n",
       "              num_parallel_tree=1, objective='multi:softprob', predictor='auto', ...)"
      ]
     },
     "execution_count": 14,
     "metadata": {},
     "output_type": "execute_result"
    }
   ],
   "source": [
    "%%time\n",
    "model_XGBoost.fit(x_train, y_train)"
   ]
  },
  {
   "cell_type": "markdown",
   "id": "c8042605",
   "metadata": {},
   "source": [
    "#### LightGBM\n",
    "Основные гиперпараметры беру из тех, что подобраны ранее (времени на это затрачено ощутимо)."
   ]
  },
  {
   "cell_type": "code",
   "execution_count": 15,
   "id": "0d39e641",
   "metadata": {},
   "outputs": [
    {
     "name": "stdout",
     "output_type": "stream",
     "text": [
      "CPU times: total: 4min 44s\n",
      "Wall time: 20.1 s\n"
     ]
    }
   ],
   "source": [
    "%%time\n",
    "import lightgbm as lgb\n",
    "model_LGBM = lgb.LGBMRegressor(\n",
    "    random_state=GRAIN, n_estimators=1000, objective='multiclass', num_class=8,\n",
    "    max_depth=16, min_child_samples=18, num_leaves=36\n",
    ").fit(x_train_train, y_train_train)"
   ]
  },
  {
   "cell_type": "code",
   "execution_count": 16,
   "id": "42a221a7",
   "metadata": {},
   "outputs": [],
   "source": [
    "def to_class(row: pd.Series):\n",
    "    return np.argmax(row)\n",
    "\n",
    "f1_scores_df['LightGBM'] = model_estimates(\n",
    "    y_train_test, pd.DataFrame(model_LGBM.predict(x_train_test)).apply(to_class, axis='columns')\n",
    ")"
   ]
  },
  {
   "cell_type": "markdown",
   "id": "cc3e9a81",
   "metadata": {},
   "source": [
    "Обучение модели на полной тренировочной выборке"
   ]
  },
  {
   "cell_type": "code",
   "execution_count": 17,
   "id": "4c01d596",
   "metadata": {},
   "outputs": [
    {
     "name": "stdout",
     "output_type": "stream",
     "text": [
      "CPU times: total: 4min 28s\n",
      "Wall time: 19.1 s\n"
     ]
    },
    {
     "data": {
      "text/plain": [
       "LGBMRegressor(max_depth=16, min_child_samples=18, n_estimators=1000,\n",
       "              num_class=8, num_leaves=36, objective='multiclass',\n",
       "              random_state=11)"
      ]
     },
     "execution_count": 17,
     "metadata": {},
     "output_type": "execute_result"
    }
   ],
   "source": [
    "%%time\n",
    "model_LGBM.fit(x_train, y_train)"
   ]
  },
  {
   "cell_type": "markdown",
   "id": "166f70f2",
   "metadata": {},
   "source": [
    "### Выберите для каждого класса модель, которая предсказывает его лучше всего."
   ]
  },
  {
   "cell_type": "code",
   "execution_count": 18,
   "id": "c6674574",
   "metadata": {},
   "outputs": [
    {
     "data": {
      "text/html": [
       "<div>\n",
       "<style scoped>\n",
       "    .dataframe tbody tr th:only-of-type {\n",
       "        vertical-align: middle;\n",
       "    }\n",
       "\n",
       "    .dataframe tbody tr th {\n",
       "        vertical-align: top;\n",
       "    }\n",
       "\n",
       "    .dataframe thead th {\n",
       "        text-align: right;\n",
       "    }\n",
       "</style>\n",
       "<table border=\"1\" class=\"dataframe\">\n",
       "  <thead>\n",
       "    <tr style=\"text-align: right;\">\n",
       "      <th></th>\n",
       "      <th>CatBoost</th>\n",
       "      <th>GradientBoosting</th>\n",
       "      <th>XGBoost</th>\n",
       "      <th>LightGBM</th>\n",
       "    </tr>\n",
       "  </thead>\n",
       "  <tbody>\n",
       "    <tr>\n",
       "      <th>0</th>\n",
       "      <td>0.266263</td>\n",
       "      <td>0.293069</td>\n",
       "      <td>0.272867</td>\n",
       "      <td>0.283325</td>\n",
       "    </tr>\n",
       "    <tr>\n",
       "      <th>1</th>\n",
       "      <td>0.303917</td>\n",
       "      <td>0.316379</td>\n",
       "      <td>0.285441</td>\n",
       "      <td>0.313779</td>\n",
       "    </tr>\n",
       "    <tr>\n",
       "      <th>2</th>\n",
       "      <td>0.396450</td>\n",
       "      <td>0.418879</td>\n",
       "      <td>0.432277</td>\n",
       "      <td>0.356688</td>\n",
       "    </tr>\n",
       "    <tr>\n",
       "      <th>3</th>\n",
       "      <td>0.664662</td>\n",
       "      <td>0.647239</td>\n",
       "      <td>0.642750</td>\n",
       "      <td>0.622642</td>\n",
       "    </tr>\n",
       "    <tr>\n",
       "      <th>4</th>\n",
       "      <td>0.567634</td>\n",
       "      <td>0.569307</td>\n",
       "      <td>0.571429</td>\n",
       "      <td>0.571715</td>\n",
       "    </tr>\n",
       "    <tr>\n",
       "      <th>5</th>\n",
       "      <td>0.506679</td>\n",
       "      <td>0.515718</td>\n",
       "      <td>0.521470</td>\n",
       "      <td>0.510097</td>\n",
       "    </tr>\n",
       "    <tr>\n",
       "      <th>6</th>\n",
       "      <td>0.454967</td>\n",
       "      <td>0.458071</td>\n",
       "      <td>0.462524</td>\n",
       "      <td>0.457689</td>\n",
       "    </tr>\n",
       "    <tr>\n",
       "      <th>7</th>\n",
       "      <td>0.779388</td>\n",
       "      <td>0.779010</td>\n",
       "      <td>0.778616</td>\n",
       "      <td>0.782193</td>\n",
       "    </tr>\n",
       "  </tbody>\n",
       "</table>\n",
       "</div>"
      ],
      "text/plain": [
       "   CatBoost  GradientBoosting   XGBoost  LightGBM\n",
       "0  0.266263          0.293069  0.272867  0.283325\n",
       "1  0.303917          0.316379  0.285441  0.313779\n",
       "2  0.396450          0.418879  0.432277  0.356688\n",
       "3  0.664662          0.647239  0.642750  0.622642\n",
       "4  0.567634          0.569307  0.571429  0.571715\n",
       "5  0.506679          0.515718  0.521470  0.510097\n",
       "6  0.454967          0.458071  0.462524  0.457689\n",
       "7  0.779388          0.779010  0.778616  0.782193"
      ]
     },
     "execution_count": 18,
     "metadata": {},
     "output_type": "execute_result"
    }
   ],
   "source": [
    "f1_scores_df"
   ]
  },
  {
   "cell_type": "code",
   "execution_count": 19,
   "id": "005ae5d0",
   "metadata": {},
   "outputs": [
    {
     "name": "stdout",
     "output_type": "stream",
     "text": [
      "Для класса 0 оптимальна модель GradientBoosting\n",
      "Для класса 1 оптимальна модель GradientBoosting\n",
      "Для класса 2 оптимальна модель XGBoost\n",
      "Для класса 3 оптимальна модель CatBoost\n",
      "Для класса 4 оптимальна модель LightGBM\n",
      "Для класса 5 оптимальна модель XGBoost\n",
      "Для класса 6 оптимальна модель XGBoost\n",
      "Для класса 7 оптимальна модель LightGBM\n"
     ]
    }
   ],
   "source": [
    "def test_row(row: pd.Series):\n",
    "    return np.argmax(row)\n",
    "\n",
    "\n",
    "opitmal_models = f1_scores_df.apply(test_row, axis='columns').to_list()\n",
    "for class_id in range(len(opitmal_models)):\n",
    "    print('Для класса', class_id, 'оптимальна модель', f1_scores_df.columns[opitmal_models[class_id]])"
   ]
  },
  {
   "cell_type": "markdown",
   "id": "91ef6a86",
   "metadata": {},
   "source": [
    "### Загрузка отложенной выборки и приведение данных к формату обучающей выборки"
   ]
  },
  {
   "cell_type": "code",
   "execution_count": 20,
   "id": "9a42d861",
   "metadata": {},
   "outputs": [
    {
     "name": "stdout",
     "output_type": "stream",
     "text": [
      "Потребление памяти меньше на 16.34 Мб (-84.9%)\n",
      "Потребление памяти меньше на 13.35 Мб (-75.0%)\n",
      "<class 'pandas.core.frame.DataFrame'>\n",
      "RangeIndex: 19765 entries, 0 to 19764\n",
      "Columns: 118 entries, 0 to 117\n",
      "dtypes: float16(118)\n",
      "memory usage: 4.4 MB\n"
     ]
    }
   ],
   "source": [
    "test_df = pd.read_csv('https://video.ittensive.com/machine-learning/prudential/test.csv.gz')\n",
    "test_df = reduce_mem_usage(data_preprocess(test_df))\n",
    "test_transformed_df = reduce_mem_usage(pd.DataFrame(scaler.transform(test_df[features])))\n",
    "test_transformed_df.info()"
   ]
  },
  {
   "cell_type": "markdown",
   "id": "12ac50a0",
   "metadata": {},
   "source": [
    "### Предсказание данных"
   ]
  },
  {
   "cell_type": "code",
   "execution_count": 21,
   "id": "bd4f9c96",
   "metadata": {},
   "outputs": [],
   "source": [
    "def predict(x: pd.Series):\n",
    "    x = x.to_numpy().reshape(1, -1)\n",
    "    prediction = model_XGBoost.predict(x).flatten()[0]\n",
    "    if prediction == 2 or prediction == 5 or prediction == 6:\n",
    "        return prediction\n",
    "    \n",
    "    prediction = pd.DataFrame(model_LGBM.predict(x)).apply(to_class, axis='columns')[0]\n",
    "    if prediction == 4 or prediction == 7:\n",
    "        return prediction\n",
    "        \n",
    "    prediction = model_GradientBoosting.predict(x)[0]\n",
    "    if prediction == 0 or prediction == 1:\n",
    "        return prediction\n",
    "\n",
    "    return model_CatBoost.predict(data=x).flatten()[0]"
   ]
  },
  {
   "cell_type": "code",
   "execution_count": 22,
   "id": "130326c1",
   "metadata": {},
   "outputs": [
    {
     "name": "stdout",
     "output_type": "stream",
     "text": [
      "CPU times: total: 15min 55s\n",
      "Wall time: 1min 4s\n"
     ]
    }
   ],
   "source": [
    "%%time\n",
    "test_transformed_df['Response'] = test_transformed_df.apply(predict, axis='columns')"
   ]
  },
  {
   "cell_type": "markdown",
   "id": "f57ed37e",
   "metadata": {},
   "source": [
    "В моделе порядковые значения классов от 0 до 7, в ответе они должны быть от 1 до 8 - преобразую к этому формату"
   ]
  },
  {
   "cell_type": "code",
   "execution_count": 23,
   "id": "9f8760e6",
   "metadata": {},
   "outputs": [],
   "source": [
    "test_transformed_df['Response'] += 1"
   ]
  },
  {
   "cell_type": "markdown",
   "id": "ecf73036",
   "metadata": {},
   "source": [
    "### Формирование результатов"
   ]
  },
  {
   "cell_type": "code",
   "execution_count": 24,
   "id": "440573de",
   "metadata": {},
   "outputs": [
    {
     "data": {
      "text/html": [
       "<div>\n",
       "<style scoped>\n",
       "    .dataframe tbody tr th:only-of-type {\n",
       "        vertical-align: middle;\n",
       "    }\n",
       "\n",
       "    .dataframe tbody tr th {\n",
       "        vertical-align: top;\n",
       "    }\n",
       "\n",
       "    .dataframe thead th {\n",
       "        text-align: right;\n",
       "    }\n",
       "</style>\n",
       "<table border=\"1\" class=\"dataframe\">\n",
       "  <thead>\n",
       "    <tr style=\"text-align: right;\">\n",
       "      <th></th>\n",
       "      <th>Id</th>\n",
       "      <th>Response</th>\n",
       "    </tr>\n",
       "  </thead>\n",
       "  <tbody>\n",
       "    <tr>\n",
       "      <th>0</th>\n",
       "      <td>1</td>\n",
       "      <td>8</td>\n",
       "    </tr>\n",
       "    <tr>\n",
       "      <th>1</th>\n",
       "      <td>3</td>\n",
       "      <td>8</td>\n",
       "    </tr>\n",
       "    <tr>\n",
       "      <th>2</th>\n",
       "      <td>4</td>\n",
       "      <td>8</td>\n",
       "    </tr>\n",
       "    <tr>\n",
       "      <th>3</th>\n",
       "      <td>9</td>\n",
       "      <td>8</td>\n",
       "    </tr>\n",
       "    <tr>\n",
       "      <th>4</th>\n",
       "      <td>12</td>\n",
       "      <td>8</td>\n",
       "    </tr>\n",
       "  </tbody>\n",
       "</table>\n",
       "</div>"
      ],
      "text/plain": [
       "   Id  Response\n",
       "0   1         8\n",
       "1   3         8\n",
       "2   4         8\n",
       "3   9         8\n",
       "4  12         8"
      ]
     },
     "execution_count": 24,
     "metadata": {},
     "output_type": "execute_result"
    }
   ],
   "source": [
    "submission = pd.read_csv('https://video.ittensive.com/machine-learning/prudential/sample_submission.csv.gz')\n",
    "submission.head()"
   ]
  },
  {
   "cell_type": "code",
   "execution_count": 25,
   "id": "37d93bbb",
   "metadata": {},
   "outputs": [
    {
     "data": {
      "text/html": [
       "<div>\n",
       "<style scoped>\n",
       "    .dataframe tbody tr th:only-of-type {\n",
       "        vertical-align: middle;\n",
       "    }\n",
       "\n",
       "    .dataframe tbody tr th {\n",
       "        vertical-align: top;\n",
       "    }\n",
       "\n",
       "    .dataframe thead th {\n",
       "        text-align: right;\n",
       "    }\n",
       "</style>\n",
       "<table border=\"1\" class=\"dataframe\">\n",
       "  <thead>\n",
       "    <tr style=\"text-align: right;\">\n",
       "      <th></th>\n",
       "      <th>Id</th>\n",
       "      <th>Response</th>\n",
       "    </tr>\n",
       "  </thead>\n",
       "  <tbody>\n",
       "    <tr>\n",
       "      <th>0</th>\n",
       "      <td>1</td>\n",
       "      <td>1</td>\n",
       "    </tr>\n",
       "    <tr>\n",
       "      <th>1</th>\n",
       "      <td>3</td>\n",
       "      <td>8</td>\n",
       "    </tr>\n",
       "    <tr>\n",
       "      <th>2</th>\n",
       "      <td>4</td>\n",
       "      <td>7</td>\n",
       "    </tr>\n",
       "    <tr>\n",
       "      <th>3</th>\n",
       "      <td>9</td>\n",
       "      <td>7</td>\n",
       "    </tr>\n",
       "    <tr>\n",
       "      <th>4</th>\n",
       "      <td>12</td>\n",
       "      <td>8</td>\n",
       "    </tr>\n",
       "  </tbody>\n",
       "</table>\n",
       "</div>"
      ],
      "text/plain": [
       "   Id  Response\n",
       "0   1         1\n",
       "1   3         8\n",
       "2   4         7\n",
       "3   9         7\n",
       "4  12         8"
      ]
     },
     "execution_count": 25,
     "metadata": {},
     "output_type": "execute_result"
    }
   ],
   "source": [
    "submission['Response'] = test_transformed_df['Response'].astype('int8')\n",
    "submission.head()"
   ]
  },
  {
   "cell_type": "markdown",
   "id": "8344feab",
   "metadata": {},
   "source": [
    "### Выгрузка результатов"
   ]
  },
  {
   "cell_type": "code",
   "execution_count": 26,
   "id": "d22172d2",
   "metadata": {},
   "outputs": [],
   "source": [
    "submission.to_csv('submission', index=False)"
   ]
  }
 ],
 "metadata": {
  "kernelspec": {
   "display_name": "Python 3 (ipykernel)",
   "language": "python",
   "name": "python3"
  },
  "language_info": {
   "codemirror_mode": {
    "name": "ipython",
    "version": 3
   },
   "file_extension": ".py",
   "mimetype": "text/x-python",
   "name": "python",
   "nbconvert_exporter": "python",
   "pygments_lexer": "ipython3",
   "version": "3.10.4"
  }
 },
 "nbformat": 4,
 "nbformat_minor": 5
}
