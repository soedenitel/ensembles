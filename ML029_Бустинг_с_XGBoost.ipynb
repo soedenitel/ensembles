{
 "cells": [
  {
   "cell_type": "markdown",
   "id": "5cbfe0d5",
   "metadata": {},
   "source": [
    "## Постановка задачи\n",
    "Загрузим данные, приведем их к числовым, заполним пропуски, нормализуем данные и оптимизируем память.\n",
    "\n",
    "Разделим выборку на обучающую/проверочную в соотношении 80/20.\n",
    "\n",
    "Построим XGBoost модель.\n",
    "\n",
    "Проведем предсказание и проверим качество через каппа-метрику.\n",
    "\n",
    "Данные:\n",
    "* https://video.ittensive.com/machine-learning/prudential/train.csv.gz\n",
    "\n",
    "Соревнование: https://www.kaggle.com/c/prudential-life-insurance-assessment/\n",
    "\n",
    "© ITtensive, 2020"
   ]
  },
  {
   "cell_type": "code",
   "execution_count": 1,
   "id": "87702099",
   "metadata": {},
   "outputs": [],
   "source": [
    "GRAIN = 11\n",
    "import pandas as pd\n",
    "import numpy as np\n",
    "from sklearn.model_selection import train_test_split\n",
    "from sklearn.metrics import cohen_kappa_score, confusion_matrix, make_scorer\n",
    "from sklearn.model_selection import GridSearchCV, cross_val_score\n",
    "from xgboost import XGBClassifier\n",
    "from sklearn import preprocessing\n",
    "from etl_utils import reduce_mem_usage\n",
    "\n",
    "\n",
    "data = pd.read_csv(\"https://video.ittensive.com/machine-learning/prudential/train.csv.gz\")\n",
    "\n",
    "data['Product_Info_2_1'] = data['Product_Info_2'].str.slice(0, 1)\n",
    "data['Product_Info_2_2'] = pd.to_numeric(data['Product_Info_2'].str.slice(1, 2))\n",
    "data = data.drop('Product_Info_2', axis='columns')\n",
    "\n",
    "onehot_df = pd.get_dummies(data['Product_Info_2_1'])\n",
    "onehot_df.columns = ['Product_Info_2_1' + column for column in onehot_df.columns]\n",
    "data = pd.merge(left=data, right=onehot_df, left_index=True, right_index=True).drop('Product_Info_2_1', axis=1).fillna(-1)\n",
    "del onehot_df\n",
    "\n",
    "data['Response'] = data['Response'] - 1"
   ]
  },
  {
   "cell_type": "markdown",
   "id": "c00c4aff",
   "metadata": {},
   "source": [
    "### Набор столбцов для расчета"
   ]
  },
  {
   "cell_type": "code",
   "execution_count": 2,
   "id": "b69e8200",
   "metadata": {},
   "outputs": [
    {
     "name": "stdout",
     "output_type": "stream",
     "text": [
      "['Wt', 'Ht', 'Ins_Age', 'BMI', 'Insurance_History_1', 'Insurance_History_2', 'Insurance_History_3', 'Insurance_History_4', 'Insurance_History_5', 'Insurance_History_7', 'Insurance_History_8', 'Insurance_History_9', 'Medical_Keyword_1', 'Medical_Keyword_2', 'Medical_Keyword_3', 'Medical_Keyword_4', 'Medical_Keyword_5', 'Medical_Keyword_6', 'Medical_Keyword_7', 'Medical_Keyword_8', 'Medical_Keyword_9', 'Medical_Keyword_10', 'Medical_Keyword_11', 'Medical_Keyword_12', 'Medical_Keyword_13', 'Medical_Keyword_14', 'Medical_Keyword_15', 'Medical_Keyword_16', 'Medical_Keyword_17', 'Medical_Keyword_18', 'Medical_Keyword_19', 'Medical_Keyword_20', 'Medical_Keyword_21', 'Medical_Keyword_22', 'Medical_Keyword_23', 'Medical_Keyword_24', 'Medical_Keyword_25', 'Medical_Keyword_26', 'Medical_Keyword_27', 'Medical_Keyword_28', 'Medical_Keyword_29', 'Medical_Keyword_30', 'Medical_Keyword_31', 'Medical_Keyword_32', 'Medical_Keyword_33', 'Medical_Keyword_34', 'Medical_Keyword_35', 'Medical_Keyword_36', 'Medical_Keyword_37', 'Medical_Keyword_38', 'Medical_Keyword_39', 'Medical_Keyword_40', 'Medical_Keyword_41', 'Medical_Keyword_42', 'Medical_Keyword_43', 'Medical_Keyword_44', 'Medical_Keyword_45', 'Medical_Keyword_46', 'Medical_Keyword_47', 'Medical_Keyword_48', 'Family_Hist_1', 'Family_Hist_2', 'Family_Hist_3', 'Family_Hist_4', 'Family_Hist_5', 'Medical_History_1', 'Medical_History_2', 'Medical_History_3', 'Medical_History_4', 'Medical_History_5', 'Medical_History_6', 'Medical_History_7', 'Medical_History_8', 'Medical_History_9', 'Medical_History_10', 'Medical_History_11', 'Medical_History_12', 'Medical_History_13', 'Medical_History_14', 'Medical_History_15', 'Medical_History_16', 'Medical_History_17', 'Medical_History_18', 'Medical_History_19', 'Medical_History_20', 'Medical_History_21', 'Medical_History_22', 'Medical_History_23', 'Medical_History_24', 'Medical_History_25', 'Medical_History_26', 'Medical_History_27', 'Medical_History_28', 'Medical_History_29', 'Medical_History_30', 'Medical_History_31', 'Medical_History_32', 'Medical_History_33', 'Medical_History_34', 'Medical_History_35', 'Medical_History_36', 'Medical_History_37', 'Medical_History_38', 'Medical_History_39', 'Medical_History_40', 'Medical_History_41', 'Product_Info_1', 'Product_Info_3', 'Product_Info_4', 'Product_Info_5', 'Product_Info_6', 'Product_Info_7', 'Product_Info_2_2', 'Product_Info_2_1A', 'Product_Info_2_1B', 'Product_Info_2_1C', 'Product_Info_2_1D', 'Product_Info_2_1E']\n"
     ]
    }
   ],
   "source": [
    "columns_groups = ['Insurance_History', 'InsurеdInfo', 'Medical_Keyword', 'Family_Hist', 'Medical_History', 'Product_Info']\n",
    "columns = ['Wt', 'Ht', 'Ins_Age', 'BMI']\n",
    "for cg in columns_groups:\n",
    "    columns.extend(data.columns[data.columns.str.startswith(cg)])\n",
    "print(columns)"
   ]
  },
  {
   "cell_type": "markdown",
   "id": "1ba4ac3c",
   "metadata": {},
   "source": [
    "### Нормализация данных"
   ]
  },
  {
   "cell_type": "code",
   "execution_count": 3,
   "id": "a0cf4b4a",
   "metadata": {},
   "outputs": [
    {
     "name": "stdout",
     "output_type": "stream",
     "text": [
      "Потребление памяти меньше на 40.49 Мб (-75.1%)\n",
      "<class 'pandas.core.frame.DataFrame'>\n",
      "RangeIndex: 59381 entries, 0 to 59380\n",
      "Columns: 119 entries, 0 to Response\n",
      "dtypes: float16(118), int8(1)\n",
      "memory usage: 13.4 MB\n"
     ]
    }
   ],
   "source": [
    "scaler = preprocessing.StandardScaler()\n",
    "data_transformed = pd.DataFrame(scaler.fit_transform(data[columns]))\n",
    "columns_transformed = data_transformed.columns\n",
    "data_transformed['Response'] = data['Response']\n",
    "data_transformed = reduce_mem_usage(data_transformed)\n",
    "data_transformed.info()"
   ]
  },
  {
   "cell_type": "markdown",
   "id": "346573b1",
   "metadata": {},
   "source": [
    "### Разделение данных\n",
    "Преобразуем выборки в отдельные наборы данных"
   ]
  },
  {
   "cell_type": "code",
   "execution_count": 4,
   "id": "21aff512",
   "metadata": {},
   "outputs": [
    {
     "data": {
      "text/html": [
       "<div>\n",
       "<style scoped>\n",
       "    .dataframe tbody tr th:only-of-type {\n",
       "        vertical-align: middle;\n",
       "    }\n",
       "\n",
       "    .dataframe tbody tr th {\n",
       "        vertical-align: top;\n",
       "    }\n",
       "\n",
       "    .dataframe thead th {\n",
       "        text-align: right;\n",
       "    }\n",
       "</style>\n",
       "<table border=\"1\" class=\"dataframe\">\n",
       "  <thead>\n",
       "    <tr style=\"text-align: right;\">\n",
       "      <th></th>\n",
       "      <th>0</th>\n",
       "      <th>1</th>\n",
       "      <th>2</th>\n",
       "      <th>3</th>\n",
       "      <th>4</th>\n",
       "      <th>5</th>\n",
       "      <th>6</th>\n",
       "      <th>7</th>\n",
       "      <th>8</th>\n",
       "      <th>9</th>\n",
       "      <th>...</th>\n",
       "      <th>109</th>\n",
       "      <th>110</th>\n",
       "      <th>111</th>\n",
       "      <th>112</th>\n",
       "      <th>113</th>\n",
       "      <th>114</th>\n",
       "      <th>115</th>\n",
       "      <th>116</th>\n",
       "      <th>117</th>\n",
       "      <th>Response</th>\n",
       "    </tr>\n",
       "  </thead>\n",
       "  <tbody>\n",
       "    <tr>\n",
       "      <th>40387</th>\n",
       "      <td>-0.090637</td>\n",
       "      <td>1.249023</td>\n",
       "      <td>-0.618652</td>\n",
       "      <td>-0.786133</td>\n",
       "      <td>-1.634766</td>\n",
       "      <td>-0.169434</td>\n",
       "      <td>0.862305</td>\n",
       "      <td>-1.013672</td>\n",
       "      <td>0.880859</td>\n",
       "      <td>-0.928711</td>\n",
       "      <td>...</td>\n",
       "      <td>11.945312</td>\n",
       "      <td>0.441650</td>\n",
       "      <td>-0.149292</td>\n",
       "      <td>-0.666992</td>\n",
       "      <td>-0.623535</td>\n",
       "      <td>-0.14209</td>\n",
       "      <td>-0.128906</td>\n",
       "      <td>0.750977</td>\n",
       "      <td>-0.215942</td>\n",
       "      <td>7</td>\n",
       "    </tr>\n",
       "    <tr>\n",
       "      <th>17090</th>\n",
       "      <td>-0.513672</td>\n",
       "      <td>-0.220581</td>\n",
       "      <td>0.062622</td>\n",
       "      <td>-0.481445</td>\n",
       "      <td>0.611816</td>\n",
       "      <td>-0.169434</td>\n",
       "      <td>0.862305</td>\n",
       "      <td>-1.013672</td>\n",
       "      <td>0.867676</td>\n",
       "      <td>-0.928711</td>\n",
       "      <td>...</td>\n",
       "      <td>-0.083679</td>\n",
       "      <td>0.441650</td>\n",
       "      <td>-0.149292</td>\n",
       "      <td>-0.200073</td>\n",
       "      <td>-0.623535</td>\n",
       "      <td>-0.14209</td>\n",
       "      <td>-0.128906</td>\n",
       "      <td>0.750977</td>\n",
       "      <td>-0.215942</td>\n",
       "      <td>6</td>\n",
       "    </tr>\n",
       "    <tr>\n",
       "      <th>21687</th>\n",
       "      <td>0.426270</td>\n",
       "      <td>1.003906</td>\n",
       "      <td>1.046875</td>\n",
       "      <td>-0.081970</td>\n",
       "      <td>-1.634766</td>\n",
       "      <td>-0.169434</td>\n",
       "      <td>0.862305</td>\n",
       "      <td>-1.013672</td>\n",
       "      <td>0.869629</td>\n",
       "      <td>-0.928711</td>\n",
       "      <td>...</td>\n",
       "      <td>-0.083679</td>\n",
       "      <td>0.441650</td>\n",
       "      <td>-0.149292</td>\n",
       "      <td>-1.133789</td>\n",
       "      <td>-0.623535</td>\n",
       "      <td>-0.14209</td>\n",
       "      <td>-0.128906</td>\n",
       "      <td>0.750977</td>\n",
       "      <td>-0.215942</td>\n",
       "      <td>7</td>\n",
       "    </tr>\n",
       "    <tr>\n",
       "      <th>40073</th>\n",
       "      <td>0.567383</td>\n",
       "      <td>1.003906</td>\n",
       "      <td>1.878906</td>\n",
       "      <td>0.075378</td>\n",
       "      <td>0.611816</td>\n",
       "      <td>-0.169434</td>\n",
       "      <td>0.862305</td>\n",
       "      <td>0.043671</td>\n",
       "      <td>0.861328</td>\n",
       "      <td>-0.928711</td>\n",
       "      <td>...</td>\n",
       "      <td>-0.083679</td>\n",
       "      <td>0.441650</td>\n",
       "      <td>-0.149292</td>\n",
       "      <td>-1.133789</td>\n",
       "      <td>-0.623535</td>\n",
       "      <td>-0.14209</td>\n",
       "      <td>-0.128906</td>\n",
       "      <td>0.750977</td>\n",
       "      <td>-0.215942</td>\n",
       "      <td>5</td>\n",
       "    </tr>\n",
       "    <tr>\n",
       "      <th>3408</th>\n",
       "      <td>-0.395996</td>\n",
       "      <td>-0.220581</td>\n",
       "      <td>0.516602</td>\n",
       "      <td>-0.329834</td>\n",
       "      <td>0.611816</td>\n",
       "      <td>-0.169434</td>\n",
       "      <td>0.862305</td>\n",
       "      <td>0.043671</td>\n",
       "      <td>0.867676</td>\n",
       "      <td>-0.928711</td>\n",
       "      <td>...</td>\n",
       "      <td>-0.083679</td>\n",
       "      <td>-2.263672</td>\n",
       "      <td>-0.149292</td>\n",
       "      <td>-0.200073</td>\n",
       "      <td>-0.623535</td>\n",
       "      <td>-0.14209</td>\n",
       "      <td>-0.128906</td>\n",
       "      <td>0.750977</td>\n",
       "      <td>-0.215942</td>\n",
       "      <td>6</td>\n",
       "    </tr>\n",
       "  </tbody>\n",
       "</table>\n",
       "<p>5 rows × 119 columns</p>\n",
       "</div>"
      ],
      "text/plain": [
       "              0         1         2         3         4         5         6  \\\n",
       "40387 -0.090637  1.249023 -0.618652 -0.786133 -1.634766 -0.169434  0.862305   \n",
       "17090 -0.513672 -0.220581  0.062622 -0.481445  0.611816 -0.169434  0.862305   \n",
       "21687  0.426270  1.003906  1.046875 -0.081970 -1.634766 -0.169434  0.862305   \n",
       "40073  0.567383  1.003906  1.878906  0.075378  0.611816 -0.169434  0.862305   \n",
       "3408  -0.395996 -0.220581  0.516602 -0.329834  0.611816 -0.169434  0.862305   \n",
       "\n",
       "              7         8         9  ...        109       110       111  \\\n",
       "40387 -1.013672  0.880859 -0.928711  ...  11.945312  0.441650 -0.149292   \n",
       "17090 -1.013672  0.867676 -0.928711  ...  -0.083679  0.441650 -0.149292   \n",
       "21687 -1.013672  0.869629 -0.928711  ...  -0.083679  0.441650 -0.149292   \n",
       "40073  0.043671  0.861328 -0.928711  ...  -0.083679  0.441650 -0.149292   \n",
       "3408   0.043671  0.867676 -0.928711  ...  -0.083679 -2.263672 -0.149292   \n",
       "\n",
       "            112       113      114       115       116       117  Response  \n",
       "40387 -0.666992 -0.623535 -0.14209 -0.128906  0.750977 -0.215942         7  \n",
       "17090 -0.200073 -0.623535 -0.14209 -0.128906  0.750977 -0.215942         6  \n",
       "21687 -1.133789 -0.623535 -0.14209 -0.128906  0.750977 -0.215942         7  \n",
       "40073 -1.133789 -0.623535 -0.14209 -0.128906  0.750977 -0.215942         5  \n",
       "3408  -0.200073 -0.623535 -0.14209 -0.128906  0.750977 -0.215942         6  \n",
       "\n",
       "[5 rows x 119 columns]"
      ]
     },
     "execution_count": 4,
     "metadata": {},
     "output_type": "execute_result"
    }
   ],
   "source": [
    "data_train, data_test = train_test_split(data_transformed, test_size=.2, random_state=GRAIN)\n",
    "data_train.head()"
   ]
  },
  {
   "cell_type": "markdown",
   "id": "8a5bd76d",
   "metadata": {},
   "source": [
    "### XGBoost = градиентный бустинг деревьев решений\n",
    "![](https://static.learme.ru/storage/uploads/editor/VOKWrS5HbJvj1HXwgJWVCbPee9leV6B5YXvAsbcy.png)\n",
    "\n",
    "Строится решающее дерево, проверяется, после этого строится новое дерево, которое исправляет ошибки первого (используется последовательное применение моделей). И так - несколько итераций или до достижения нужной точности предсказания.\n",
    "\n",
    "Основное отличие XGBoost от обычного градиентного бустинга - в использовании второй производной ошибки, из-за этого сходимость ансамбля лучше. Также XGBoost позволяет распараллелить вычисления.\n",
    "\n",
    "Будем использовать параметры случайного леса для модели."
   ]
  },
  {
   "cell_type": "code",
   "execution_count": 5,
   "id": "a237e482",
   "metadata": {},
   "outputs": [
    {
     "name": "stdout",
     "output_type": "stream",
     "text": [
      "CPU times: total: 11min 10s\n",
      "Wall time: 48.1 s\n"
     ]
    }
   ],
   "source": [
    "%%time\n",
    "model = XGBClassifier(\n",
    "    max_depth=15, n_estimators=76 #, max_features=27, min_samples_leaf=19\n",
    ").fit(data_train[columns_transformed], data_train['Response'])"
   ]
  },
  {
   "cell_type": "markdown",
   "id": "33d82357",
   "metadata": {},
   "source": [
    "### Предсказание данных и оценка модели"
   ]
  },
  {
   "cell_type": "code",
   "execution_count": 6,
   "id": "f1191b34",
   "metadata": {},
   "outputs": [],
   "source": [
    "data_test['target'] = model.predict(data_test[columns_transformed])"
   ]
  },
  {
   "cell_type": "markdown",
   "id": "9e3f68bb",
   "metadata": {},
   "source": [
    "Кластеризация дает 0.192, kNN(100) - 0.3, лог. регрессия - 0.512/0.496, SVM - 0.95, реш. дерево - 0.3, случайный лес - 0.487"
   ]
  },
  {
   "cell_type": "code",
   "execution_count": 7,
   "id": "e267a74a",
   "metadata": {},
   "outputs": [
    {
     "name": "stdout",
     "output_type": "stream",
     "text": [
      "XGBoost: 0.534\n"
     ]
    }
   ],
   "source": [
    "print(\"XGBoost:\", round(cohen_kappa_score(data_test[\"target\"], data_test[\"Response\"], weights=\"quadratic\"), 3))"
   ]
  },
  {
   "cell_type": "markdown",
   "id": "8ad6fd68",
   "metadata": {},
   "source": [
    "### Матрица неточностей"
   ]
  },
  {
   "cell_type": "code",
   "execution_count": 8,
   "id": "416d2bd3",
   "metadata": {},
   "outputs": [
    {
     "name": "stdout",
     "output_type": "stream",
     "text": [
      "XGBoost\n",
      " [[ 267  164   16   13   66  112   48   33]\n",
      " [ 193  298   16    7   92  110   38   27]\n",
      " [  20   27   75   21    2    0    0    0]\n",
      " [  42   30   60  215    0    5    0    1]\n",
      " [ 108  141    8    0  582  107   13   14]\n",
      " [ 236  252   19   21  172 1178  246  158]\n",
      " [ 139  137    3    6   62  282  722  209]\n",
      " [ 233  258    5   33   88  442  495 3510]]\n"
     ]
    }
   ],
   "source": [
    "print(\"XGBoost\\n\", confusion_matrix(data_test[\"target\"], data_test[\"Response\"]))"
   ]
  }
 ],
 "metadata": {
  "kernelspec": {
   "display_name": "Python 3 (ipykernel)",
   "language": "python",
   "name": "python3"
  },
  "language_info": {
   "codemirror_mode": {
    "name": "ipython",
    "version": 3
   },
   "file_extension": ".py",
   "mimetype": "text/x-python",
   "name": "python",
   "nbconvert_exporter": "python",
   "pygments_lexer": "ipython3",
   "version": "3.10.4"
  }
 },
 "nbformat": 4,
 "nbformat_minor": 5
}
