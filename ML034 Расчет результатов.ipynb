{
 "cells": [
  {
   "cell_type": "markdown",
   "id": "37ccfd18",
   "metadata": {},
   "source": [
    "## Постановка задачи\n",
    "Загрузим данные, приведем их к числовым, заполним пропуски, нормализуем данные и оптимизируем память.\n",
    "\n",
    "Построим LightGBM модель с оптимальными параметрами. Выгрузим результаты расчетов в требуемом формате.\n",
    "\n",
    "Данные:\n",
    "* https://video.ittensive.com/machine-learning/prudential/train.csv.gz\n",
    "* https://video.ittensive.com/machine-learning/prudential/test.csv.gz\n",
    "* https://video.ittensive.com/machine-learning/prudential/sample_submission.csv.gz\n",
    "\n",
    "Соревнование: https://www.kaggle.com/c/prudential-life-insurance-assessment/\n",
    "\n",
    "© ITtensive, 2020"
   ]
  },
  {
   "cell_type": "code",
   "execution_count": 1,
   "id": "a003e056",
   "metadata": {},
   "outputs": [],
   "source": [
    "GRAIN = 11\n",
    "import pandas as pd\n",
    "import numpy as np\n",
    "from sklearn.model_selection import train_test_split\n",
    "from sklearn.metrics import cohen_kappa_score, confusion_matrix\n",
    "import lightgbm as lgb\n",
    "from sklearn import preprocessing\n",
    "from etl_utils import reduce_mem_usage\n",
    "\n",
    "\n",
    "data = pd.read_csv(\"https://video.ittensive.com/machine-learning/prudential/train.csv.gz\")"
   ]
  },
  {
   "cell_type": "markdown",
   "id": "14fe97bd",
   "metadata": {},
   "source": [
    "### Предобработка данных"
   ]
  },
  {
   "cell_type": "code",
   "execution_count": 2,
   "id": "9dcab5c9",
   "metadata": {},
   "outputs": [],
   "source": [
    "def data_preprocess(df: pd.DataFrame) -> pd.DataFrame:\n",
    "    df['Product_Info_2_1'] = df['Product_Info_2'].str.slice(0, 1)\n",
    "    df['Product_Info_2_2'] = pd.to_numeric(df['Product_Info_2'].str.slice(1, 2))\n",
    "    df = df.drop('Product_Info_2', axis='columns')\n",
    "\n",
    "    onehot_df = pd.get_dummies(df['Product_Info_2_1'])\n",
    "    onehot_df.columns = ['Product_Info_2_1' + column for column in onehot_df.columns]\n",
    "    df = pd.merge(left=df, right=onehot_df, left_index=True, right_index=True).drop('Product_Info_2_1', axis=1).fillna(-1)\n",
    "    del onehot_df\n",
    "\n",
    "    if 'Response' in df.columns:\n",
    "        df['Response'] = df['Response'] - 1\n",
    "    return df"
   ]
  },
  {
   "cell_type": "code",
   "execution_count": 3,
   "id": "3b2ce395",
   "metadata": {},
   "outputs": [],
   "source": [
    "data = data_preprocess(data)"
   ]
  },
  {
   "cell_type": "markdown",
   "id": "69bd64f9",
   "metadata": {},
   "source": [
    "### Набор столбцов для расчета"
   ]
  },
  {
   "cell_type": "code",
   "execution_count": 4,
   "id": "50637953",
   "metadata": {},
   "outputs": [
    {
     "name": "stdout",
     "output_type": "stream",
     "text": [
      "['Wt', 'Ht', 'Ins_Age', 'BMI', 'Insurance_History_1', 'Insurance_History_2', 'Insurance_History_3', 'Insurance_History_4', 'Insurance_History_5', 'Insurance_History_7', 'Insurance_History_8', 'Insurance_History_9', 'Medical_Keyword_1', 'Medical_Keyword_2', 'Medical_Keyword_3', 'Medical_Keyword_4', 'Medical_Keyword_5', 'Medical_Keyword_6', 'Medical_Keyword_7', 'Medical_Keyword_8', 'Medical_Keyword_9', 'Medical_Keyword_10', 'Medical_Keyword_11', 'Medical_Keyword_12', 'Medical_Keyword_13', 'Medical_Keyword_14', 'Medical_Keyword_15', 'Medical_Keyword_16', 'Medical_Keyword_17', 'Medical_Keyword_18', 'Medical_Keyword_19', 'Medical_Keyword_20', 'Medical_Keyword_21', 'Medical_Keyword_22', 'Medical_Keyword_23', 'Medical_Keyword_24', 'Medical_Keyword_25', 'Medical_Keyword_26', 'Medical_Keyword_27', 'Medical_Keyword_28', 'Medical_Keyword_29', 'Medical_Keyword_30', 'Medical_Keyword_31', 'Medical_Keyword_32', 'Medical_Keyword_33', 'Medical_Keyword_34', 'Medical_Keyword_35', 'Medical_Keyword_36', 'Medical_Keyword_37', 'Medical_Keyword_38', 'Medical_Keyword_39', 'Medical_Keyword_40', 'Medical_Keyword_41', 'Medical_Keyword_42', 'Medical_Keyword_43', 'Medical_Keyword_44', 'Medical_Keyword_45', 'Medical_Keyword_46', 'Medical_Keyword_47', 'Medical_Keyword_48', 'Family_Hist_1', 'Family_Hist_2', 'Family_Hist_3', 'Family_Hist_4', 'Family_Hist_5', 'Medical_History_1', 'Medical_History_2', 'Medical_History_3', 'Medical_History_4', 'Medical_History_5', 'Medical_History_6', 'Medical_History_7', 'Medical_History_8', 'Medical_History_9', 'Medical_History_10', 'Medical_History_11', 'Medical_History_12', 'Medical_History_13', 'Medical_History_14', 'Medical_History_15', 'Medical_History_16', 'Medical_History_17', 'Medical_History_18', 'Medical_History_19', 'Medical_History_20', 'Medical_History_21', 'Medical_History_22', 'Medical_History_23', 'Medical_History_24', 'Medical_History_25', 'Medical_History_26', 'Medical_History_27', 'Medical_History_28', 'Medical_History_29', 'Medical_History_30', 'Medical_History_31', 'Medical_History_32', 'Medical_History_33', 'Medical_History_34', 'Medical_History_35', 'Medical_History_36', 'Medical_History_37', 'Medical_History_38', 'Medical_History_39', 'Medical_History_40', 'Medical_History_41', 'Product_Info_1', 'Product_Info_3', 'Product_Info_4', 'Product_Info_5', 'Product_Info_6', 'Product_Info_7', 'Product_Info_2_2', 'Product_Info_2_1A', 'Product_Info_2_1B', 'Product_Info_2_1C', 'Product_Info_2_1D', 'Product_Info_2_1E']\n"
     ]
    }
   ],
   "source": [
    "columns_groups = ['Insurance_History', 'InsurеdInfo', 'Medical_Keyword', 'Family_Hist', 'Medical_History', 'Product_Info']\n",
    "columns = ['Wt', 'Ht', 'Ins_Age', 'BMI']\n",
    "for cg in columns_groups:\n",
    "    columns.extend(data.columns[data.columns.str.startswith(cg)])\n",
    "print(columns)"
   ]
  },
  {
   "cell_type": "markdown",
   "id": "62e68afb",
   "metadata": {},
   "source": [
    "### Нормализация данных"
   ]
  },
  {
   "cell_type": "code",
   "execution_count": 5,
   "id": "668739f4",
   "metadata": {},
   "outputs": [
    {
     "name": "stdout",
     "output_type": "stream",
     "text": [
      "Потребление памяти меньше на 40.49 Мб (-75.1%)\n"
     ]
    }
   ],
   "source": [
    "scaler = preprocessing.StandardScaler()\n",
    "data_transformed = pd.DataFrame(scaler.fit_transform(data[columns]))\n",
    "columns_transformed = data_transformed.columns\n",
    "data_transformed['Response'] = data['Response']\n",
    "data_transformed = reduce_mem_usage(data_transformed)"
   ]
  },
  {
   "cell_type": "markdown",
   "id": "5b5e8087",
   "metadata": {},
   "source": [
    "### LightGBM\n",
    "Рассчитаем модель по оптимальным показателям. Возможно уточнение/дообучение уже на всей выборке без разбиения на обучающую/тестовую."
   ]
  },
  {
   "cell_type": "code",
   "execution_count": 6,
   "id": "9a53efcb",
   "metadata": {},
   "outputs": [],
   "source": [
    "model = lgb.LGBMRegressor(\n",
    "    random_state=GRAIN, max_depth=17, min_child_samples=18, num_leaves=35, n_estimators=1000\n",
    ").fit(data_transformed[columns_transformed], data['Response'])"
   ]
  },
  {
   "cell_type": "markdown",
   "id": "b2b29ada",
   "metadata": {},
   "source": [
    "### Загрузка данных для расчетов\n",
    "Применим построенную модель для расчета актуальных данных.\n",
    "\n",
    "Будем использовать ранее рассчитанные значения нормализация данных."
   ]
  },
  {
   "cell_type": "code",
   "execution_count": 10,
   "id": "4af2054e",
   "metadata": {},
   "outputs": [
    {
     "name": "stdout",
     "output_type": "stream",
     "text": [
      "Потребление памяти меньше на 16.34 Мб (-84.9%)\n",
      "Потребление памяти меньше на 13.35 Мб (-75.0%)\n",
      "<class 'pandas.core.frame.DataFrame'>\n",
      "RangeIndex: 19765 entries, 0 to 19764\n",
      "Columns: 118 entries, 0 to 117\n",
      "dtypes: float16(118)\n",
      "memory usage: 4.4 MB\n"
     ]
    }
   ],
   "source": [
    "data_test = pd.read_csv(\"https://video.ittensive.com/machine-learning/prudential/test.csv.gz\")\n",
    "data_test = reduce_mem_usage(data_preprocess(data_test))\n",
    "data_test_transformed = reduce_mem_usage(pd.DataFrame(scaler.transform(data_test[columns])))\n",
    "data_test_transformed.info()"
   ]
  },
  {
   "cell_type": "markdown",
   "id": "2a1ccdd8",
   "metadata": {},
   "source": [
    "### Предсказание данных и оценка модели\n",
    "LightGBM возвращает дробное значение класса, его нужно округлить.\n",
    "\n",
    "Дополнительно приведем значение класса к диапазону 1...8"
   ]
  },
  {
   "cell_type": "code",
   "execution_count": 11,
   "id": "b8a16c2c",
   "metadata": {},
   "outputs": [
    {
     "data": {
      "text/html": [
       "<div>\n",
       "<style scoped>\n",
       "    .dataframe tbody tr th:only-of-type {\n",
       "        vertical-align: middle;\n",
       "    }\n",
       "\n",
       "    .dataframe tbody tr th {\n",
       "        vertical-align: top;\n",
       "    }\n",
       "\n",
       "    .dataframe thead th {\n",
       "        text-align: right;\n",
       "    }\n",
       "</style>\n",
       "<table border=\"1\" class=\"dataframe\">\n",
       "  <thead>\n",
       "    <tr style=\"text-align: right;\">\n",
       "      <th></th>\n",
       "      <th>0</th>\n",
       "      <th>1</th>\n",
       "      <th>2</th>\n",
       "      <th>3</th>\n",
       "      <th>4</th>\n",
       "      <th>5</th>\n",
       "      <th>6</th>\n",
       "      <th>7</th>\n",
       "      <th>8</th>\n",
       "      <th>9</th>\n",
       "      <th>...</th>\n",
       "      <th>109</th>\n",
       "      <th>110</th>\n",
       "      <th>111</th>\n",
       "      <th>112</th>\n",
       "      <th>113</th>\n",
       "      <th>114</th>\n",
       "      <th>115</th>\n",
       "      <th>116</th>\n",
       "      <th>117</th>\n",
       "      <th>Response</th>\n",
       "    </tr>\n",
       "  </thead>\n",
       "  <tbody>\n",
       "    <tr>\n",
       "      <th>0</th>\n",
       "      <td>0.520020</td>\n",
       "      <td>1.002930</td>\n",
       "      <td>1.045898</td>\n",
       "      <td>0.022141</td>\n",
       "      <td>0.611816</td>\n",
       "      <td>-0.169434</td>\n",
       "      <td>-1.159180</td>\n",
       "      <td>1.100586</td>\n",
       "      <td>-1.156250</td>\n",
       "      <td>1.130859</td>\n",
       "      <td>...</td>\n",
       "      <td>-0.083679</td>\n",
       "      <td>0.441650</td>\n",
       "      <td>-0.149292</td>\n",
       "      <td>-0.200073</td>\n",
       "      <td>-0.623535</td>\n",
       "      <td>-0.14209</td>\n",
       "      <td>-0.128906</td>\n",
       "      <td>0.750977</td>\n",
       "      <td>-0.215942</td>\n",
       "      <td>4.0</td>\n",
       "    </tr>\n",
       "    <tr>\n",
       "      <th>1</th>\n",
       "      <td>0.215454</td>\n",
       "      <td>0.266357</td>\n",
       "      <td>1.123047</td>\n",
       "      <td>0.125977</td>\n",
       "      <td>-1.634766</td>\n",
       "      <td>-0.169434</td>\n",
       "      <td>0.862305</td>\n",
       "      <td>-1.013672</td>\n",
       "      <td>0.864258</td>\n",
       "      <td>-0.928711</td>\n",
       "      <td>...</td>\n",
       "      <td>-0.083679</td>\n",
       "      <td>0.441650</td>\n",
       "      <td>-0.149292</td>\n",
       "      <td>-0.666992</td>\n",
       "      <td>1.604492</td>\n",
       "      <td>-0.14209</td>\n",
       "      <td>-0.128906</td>\n",
       "      <td>-1.332031</td>\n",
       "      <td>-0.215942</td>\n",
       "      <td>6.0</td>\n",
       "    </tr>\n",
       "    <tr>\n",
       "      <th>2</th>\n",
       "      <td>0.308594</td>\n",
       "      <td>0.022919</td>\n",
       "      <td>0.895020</td>\n",
       "      <td>0.405762</td>\n",
       "      <td>0.611816</td>\n",
       "      <td>-0.169434</td>\n",
       "      <td>-1.159180</td>\n",
       "      <td>1.100586</td>\n",
       "      <td>-1.156250</td>\n",
       "      <td>1.130859</td>\n",
       "      <td>...</td>\n",
       "      <td>-0.083679</td>\n",
       "      <td>0.441650</td>\n",
       "      <td>-0.149292</td>\n",
       "      <td>-0.200073</td>\n",
       "      <td>-0.623535</td>\n",
       "      <td>-0.14209</td>\n",
       "      <td>-0.128906</td>\n",
       "      <td>0.750977</td>\n",
       "      <td>-0.215942</td>\n",
       "      <td>6.0</td>\n",
       "    </tr>\n",
       "    <tr>\n",
       "      <th>3</th>\n",
       "      <td>-0.278076</td>\n",
       "      <td>-0.707031</td>\n",
       "      <td>0.592773</td>\n",
       "      <td>0.144043</td>\n",
       "      <td>-1.634766</td>\n",
       "      <td>-0.169434</td>\n",
       "      <td>0.862305</td>\n",
       "      <td>-1.013672</td>\n",
       "      <td>0.862305</td>\n",
       "      <td>0.100891</td>\n",
       "      <td>...</td>\n",
       "      <td>-0.083679</td>\n",
       "      <td>-2.263672</td>\n",
       "      <td>-0.149292</td>\n",
       "      <td>-1.133789</td>\n",
       "      <td>1.604492</td>\n",
       "      <td>-0.14209</td>\n",
       "      <td>-0.128906</td>\n",
       "      <td>-1.332031</td>\n",
       "      <td>-0.215942</td>\n",
       "      <td>7.0</td>\n",
       "    </tr>\n",
       "    <tr>\n",
       "      <th>4</th>\n",
       "      <td>-0.514160</td>\n",
       "      <td>-0.463867</td>\n",
       "      <td>-0.542480</td>\n",
       "      <td>-0.333496</td>\n",
       "      <td>0.611816</td>\n",
       "      <td>-0.169434</td>\n",
       "      <td>-1.159180</td>\n",
       "      <td>1.100586</td>\n",
       "      <td>-1.156250</td>\n",
       "      <td>1.130859</td>\n",
       "      <td>...</td>\n",
       "      <td>-0.083679</td>\n",
       "      <td>0.441650</td>\n",
       "      <td>-0.149292</td>\n",
       "      <td>-1.133789</td>\n",
       "      <td>1.604492</td>\n",
       "      <td>-0.14209</td>\n",
       "      <td>-0.128906</td>\n",
       "      <td>-1.332031</td>\n",
       "      <td>-0.215942</td>\n",
       "      <td>6.0</td>\n",
       "    </tr>\n",
       "  </tbody>\n",
       "</table>\n",
       "<p>5 rows × 119 columns</p>\n",
       "</div>"
      ],
      "text/plain": [
       "          0         1         2         3         4         5         6  \\\n",
       "0  0.520020  1.002930  1.045898  0.022141  0.611816 -0.169434 -1.159180   \n",
       "1  0.215454  0.266357  1.123047  0.125977 -1.634766 -0.169434  0.862305   \n",
       "2  0.308594  0.022919  0.895020  0.405762  0.611816 -0.169434 -1.159180   \n",
       "3 -0.278076 -0.707031  0.592773  0.144043 -1.634766 -0.169434  0.862305   \n",
       "4 -0.514160 -0.463867 -0.542480 -0.333496  0.611816 -0.169434 -1.159180   \n",
       "\n",
       "          7         8         9  ...       109       110       111       112  \\\n",
       "0  1.100586 -1.156250  1.130859  ... -0.083679  0.441650 -0.149292 -0.200073   \n",
       "1 -1.013672  0.864258 -0.928711  ... -0.083679  0.441650 -0.149292 -0.666992   \n",
       "2  1.100586 -1.156250  1.130859  ... -0.083679  0.441650 -0.149292 -0.200073   \n",
       "3 -1.013672  0.862305  0.100891  ... -0.083679 -2.263672 -0.149292 -1.133789   \n",
       "4  1.100586 -1.156250  1.130859  ... -0.083679  0.441650 -0.149292 -1.133789   \n",
       "\n",
       "        113      114       115       116       117  Response  \n",
       "0 -0.623535 -0.14209 -0.128906  0.750977 -0.215942       4.0  \n",
       "1  1.604492 -0.14209 -0.128906 -1.332031 -0.215942       6.0  \n",
       "2 -0.623535 -0.14209 -0.128906  0.750977 -0.215942       6.0  \n",
       "3  1.604492 -0.14209 -0.128906 -1.332031 -0.215942       7.0  \n",
       "4  1.604492 -0.14209 -0.128906 -1.332031 -0.215942       6.0  \n",
       "\n",
       "[5 rows x 119 columns]"
      ]
     },
     "execution_count": 11,
     "metadata": {},
     "output_type": "execute_result"
    }
   ],
   "source": [
    "data_test_transformed['Response'] = np.round(model.predict(data_test_transformed)) + 1\n",
    "data_test_transformed['Response'] = (\n",
    "    data_test_transformed['Response'].apply(lambda x: 1 if x < 1 else 8 if x > 8 else x)\n",
    ")\n",
    "data_test_transformed.head()"
   ]
  },
  {
   "cell_type": "markdown",
   "id": "4a250556",
   "metadata": {},
   "source": [
    "### Формирование результатов\n",
    "Загрузим пример данных для отправки и заменим в нем столбец Response на рассчитанный ранее."
   ]
  },
  {
   "cell_type": "code",
   "execution_count": 13,
   "id": "7519fac8",
   "metadata": {},
   "outputs": [
    {
     "data": {
      "text/html": [
       "<div>\n",
       "<style scoped>\n",
       "    .dataframe tbody tr th:only-of-type {\n",
       "        vertical-align: middle;\n",
       "    }\n",
       "\n",
       "    .dataframe tbody tr th {\n",
       "        vertical-align: top;\n",
       "    }\n",
       "\n",
       "    .dataframe thead th {\n",
       "        text-align: right;\n",
       "    }\n",
       "</style>\n",
       "<table border=\"1\" class=\"dataframe\">\n",
       "  <thead>\n",
       "    <tr style=\"text-align: right;\">\n",
       "      <th></th>\n",
       "      <th>Id</th>\n",
       "      <th>Response</th>\n",
       "    </tr>\n",
       "  </thead>\n",
       "  <tbody>\n",
       "    <tr>\n",
       "      <th>0</th>\n",
       "      <td>1</td>\n",
       "      <td>8</td>\n",
       "    </tr>\n",
       "    <tr>\n",
       "      <th>1</th>\n",
       "      <td>3</td>\n",
       "      <td>8</td>\n",
       "    </tr>\n",
       "    <tr>\n",
       "      <th>2</th>\n",
       "      <td>4</td>\n",
       "      <td>8</td>\n",
       "    </tr>\n",
       "    <tr>\n",
       "      <th>3</th>\n",
       "      <td>9</td>\n",
       "      <td>8</td>\n",
       "    </tr>\n",
       "    <tr>\n",
       "      <th>4</th>\n",
       "      <td>12</td>\n",
       "      <td>8</td>\n",
       "    </tr>\n",
       "  </tbody>\n",
       "</table>\n",
       "</div>"
      ],
      "text/plain": [
       "   Id  Response\n",
       "0   1         8\n",
       "1   3         8\n",
       "2   4         8\n",
       "3   9         8\n",
       "4  12         8"
      ]
     },
     "execution_count": 13,
     "metadata": {},
     "output_type": "execute_result"
    }
   ],
   "source": [
    "submission = pd.read_csv(\"https://video.ittensive.com/machine-learning/prudential/sample_submission.csv.gz\")\n",
    "submission.head()"
   ]
  },
  {
   "cell_type": "code",
   "execution_count": 14,
   "id": "3f70f8da",
   "metadata": {},
   "outputs": [
    {
     "data": {
      "text/html": [
       "<div>\n",
       "<style scoped>\n",
       "    .dataframe tbody tr th:only-of-type {\n",
       "        vertical-align: middle;\n",
       "    }\n",
       "\n",
       "    .dataframe tbody tr th {\n",
       "        vertical-align: top;\n",
       "    }\n",
       "\n",
       "    .dataframe thead th {\n",
       "        text-align: right;\n",
       "    }\n",
       "</style>\n",
       "<table border=\"1\" class=\"dataframe\">\n",
       "  <thead>\n",
       "    <tr style=\"text-align: right;\">\n",
       "      <th></th>\n",
       "      <th>Id</th>\n",
       "      <th>Response</th>\n",
       "    </tr>\n",
       "  </thead>\n",
       "  <tbody>\n",
       "    <tr>\n",
       "      <th>0</th>\n",
       "      <td>1</td>\n",
       "      <td>4</td>\n",
       "    </tr>\n",
       "    <tr>\n",
       "      <th>1</th>\n",
       "      <td>3</td>\n",
       "      <td>6</td>\n",
       "    </tr>\n",
       "    <tr>\n",
       "      <th>2</th>\n",
       "      <td>4</td>\n",
       "      <td>6</td>\n",
       "    </tr>\n",
       "    <tr>\n",
       "      <th>3</th>\n",
       "      <td>9</td>\n",
       "      <td>7</td>\n",
       "    </tr>\n",
       "    <tr>\n",
       "      <th>4</th>\n",
       "      <td>12</td>\n",
       "      <td>6</td>\n",
       "    </tr>\n",
       "  </tbody>\n",
       "</table>\n",
       "</div>"
      ],
      "text/plain": [
       "   Id  Response\n",
       "0   1         4\n",
       "1   3         6\n",
       "2   4         6\n",
       "3   9         7\n",
       "4  12         6"
      ]
     },
     "execution_count": 14,
     "metadata": {},
     "output_type": "execute_result"
    }
   ],
   "source": [
    "submission['Response'] = data_test_transformed['Response'].astype('int8')\n",
    "submission.head()"
   ]
  },
  {
   "cell_type": "markdown",
   "id": "03a86760",
   "metadata": {},
   "source": [
    "### Выгрузка результатов"
   ]
  },
  {
   "cell_type": "code",
   "execution_count": 15,
   "id": "697a8254",
   "metadata": {},
   "outputs": [],
   "source": [
    "submission.to_csv('submission', index=False)"
   ]
  }
 ],
 "metadata": {
  "kernelspec": {
   "display_name": "Python 3 (ipykernel)",
   "language": "python",
   "name": "python3"
  },
  "language_info": {
   "codemirror_mode": {
    "name": "ipython",
    "version": 3
   },
   "file_extension": ".py",
   "mimetype": "text/x-python",
   "name": "python",
   "nbconvert_exporter": "python",
   "pygments_lexer": "ipython3",
   "version": "3.10.4"
  }
 },
 "nbformat": 4,
 "nbformat_minor": 5
}
